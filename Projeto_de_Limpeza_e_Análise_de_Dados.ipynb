{
  "nbformat": 4,
  "nbformat_minor": 0,
  "metadata": {
    "colab": {
      "name": "Projeto de Limpeza e Análise de Dados",
      "provenance": [],
      "collapsed_sections": []
    },
    "kernelspec": {
      "name": "python3",
      "display_name": "Python 3"
    },
    "language_info": {
      "name": "python"
    }
  },
  "cells": [
    {
      "cell_type": "markdown",
      "metadata": {
        "id": "CJnxE-lFhDes"
      },
      "source": [
        "#Limpeza e Análise de Dados\n",
        "\n",
        "##Importação das Bibliotecas e criação do DataFrame\n",
        "\n",
        "Iniciei importando as bibliotecas mais relevantes para a análise e limpeza aqui objetivadas, além de ter criado o DataFrame a partir do arquivo oferecido em formato .csv. Para index, estipulei a primeira coluna e imprimi as cinco primeiras linhas."
      ]
    },
    {
      "cell_type": "code",
      "metadata": {
        "id": "lPF1V48Vg8Zy"
      },
      "source": [
        "import numpy as np\n",
        "import pandas as pd\n",
        "import matplotlib.pyplot as plt\n",
        "import seaborn as sns"
      ],
      "execution_count": 2,
      "outputs": []
    },
    {
      "cell_type": "code",
      "metadata": {
        "colab": {
          "base_uri": "https://localhost:8080/",
          "height": 320
        },
        "id": "ClVw8e_Fh9lx",
        "outputId": "41722ee0-16f6-41f2-9627-17e4b422725e"
      },
      "source": [
        "df = pd.read_csv(\"df_athlete_events.csv\", index_col=0)\n",
        "df.head(5)"
      ],
      "execution_count": 3,
      "outputs": [
        {
          "output_type": "execute_result",
          "data": {
            "text/html": [
              "<div>\n",
              "<style scoped>\n",
              "    .dataframe tbody tr th:only-of-type {\n",
              "        vertical-align: middle;\n",
              "    }\n",
              "\n",
              "    .dataframe tbody tr th {\n",
              "        vertical-align: top;\n",
              "    }\n",
              "\n",
              "    .dataframe thead th {\n",
              "        text-align: right;\n",
              "    }\n",
              "</style>\n",
              "<table border=\"1\" class=\"dataframe\">\n",
              "  <thead>\n",
              "    <tr style=\"text-align: right;\">\n",
              "      <th></th>\n",
              "      <th>Name</th>\n",
              "      <th>Sex</th>\n",
              "      <th>Age</th>\n",
              "      <th>Height</th>\n",
              "      <th>Weight</th>\n",
              "      <th>Team</th>\n",
              "      <th>NOC</th>\n",
              "      <th>Games</th>\n",
              "      <th>Year</th>\n",
              "      <th>Season</th>\n",
              "      <th>City</th>\n",
              "      <th>Sport</th>\n",
              "      <th>Event</th>\n",
              "      <th>Medal</th>\n",
              "    </tr>\n",
              "    <tr>\n",
              "      <th>Athlete_ID</th>\n",
              "      <th></th>\n",
              "      <th></th>\n",
              "      <th></th>\n",
              "      <th></th>\n",
              "      <th></th>\n",
              "      <th></th>\n",
              "      <th></th>\n",
              "      <th></th>\n",
              "      <th></th>\n",
              "      <th></th>\n",
              "      <th></th>\n",
              "      <th></th>\n",
              "      <th></th>\n",
              "      <th></th>\n",
              "    </tr>\n",
              "  </thead>\n",
              "  <tbody>\n",
              "    <tr>\n",
              "      <th>4</th>\n",
              "      <td>Edgar Lindenau Aabye</td>\n",
              "      <td>M</td>\n",
              "      <td>34.0</td>\n",
              "      <td>NaN</td>\n",
              "      <td>NaN</td>\n",
              "      <td>Denmark/Sweden</td>\n",
              "      <td>DEN</td>\n",
              "      <td>1900 Summer</td>\n",
              "      <td>1900</td>\n",
              "      <td>Summer</td>\n",
              "      <td>Paris</td>\n",
              "      <td>Tug-Of-War</td>\n",
              "      <td>Tug-Of-War Men's Tug-Of-War</td>\n",
              "      <td>Gold</td>\n",
              "    </tr>\n",
              "    <tr>\n",
              "      <th>6</th>\n",
              "      <td>Per Knut Aaland</td>\n",
              "      <td>M</td>\n",
              "      <td>31.0</td>\n",
              "      <td>188.0</td>\n",
              "      <td>75.0</td>\n",
              "      <td>United States</td>\n",
              "      <td>USA</td>\n",
              "      <td>1992 Winter</td>\n",
              "      <td>1992</td>\n",
              "      <td>Winter</td>\n",
              "      <td>Albertville</td>\n",
              "      <td>Cross Country Skiing</td>\n",
              "      <td>Cross Country Skiing Men's 10/15 kilometres Pu...</td>\n",
              "      <td>NaN</td>\n",
              "    </tr>\n",
              "    <tr>\n",
              "      <th>15</th>\n",
              "      <td>Arvo Ossian Aaltonen</td>\n",
              "      <td>M</td>\n",
              "      <td>30.0</td>\n",
              "      <td>NaN</td>\n",
              "      <td>NaN</td>\n",
              "      <td>Finland</td>\n",
              "      <td>FIN</td>\n",
              "      <td>1920 Summer</td>\n",
              "      <td>1920</td>\n",
              "      <td>Summer</td>\n",
              "      <td>Antwerpen</td>\n",
              "      <td>Swimming</td>\n",
              "      <td>Swimming Men's 200 metres Breaststroke</td>\n",
              "      <td>Bronze</td>\n",
              "    </tr>\n",
              "    <tr>\n",
              "      <th>15</th>\n",
              "      <td>Arvo Ossian Aaltonen</td>\n",
              "      <td>M</td>\n",
              "      <td>30.0</td>\n",
              "      <td>NaN</td>\n",
              "      <td>NaN</td>\n",
              "      <td>Finland</td>\n",
              "      <td>FIN</td>\n",
              "      <td>1920 Summer</td>\n",
              "      <td>1920</td>\n",
              "      <td>Summer</td>\n",
              "      <td>Antwerpen</td>\n",
              "      <td>Swimming</td>\n",
              "      <td>Swimming Men's 400 metres Breaststroke</td>\n",
              "      <td>Bronze</td>\n",
              "    </tr>\n",
              "    <tr>\n",
              "      <th>16</th>\n",
              "      <td>Juhamatti Tapio Aaltonen</td>\n",
              "      <td>M</td>\n",
              "      <td>28.0</td>\n",
              "      <td>184.0</td>\n",
              "      <td>85.0</td>\n",
              "      <td>Finland</td>\n",
              "      <td>FIN</td>\n",
              "      <td>2014 Winter</td>\n",
              "      <td>2014</td>\n",
              "      <td>Winter</td>\n",
              "      <td>Sochi</td>\n",
              "      <td>Ice Hockey</td>\n",
              "      <td>Ice Hockey Men's Ice Hockey</td>\n",
              "      <td>Bronze</td>\n",
              "    </tr>\n",
              "  </tbody>\n",
              "</table>\n",
              "</div>"
            ],
            "text/plain": [
              "                                Name  ...   Medal\n",
              "Athlete_ID                            ...        \n",
              "4               Edgar Lindenau Aabye  ...    Gold\n",
              "6                    Per Knut Aaland  ...     NaN\n",
              "15              Arvo Ossian Aaltonen  ...  Bronze\n",
              "15              Arvo Ossian Aaltonen  ...  Bronze\n",
              "16          Juhamatti Tapio Aaltonen  ...  Bronze\n",
              "\n",
              "[5 rows x 14 columns]"
            ]
          },
          "metadata": {},
          "execution_count": 3
        }
      ]
    },
    {
      "cell_type": "markdown",
      "metadata": {
        "id": "IMvBDp13U9QC"
      },
      "source": [
        "##Procedimentos da Limpeza e Descrição do DataFrame\n",
        "\n",
        "Primeiramente, removi duplicatas presentes no df, assim como os valores NaN."
      ]
    },
    {
      "cell_type": "code",
      "metadata": {
        "id": "llaH_sZ1VTdM"
      },
      "source": [
        "df = df.drop_duplicates()\n",
        "df = df.dropna()"
      ],
      "execution_count": 4,
      "outputs": []
    },
    {
      "cell_type": "markdown",
      "metadata": {
        "id": "lcweJU91VppD"
      },
      "source": [
        "Depois, explicitei a descrição do dataframe."
      ]
    },
    {
      "cell_type": "code",
      "metadata": {
        "colab": {
          "base_uri": "https://localhost:8080/"
        },
        "id": "R8M1_tFbVuRH",
        "outputId": "1e7da28e-122b-4d51-c75c-2a51c842d9a5"
      },
      "source": [
        "df.info()"
      ],
      "execution_count": 5,
      "outputs": [
        {
          "output_type": "stream",
          "name": "stdout",
          "text": [
            "<class 'pandas.core.frame.DataFrame'>\n",
            "Int64Index: 30203 entries, 16 to 135563\n",
            "Data columns (total 14 columns):\n",
            " #   Column  Non-Null Count  Dtype  \n",
            "---  ------  --------------  -----  \n",
            " 0   Name    30203 non-null  object \n",
            " 1   Sex     30203 non-null  object \n",
            " 2   Age     30203 non-null  float64\n",
            " 3   Height  30203 non-null  float64\n",
            " 4   Weight  30203 non-null  object \n",
            " 5   Team    30203 non-null  object \n",
            " 6   NOC     30203 non-null  object \n",
            " 7   Games   30203 non-null  object \n",
            " 8   Year    30203 non-null  int64  \n",
            " 9   Season  30203 non-null  object \n",
            " 10  City    30203 non-null  object \n",
            " 11  Sport   30203 non-null  object \n",
            " 12  Event   30203 non-null  object \n",
            " 13  Medal   30203 non-null  object \n",
            "dtypes: float64(2), int64(1), object(11)\n",
            "memory usage: 3.5+ MB\n"
          ]
        }
      ]
    },
    {
      "cell_type": "markdown",
      "metadata": {
        "id": "RiIvaW33XvHh"
      },
      "source": [
        "E percebi que, além de que a coluna Athlete_ID não será alterada (por não ser tida como object, então deduzi que não há valores strings nela), existe a necessidade de tratar dados categóricos e numéricos. Comecei com os categóricos, que fiz com a programação descrita abaixo e justifiquei, também a seguir.\n",
        "\n",
        "###Dados Categóricos"
      ]
    },
    {
      "cell_type": "code",
      "metadata": {
        "colab": {
          "base_uri": "https://localhost:8080/",
          "height": 173
        },
        "id": "_-dwT5S3X1gC",
        "outputId": "8b79b7d6-97f8-4868-9413-96e81e95ec0d"
      },
      "source": [
        "df.describe(include=[\"object\"])"
      ],
      "execution_count": 6,
      "outputs": [
        {
          "output_type": "execute_result",
          "data": {
            "text/html": [
              "<div>\n",
              "<style scoped>\n",
              "    .dataframe tbody tr th:only-of-type {\n",
              "        vertical-align: middle;\n",
              "    }\n",
              "\n",
              "    .dataframe tbody tr th {\n",
              "        vertical-align: top;\n",
              "    }\n",
              "\n",
              "    .dataframe thead th {\n",
              "        text-align: right;\n",
              "    }\n",
              "</style>\n",
              "<table border=\"1\" class=\"dataframe\">\n",
              "  <thead>\n",
              "    <tr style=\"text-align: right;\">\n",
              "      <th></th>\n",
              "      <th>Name</th>\n",
              "      <th>Sex</th>\n",
              "      <th>Weight</th>\n",
              "      <th>Team</th>\n",
              "      <th>NOC</th>\n",
              "      <th>Games</th>\n",
              "      <th>Season</th>\n",
              "      <th>City</th>\n",
              "      <th>Sport</th>\n",
              "      <th>Event</th>\n",
              "      <th>Medal</th>\n",
              "    </tr>\n",
              "  </thead>\n",
              "  <tbody>\n",
              "    <tr>\n",
              "      <th>count</th>\n",
              "      <td>30203</td>\n",
              "      <td>30203</td>\n",
              "      <td>30203</td>\n",
              "      <td>30203</td>\n",
              "      <td>30203</td>\n",
              "      <td>30203</td>\n",
              "      <td>30203</td>\n",
              "      <td>30203</td>\n",
              "      <td>30203</td>\n",
              "      <td>30203</td>\n",
              "      <td>30203</td>\n",
              "    </tr>\n",
              "    <tr>\n",
              "      <th>unique</th>\n",
              "      <td>20753</td>\n",
              "      <td>6</td>\n",
              "      <td>184</td>\n",
              "      <td>264</td>\n",
              "      <td>143</td>\n",
              "      <td>51</td>\n",
              "      <td>5</td>\n",
              "      <td>43</td>\n",
              "      <td>55</td>\n",
              "      <td>563</td>\n",
              "      <td>4</td>\n",
              "    </tr>\n",
              "    <tr>\n",
              "      <th>top</th>\n",
              "      <td>Michael Fred Phelps, II</td>\n",
              "      <td>M</td>\n",
              "      <td>70.0</td>\n",
              "      <td>United States</td>\n",
              "      <td>USA</td>\n",
              "      <td>2008 Summer</td>\n",
              "      <td>Summer</td>\n",
              "      <td>London</td>\n",
              "      <td>Athletics</td>\n",
              "      <td>Ice Hockey Men's Ice Hockey</td>\n",
              "      <td>Gold</td>\n",
              "    </tr>\n",
              "    <tr>\n",
              "      <th>freq</th>\n",
              "      <td>28</td>\n",
              "      <td>19194</td>\n",
              "      <td>1225</td>\n",
              "      <td>4271</td>\n",
              "      <td>4388</td>\n",
              "      <td>2036</td>\n",
              "      <td>25266</td>\n",
              "      <td>2221</td>\n",
              "      <td>3652</td>\n",
              "      <td>1001</td>\n",
              "      <td>10122</td>\n",
              "    </tr>\n",
              "  </tbody>\n",
              "</table>\n",
              "</div>"
            ],
            "text/plain": [
              "                           Name    Sex  ...                        Event  Medal\n",
              "count                     30203  30203  ...                        30203  30203\n",
              "unique                    20753      6  ...                          563      4\n",
              "top     Michael Fred Phelps, II      M  ...  Ice Hockey Men's Ice Hockey   Gold\n",
              "freq                         28  19194  ...                         1001  10122\n",
              "\n",
              "[4 rows x 11 columns]"
            ]
          },
          "metadata": {},
          "execution_count": 6
        }
      ]
    },
    {
      "cell_type": "markdown",
      "metadata": {
        "id": "q7oRbMLrYhqt"
      },
      "source": [
        "Ao analisar a linha *unique* de cada categoria, percebo que em algumas existem mais tipos de informações do que as possíveis. Por exemplo, tratou-se a coluna de Sex apenas aceitando M, para Masculino, e F, para Feminino, porém há 4 tipos de informações nela: o que não ocorre com certas colunas (Name, Team, NOC, Games, Sport e Event), as quais não possuem certos valores determinados de *unique*, portanto eu não as limparei.\n",
        "\n",
        "Contudo, como já exemplificado com a coluna Sex, sei que as categorias Sex, Season e Medal têm tipos já estipulados de preenchimento, visto que Sex só pode aceitar 2 tipos (o \"M\" e o \"F\" já citados), Season só pode ser preenchido por 2 tipologias também (nesse caso, \"Summer\" ou \"Winter\") e Medal também só permite 3 variações (\"Bronze\", \"Silver\" e \"Gold\").\n",
        "\n",
        "Dessa forma, a seguir essas colunas, sim, serão limpadas e alteradas, quando necessário: sempre seguindo a programação de imprimir o arranjo de tipologias e alterar os erros por inputs aceitos. Ademais, os inputs muito destoantes (o que ocorre com a coluna \"City\"), após contabilizados por len(), serão excluídos se possuírem menos de 100 incidências ou serão substituídos pela moda da coluna se totalizarem mais de 100 incidências.\n",
        "\n",
        "**Sex**"
      ]
    },
    {
      "cell_type": "code",
      "metadata": {
        "colab": {
          "base_uri": "https://localhost:8080/"
        },
        "id": "4PhqVwFpW7UG",
        "outputId": "579fe74f-cd8d-4605-d4ed-60f4caf1eeeb"
      },
      "source": [
        "pd.Series(df.Sex.unique())  #lembrando que posso usar df.Sex.unique() também, porém achei tal código menos discernível"
      ],
      "execution_count": 7,
      "outputs": [
        {
          "output_type": "execute_result",
          "data": {
            "text/plain": [
              "0                          M\n",
              "1                       MALE\n",
              "2    Vic vai te dar um socao\n",
              "3                          F\n",
              "4                     FEMALE\n",
              "5          P&D >> Comunidade\n",
              "dtype: object"
            ]
          },
          "metadata": {},
          "execution_count": 7
        }
      ]
    },
    {
      "cell_type": "code",
      "metadata": {
        "colab": {
          "base_uri": "https://localhost:8080/"
        },
        "id": "VDyP8FvgepX7",
        "outputId": "0a2a99b5-193c-4dd4-dd93-9ab2d9669df1"
      },
      "source": [
        "df[\"Sex\"].replace(\"M\", \"MALE\", inplace=True) #elucidando que tal inplace serve para ele alterar já no df, não criando outro para isso\n",
        "df[\"Sex\"].replace(\"F\", \"FEMALE\", inplace=True) \n",
        "pd.Series(df.Sex.unique())"
      ],
      "execution_count": 9,
      "outputs": [
        {
          "output_type": "execute_result",
          "data": {
            "text/plain": [
              "0                       MALE\n",
              "1    Vic vai te dar um socao\n",
              "2                     FEMALE\n",
              "3          P&D >> Comunidade\n",
              "dtype: object"
            ]
          },
          "metadata": {},
          "execution_count": 9
        }
      ]
    },
    {
      "cell_type": "code",
      "metadata": {
        "colab": {
          "base_uri": "https://localhost:8080/"
        },
        "id": "COt0Jqx4Zha2",
        "outputId": "6715f7f4-4d2f-4842-e5fd-6ea9bb7b34ee"
      },
      "source": [
        "len(df[df['Sex'] == 'Vic vai te dar um socao'])"
      ],
      "execution_count": 10,
      "outputs": [
        {
          "output_type": "execute_result",
          "data": {
            "text/plain": [
              "191"
            ]
          },
          "metadata": {},
          "execution_count": 10
        }
      ]
    },
    {
      "cell_type": "code",
      "metadata": {
        "id": "Fm4wwBzjWUar"
      },
      "source": [
        "df[\"Sex\"].replace('Vic vai te dar um socao', df[\"Sex\"].mode()[0], inplace=True)"
      ],
      "execution_count": 11,
      "outputs": []
    },
    {
      "cell_type": "code",
      "metadata": {
        "colab": {
          "base_uri": "https://localhost:8080/"
        },
        "id": "gl4Pbq5aZ6jU",
        "outputId": "99ff8166-589c-4d3a-aa13-a9ccea236d78"
      },
      "source": [
        "len(df[df['Sex'] == \"P&D >> Comunidade\"])"
      ],
      "execution_count": 12,
      "outputs": [
        {
          "output_type": "execute_result",
          "data": {
            "text/plain": [
              "265"
            ]
          },
          "metadata": {},
          "execution_count": 12
        }
      ]
    },
    {
      "cell_type": "code",
      "metadata": {
        "id": "5V6r-x9DYqGV"
      },
      "source": [
        "df[\"Sex\"].replace('P&D >> Comunidade', df[\"Sex\"].mode()[0], inplace=True)"
      ],
      "execution_count": 13,
      "outputs": []
    },
    {
      "cell_type": "code",
      "metadata": {
        "colab": {
          "base_uri": "https://localhost:8080/"
        },
        "id": "59tCsqASd1do",
        "outputId": "47192541-cdeb-47a9-d692-aaa8bd573ac4"
      },
      "source": [
        "len(df[df['Sex'] == \"NaN\"])"
      ],
      "execution_count": 14,
      "outputs": [
        {
          "output_type": "execute_result",
          "data": {
            "text/plain": [
              "0"
            ]
          },
          "metadata": {},
          "execution_count": 14
        }
      ]
    },
    {
      "cell_type": "markdown",
      "metadata": {
        "id": "tOZzq1tYaFSw"
      },
      "source": [
        "**Season**"
      ]
    },
    {
      "cell_type": "code",
      "metadata": {
        "colab": {
          "base_uri": "https://localhost:8080/"
        },
        "id": "PP54KgndcGpM",
        "outputId": "8cdc36ff-f046-492b-92cf-9a305ef16d49"
      },
      "source": [
        "pd.Series(df.Season.unique()) "
      ],
      "execution_count": 15,
      "outputs": [
        {
          "output_type": "execute_result",
          "data": {
            "text/plain": [
              "0            Winter\n",
              "1            Summer\n",
              "2    #ForaBolsonaro\n",
              "3         Ele nunca\n",
              "4           Ele não\n",
              "dtype: object"
            ]
          },
          "metadata": {},
          "execution_count": 15
        }
      ]
    },
    {
      "cell_type": "code",
      "metadata": {
        "colab": {
          "base_uri": "https://localhost:8080/"
        },
        "id": "z-FUD0pXapt4",
        "outputId": "a0d0e22b-cfe0-4269-c4db-a40cb3ecc01b"
      },
      "source": [
        "len(df[df['Season'] == \"#ForaBolsonaro\"])"
      ],
      "execution_count": 16,
      "outputs": [
        {
          "output_type": "execute_result",
          "data": {
            "text/plain": [
              "51"
            ]
          },
          "metadata": {},
          "execution_count": 16
        }
      ]
    },
    {
      "cell_type": "code",
      "metadata": {
        "id": "jT_wqb9TZQ9q"
      },
      "source": [
        "id_ForaBolsonaro = df[df[\"Season\"] == \"#ForaBolsonaro\"].index #criando index para deletar esses valores\n",
        "df.drop(id_ForaBolsonaro, inplace=True)"
      ],
      "execution_count": 17,
      "outputs": []
    },
    {
      "cell_type": "code",
      "metadata": {
        "colab": {
          "base_uri": "https://localhost:8080/"
        },
        "id": "-kD4Dn88av5e",
        "outputId": "f462936b-083c-4644-d3ec-bd18fc85e57e"
      },
      "source": [
        "len(df[df['Season'] == \"Ele nunca\"])"
      ],
      "execution_count": 18,
      "outputs": [
        {
          "output_type": "execute_result",
          "data": {
            "text/plain": [
              "28"
            ]
          },
          "metadata": {},
          "execution_count": 18
        }
      ]
    },
    {
      "cell_type": "code",
      "metadata": {
        "id": "mZOIl8jsba26"
      },
      "source": [
        "id_Elenunca = df[df[\"Season\"] == \"Ele nunca\"].index \n",
        "df.drop(id_Elenunca, inplace=True)"
      ],
      "execution_count": 19,
      "outputs": []
    },
    {
      "cell_type": "code",
      "metadata": {
        "colab": {
          "base_uri": "https://localhost:8080/"
        },
        "id": "vPK2Or3Xa06x",
        "outputId": "812b3d1e-26e0-4495-da88-3ae33b560003"
      },
      "source": [
        "len(df[df['Season'] == \"Ele não\"])"
      ],
      "execution_count": 20,
      "outputs": [
        {
          "output_type": "execute_result",
          "data": {
            "text/plain": [
              "32"
            ]
          },
          "metadata": {},
          "execution_count": 20
        }
      ]
    },
    {
      "cell_type": "code",
      "metadata": {
        "id": "U069fSMfbqg7"
      },
      "source": [
        "id_Elenão = df[df[\"Season\"] == \"Ele não\"].index \n",
        "df.drop(id_Elenão, inplace=True)"
      ],
      "execution_count": 21,
      "outputs": []
    },
    {
      "cell_type": "markdown",
      "metadata": {
        "id": "HX4PPbmLcgUx"
      },
      "source": [
        "**Medal**"
      ]
    },
    {
      "cell_type": "code",
      "metadata": {
        "colab": {
          "base_uri": "https://localhost:8080/"
        },
        "id": "6GvgCcPJcpwI",
        "outputId": "dfa92675-4a5d-48a4-b169-6b39dae9c8f8"
      },
      "source": [
        "pd.Series(df.Medal.unique())"
      ],
      "execution_count": 22,
      "outputs": [
        {
          "output_type": "execute_result",
          "data": {
            "text/plain": [
              "0    Bronze\n",
              "1      Gold\n",
              "2    Silver\n",
              "3    Nelson\n",
              "dtype: object"
            ]
          },
          "metadata": {},
          "execution_count": 22
        }
      ]
    },
    {
      "cell_type": "code",
      "metadata": {
        "id": "pE6TspHWbHix",
        "colab": {
          "base_uri": "https://localhost:8080/"
        },
        "outputId": "5bdf9dd6-aa68-4d6b-a1b3-938becebfdc7"
      },
      "source": [
        "len(df[df['Medal'] == \"Nelson\"])"
      ],
      "execution_count": 23,
      "outputs": [
        {
          "output_type": "execute_result",
          "data": {
            "text/plain": [
              "150"
            ]
          },
          "metadata": {},
          "execution_count": 23
        }
      ]
    },
    {
      "cell_type": "code",
      "metadata": {
        "id": "HQM9uDTOcmsv"
      },
      "source": [
        "df[\"Medal\"].replace('Nelson', df[\"Medal\"].mode()[0], inplace=True)\n"
      ],
      "execution_count": 24,
      "outputs": []
    },
    {
      "cell_type": "markdown",
      "metadata": {
        "id": "wqamH7WjHwWt"
      },
      "source": [
        "**City**\n",
        "\n"
      ]
    },
    {
      "cell_type": "code",
      "metadata": {
        "colab": {
          "base_uri": "https://localhost:8080/"
        },
        "id": "bOTZQ1VKH0Zq",
        "outputId": "21667182-cf3b-43cc-a2c1-01e23b2549fc"
      },
      "source": [
        "len(df[df[\"City\"] == \"######\"])"
      ],
      "execution_count": 63,
      "outputs": [
        {
          "output_type": "execute_result",
          "data": {
            "text/plain": [
              "0"
            ]
          },
          "metadata": {},
          "execution_count": 63
        }
      ]
    },
    {
      "cell_type": "code",
      "metadata": {
        "id": "LD-3C9f9_vJ3"
      },
      "source": [
        "id_hash = df[df[\"City\"] == \"######\"].index #criando index para deletar esses valores\n",
        "df.drop(id_hash, inplace=True)"
      ],
      "execution_count": 59,
      "outputs": []
    },
    {
      "cell_type": "markdown",
      "metadata": {
        "id": "Eb5uuyr4LlFl"
      },
      "source": [
        "**Weight**\n",
        "\n",
        "Essa coluna será aqui reorganizada por estar selecionada como um dado categórico, mas não dever ocupar essa posição. \n",
        "\n",
        "Ainda, é possível perceber que existem certos valores como string nela, já que ela foi tida como constituída por \"object\". Após verificação manual, percebe-se que o input \"hsuahusahu\" representa essa caracterização como string e, por isso, esse valor foi retirado e todos os valores dessa coluna foram padronizados como float, segundo os códigos a seguir demonstram.\n"
      ]
    },
    {
      "cell_type": "code",
      "metadata": {
        "id": "QfR9qCTwLiad"
      },
      "source": [
        "df[\"Weight\"].replace('hsuahusahu', None, inplace=True)"
      ],
      "execution_count": 25,
      "outputs": []
    },
    {
      "cell_type": "code",
      "metadata": {
        "id": "U4nSK3QhNIgV"
      },
      "source": [
        "df['Weight'] = df[\"Weight\"].astype('float')"
      ],
      "execution_count": 26,
      "outputs": []
    },
    {
      "cell_type": "markdown",
      "metadata": {
        "id": "Mxr0R3Wpiqv-"
      },
      "source": [
        "###Dados Numéricos\n",
        "\n",
        "Agora iniciarei a visualização e, se necessário, limpeza dos dados numéricos, por isso comecei descrevendo o df."
      ]
    },
    {
      "cell_type": "code",
      "metadata": {
        "colab": {
          "base_uri": "https://localhost:8080/",
          "height": 297
        },
        "id": "5yCKdX4Gizad",
        "outputId": "afdffe69-231a-47f4-93c3-e5239e3c315b"
      },
      "source": [
        "df.describe()"
      ],
      "execution_count": 27,
      "outputs": [
        {
          "output_type": "execute_result",
          "data": {
            "text/html": [
              "<div>\n",
              "<style scoped>\n",
              "    .dataframe tbody tr th:only-of-type {\n",
              "        vertical-align: middle;\n",
              "    }\n",
              "\n",
              "    .dataframe tbody tr th {\n",
              "        vertical-align: top;\n",
              "    }\n",
              "\n",
              "    .dataframe thead th {\n",
              "        text-align: right;\n",
              "    }\n",
              "</style>\n",
              "<table border=\"1\" class=\"dataframe\">\n",
              "  <thead>\n",
              "    <tr style=\"text-align: right;\">\n",
              "      <th></th>\n",
              "      <th>Age</th>\n",
              "      <th>Height</th>\n",
              "      <th>Weight</th>\n",
              "      <th>Year</th>\n",
              "    </tr>\n",
              "  </thead>\n",
              "  <tbody>\n",
              "    <tr>\n",
              "      <th>count</th>\n",
              "      <td>29972.000000</td>\n",
              "      <td>2.997200e+04</td>\n",
              "      <td>29972.000000</td>\n",
              "      <td>29972.000000</td>\n",
              "    </tr>\n",
              "    <tr>\n",
              "      <th>mean</th>\n",
              "      <td>25.428333</td>\n",
              "      <td>1.061642e+03</td>\n",
              "      <td>73.919842</td>\n",
              "      <td>1985.289403</td>\n",
              "    </tr>\n",
              "    <tr>\n",
              "      <th>std</th>\n",
              "      <td>5.044882</td>\n",
              "      <td>3.673351e+04</td>\n",
              "      <td>15.018013</td>\n",
              "      <td>100.638343</td>\n",
              "    </tr>\n",
              "    <tr>\n",
              "      <th>min</th>\n",
              "      <td>13.000000</td>\n",
              "      <td>1.360000e+02</td>\n",
              "      <td>28.000000</td>\n",
              "      <td>-2813.000000</td>\n",
              "    </tr>\n",
              "    <tr>\n",
              "      <th>25%</th>\n",
              "      <td>22.000000</td>\n",
              "      <td>1.700000e+02</td>\n",
              "      <td>63.000000</td>\n",
              "      <td>1976.000000</td>\n",
              "    </tr>\n",
              "    <tr>\n",
              "      <th>50%</th>\n",
              "      <td>25.000000</td>\n",
              "      <td>1.780000e+02</td>\n",
              "      <td>73.000000</td>\n",
              "      <td>1992.000000</td>\n",
              "    </tr>\n",
              "    <tr>\n",
              "      <th>75%</th>\n",
              "      <td>28.000000</td>\n",
              "      <td>1.850000e+02</td>\n",
              "      <td>83.000000</td>\n",
              "      <td>2006.000000</td>\n",
              "    </tr>\n",
              "    <tr>\n",
              "      <th>max</th>\n",
              "      <td>66.000000</td>\n",
              "      <td>1.976779e+06</td>\n",
              "      <td>182.000000</td>\n",
              "      <td>2016.000000</td>\n",
              "    </tr>\n",
              "  </tbody>\n",
              "</table>\n",
              "</div>"
            ],
            "text/plain": [
              "                Age        Height        Weight          Year\n",
              "count  29972.000000  2.997200e+04  29972.000000  29972.000000\n",
              "mean      25.428333  1.061642e+03     73.919842   1985.289403\n",
              "std        5.044882  3.673351e+04     15.018013    100.638343\n",
              "min       13.000000  1.360000e+02     28.000000  -2813.000000\n",
              "25%       22.000000  1.700000e+02     63.000000   1976.000000\n",
              "50%       25.000000  1.780000e+02     73.000000   1992.000000\n",
              "75%       28.000000  1.850000e+02     83.000000   2006.000000\n",
              "max       66.000000  1.976779e+06    182.000000   2016.000000"
            ]
          },
          "metadata": {},
          "execution_count": 27
        }
      ]
    },
    {
      "cell_type": "markdown",
      "metadata": {
        "id": "CwyfH3NTkN5Q"
      },
      "source": [
        "É bem visível que existe a necessidade de limpeza. Na coluna Year, por exemplo, há o valor inverossímel de um ano negativo, assim como a coluna de Height, que possui valores tidos como muito grandes.\n",
        "\n",
        "Em seguida, assim, são apresentados os procedimentos para cada limpeza mencionada, além da programação para alteração do dtype da coluna Age."
      ]
    },
    {
      "cell_type": "markdown",
      "metadata": {
        "id": "yPTF4pW6O1-g"
      },
      "source": [
        "**Age**\n",
        "\n",
        "Como já foi percebido inicialmente na descrição das informações desse df, essa coluna estava categorizada como float, porém, para mais viabilidade dessas idades, todas elas serão consolidadas como números inteiros."
      ]
    },
    {
      "cell_type": "code",
      "metadata": {
        "id": "yF-iwf4oO5qD"
      },
      "source": [
        "df['Age'] = df[\"Age\"].astype('int')"
      ],
      "execution_count": 28,
      "outputs": []
    },
    {
      "cell_type": "markdown",
      "metadata": {
        "id": "kBU4XQ4VNVY2"
      },
      "source": [
        "**Year**\n",
        "\n",
        "Como pontuado, há um ano tido como negativo e, para filtrar o que é aceitável e o que não para essa coluna, o seguinte código foi executado para consolidar a limpeza dessa categoria. "
      ]
    },
    {
      "cell_type": "code",
      "metadata": {
        "id": "921el0oUNkb0"
      },
      "source": [
        "df = df[df[\"Year\"]> 0]"
      ],
      "execution_count": 29,
      "outputs": []
    },
    {
      "cell_type": "markdown",
      "metadata": {
        "id": "iq0jw9CVDV_d"
      },
      "source": [
        "**Height**\n",
        "\n",
        "Para essa categoria, sabendo que uma pessoa de 12 a 13 anos (menor valor de idade visto) tem como estatura médida 1.36 (fonte: https://cosemspb.org/tabela-de-peso-e-altura/), tal valor será utilizado para filtrar os valores mínimos e, para os máximos, o valor será de 2.51, por ser a maior altura inserida no Guinness World Record (fonte: https://www.guinnessworldrecords.com.br/records/hall-of-fame/robert-wadlow-tallest-man-ever). Por isso, executei os seguintes códigos."
      ]
    },
    {
      "cell_type": "code",
      "metadata": {
        "id": "xQkgc2VAksEF"
      },
      "source": [
        "df = df[(df[\"Height\"] >= 136) & (df[\"Height\"] <= 251)]\n"
      ],
      "execution_count": 30,
      "outputs": []
    },
    {
      "cell_type": "markdown",
      "metadata": {
        "id": "rk3LE9A0OOvM"
      },
      "source": [
        "**Revisando as colunas**\n",
        "\n",
        "Após as limpezas designadas, veriquei se todas as colunas agora estão com seu dtype apropriado, novamente explicitando as informações do df."
      ]
    },
    {
      "cell_type": "code",
      "metadata": {
        "colab": {
          "base_uri": "https://localhost:8080/"
        },
        "id": "3dna5SwROh1V",
        "outputId": "f87fea5e-8ef5-41df-d3c3-853edd94a9c0"
      },
      "source": [
        "df.info()"
      ],
      "execution_count": 31,
      "outputs": [
        {
          "output_type": "stream",
          "name": "stdout",
          "text": [
            "<class 'pandas.core.frame.DataFrame'>\n",
            "Int64Index: 29927 entries, 16 to 135563\n",
            "Data columns (total 14 columns):\n",
            " #   Column  Non-Null Count  Dtype  \n",
            "---  ------  --------------  -----  \n",
            " 0   Name    29927 non-null  object \n",
            " 1   Sex     29927 non-null  object \n",
            " 2   Age     29927 non-null  int64  \n",
            " 3   Height  29927 non-null  float64\n",
            " 4   Weight  29927 non-null  float64\n",
            " 5   Team    29927 non-null  object \n",
            " 6   NOC     29927 non-null  object \n",
            " 7   Games   29927 non-null  object \n",
            " 8   Year    29927 non-null  int64  \n",
            " 9   Season  29927 non-null  object \n",
            " 10  City    29927 non-null  object \n",
            " 11  Sport   29927 non-null  object \n",
            " 12  Event   29927 non-null  object \n",
            " 13  Medal   29927 non-null  object \n",
            "dtypes: float64(2), int64(2), object(10)\n",
            "memory usage: 3.4+ MB\n"
          ]
        }
      ]
    },
    {
      "cell_type": "markdown",
      "metadata": {
        "id": "F2GAm-oeUWHg"
      },
      "source": [
        "##Análise\n",
        "\n",
        "Como a limpeza está aparentemente finalizada, a partir de agora vou começar a plotar certos gráficos: primeiramente com os dados categóricos (que possuem poucas opções de inputs) e sempre buscando os insights interessantes exigidos e padrões entre os ganhadores de medalhas.Para melhorar a imagem do gráfico, foi consultada também a documentação (https://seaborn.pydata.org/generated/seaborn.set_theme.html), que trouxe alguns set_themes."
      ]
    },
    {
      "cell_type": "markdown",
      "metadata": {
        "id": "_fKkL9i1fxY9"
      },
      "source": [
        "Iniciando com dados categóricos, simples gráficos, como os plotados abaixo, fizeram surgir as duas primeiras principais hipóteses e insights: que serão corroborados com gráficos e análises de outras colunas, assim como ocorrerá com o insight III, proveniente, porém, de gráficos mais complexos.\n",
        "\n",
        "Os insights em suma dizem respeito ao: \n",
        "\n",
        "I - Os Jogos de Verão são bem mais recorrentes que os de inverno\n",
        "II - A predominância de gênero é do sexo masculino\n",
        "III - O time com maior quantidade de medalhas é o dos Estados Unidos \n",
        "\n",
        "Por fim, antes de iniciar a análise, reitero que, por mais que insights aparentemente recorrentes e previsivíveis, na medida em que uso a inter-relação entre dados aparentemente não referentes à hipótese cogitada, busca-se incrementar e enaltecer esta análise. Ainda, esses insights mostram-se interessantes ao passo que fazem surgir vários outros, como abaixo será ilustrado com o insight I."
      ]
    },
    {
      "cell_type": "markdown",
      "metadata": {
        "id": "AqvxA6_GgofD"
      },
      "source": [
        "**Insight I**\n",
        "\n",
        "Sabe-se que grande parte das Olimpíadas, por teores climáticos, popularidades e condições favoráveis ao jogos, predominam-se em edições de Verão.\n",
        "\n",
        "Para verificar essa hipótese e discurso recorrente, para mais que verificar apenas com o gráfico do dado categórico dessa estação, as colunas de Games, Year e City ratificaram e fortalecem o insight. \n",
        "\n",
        "Abaixo, então, além de apontar-se já o gráfico de Season, explicita-se o gráfico da coluna de Games, já que, nele, as maiores barras do gráfico - que representam a ocorrência das temporadas e anos - são aparições recorrentes de \"Summer\", porém com anos distintos.  "
      ]
    },
    {
      "cell_type": "code",
      "metadata": {
        "colab": {
          "base_uri": "https://localhost:8080/",
          "height": 518
        },
        "id": "L_dOF6BJb-aU",
        "outputId": "83a05894-5b50-42ed-8f0a-2f25fde8bebf"
      },
      "source": [
        "plt.figure(figsize=(10,8))\n",
        "sns.set_theme(style=\"darkgrid\") \n",
        "sns.countplot(x=df[\"Season\"])\n",
        "plt.title(\"Número de ganhadores por temporada\")\n",
        "plt.xlabel(\"Temporada\")\n",
        "plt.ylabel(\"Incidências\")\n",
        "plt.show()"
      ],
      "execution_count": 32,
      "outputs": [
        {
          "output_type": "display_data",
          "data": {
            "image/png": "[encoded data removed]",
            "text/plain": [
              "<Figure size 720x576 with 1 Axes>"
            ]
          },
          "metadata": {
            "needs_background": "light"
          }
        }
      ]
    },
    {
      "cell_type": "code",
      "metadata": {
        "colab": {
          "base_uri": "https://localhost:8080/",
          "height": 1000
        },
        "id": "mT7MtF8zixX5",
        "outputId": "8b1c64d2-7e4b-4cc2-f840-cfc36dbd8a9e"
      },
      "source": [
        "plt.figure(figsize=(80, 78))\n",
        "sns.set_theme(style=\"darkgrid\") \n",
        "sns.countplot(x=df[\"Games\"])\n",
        "plt.title(\"Ocorrência de Ano/Temporada\")\n",
        "plt.xlabel(\"Ano/Temporada\")\n",
        "plt.ylabel(\"Incidências\")\n",
        "plt.show()"
      ],
      "execution_count": 33,
      "outputs": [
        {
          "output_type": "display_data",
          "data": {
            "image/png": "[encoded data removed]",
            "text/plain": [
              "<Figure size 5760x5616 with 1 Axes>"
            ]
          },
          "metadata": {}
        }
      ]
    },
    {
      "cell_type": "markdown",
      "metadata": {
        "id": "IkRKsHFR9qyp"
      },
      "source": [
        "Aperfeiçoando a análise, contudo, ainda outros dados não aparentemente relacionados corroboram o insight aqui tratado, visto que a coluna Year aparentemente nada teria de relação e consolidação desse insght, porém vejamos o Boxplot sobre esse dado abaixo. "
      ]
    },
    {
      "cell_type": "code",
      "metadata": {
        "colab": {
          "base_uri": "https://localhost:8080/",
          "height": 482
        },
        "id": "dzMbGQe6JD14",
        "outputId": "bfecae1b-667a-4442-93cf-e6e4f69145b5"
      },
      "source": [
        "plt.figure(figsize=(10,8))\n",
        "sns.boxplot(y=df[\"Year\"])\n",
        "plt.title(\"Boxplot do Ano\")\n",
        "plt.show()"
      ],
      "execution_count": 34,
      "outputs": [
        {
          "output_type": "display_data",
          "data": {
            "image/png": "[encoded data removed]",
            "text/plain": [
              "<Figure size 720x576 with 1 Axes>"
            ]
          },
          "metadata": {}
        }
      ]
    },
    {
      "cell_type": "markdown",
      "metadata": {
        "id": "dGij55tQkjT4"
      },
      "source": [
        "Percebe-se que, como o segundo quartil (mediana) está posicionado no centro do retângulo, a distribuição dos anos é tida como simétrica (apesar da variância de dados apontar certos outliers), visto que essa linha mediana informa sobre a simetria dos dados.\n",
        "\n",
        "Para mais, a simetria - então a distribuição - aponta que os anos estão concentrados no intervalo de 1980 e 2008: justamente as maiores barras do gráfico de Games, que são jogos realizados no verão.\n",
        "\n",
        "Dessa forma, como replica-se que realmente a concentração dos anos é aquela que coincide com os valores em \"Games\" - que carregam o \"Summer\" - infere-se o quanto até a análise da distribuição da coluna de anos confirma que os Jogos Olímpicos são tidos frequentemente como de Verão. "
      ]
    },
    {
      "cell_type": "markdown",
      "metadata": {
        "id": "3qjjx5G8ng8Y"
      },
      "source": [
        "Outrossim, mostra-se ainda como a categoria \"City\", embora não pareça relacionada, pode também confirmar a noção do insight aqui esboçado, pois a maioria das cidades mais contabilizadas tiveram suas edições das Olimpíadas no verão."
      ]
    },
    {
      "cell_type": "code",
      "metadata": {
        "colab": {
          "base_uri": "https://localhost:8080/"
        },
        "id": "u5GZzHOUAu3J",
        "outputId": "ce08149c-89e1-41bc-dbef-2083e6d4f23d"
      },
      "source": [
        "c = df[df[\"City\"] == \"######\"]\n",
        "print(c)"
      ],
      "execution_count": 61,
      "outputs": [
        {
          "output_type": "stream",
          "name": "stdout",
          "text": [
            "Empty DataFrame\n",
            "Columns: [Name, Sex, Age, Height, Weight, Team, NOC, Games, Year, Season, City, Sport, Event, Medal]\n",
            "Index: []\n"
          ]
        }
      ]
    },
    {
      "cell_type": "code",
      "metadata": {
        "colab": {
          "base_uri": "https://localhost:8080/"
        },
        "id": "55cFU3G1ouux",
        "outputId": "3c4c3ed7-e12c-430b-d9e2-645a74fd1800"
      },
      "source": [
        "df[\"City\"].value_counts()"
      ],
      "execution_count": 60,
      "outputs": [
        {
          "output_type": "execute_result",
          "data": {
            "text/plain": [
              "London                    2186\n",
              "Athina                    2050\n",
              "Rio de Janeiro            1986\n",
              "Beijing                   1977\n",
              "Sydney                    1944\n",
              "Atlanta                   1673\n",
              "Los Angeles               1615\n",
              "Seoul                     1552\n",
              "Barcelona                 1497\n",
              "Moskva                    1359\n",
              "Montreal                  1281\n",
              "Munich                    1192\n",
              "Mexico City               1038\n",
              "Tokyo                     1008\n",
              "Roma                       880\n",
              "Sochi                      558\n",
              "Torino                     513\n",
              "Vancouver                  499\n",
              "Melbourne                  486\n",
              "Salt Lake City             473\n",
              "Nagano                     426\n",
              "Innsbruck                  350\n",
              "Lillehammer                312\n",
              "Albertville                305\n",
              "Helsinki                   277\n",
              "Calgary                    245\n",
              "Sarajevo                   211\n",
              "Paris                      207\n",
              "Lake Placid                202\n",
              "Sapporo                    199\n",
              "Grenoble                   190\n",
              "Antwerpen                  183\n",
              "Berlin                     170\n",
              "Amsterdam                  165\n",
              "Stockholm                  149\n",
              "Squaw Valley                91\n",
              "Cortina d'Ampezzo           84\n",
              "St. Louis                   59\n",
              "Oslo                        24\n",
              "Garmisch-Partenkirchen      23\n",
              "Sankt Moritz                19\n",
              "Chamonix                    16\n",
              "Name: City, dtype: int64"
            ]
          },
          "metadata": {},
          "execution_count": 60
        }
      ]
    },
    {
      "cell_type": "markdown",
      "metadata": {
        "id": "E_pNSyzfpMM8"
      },
      "source": [
        "Selecionando, por exemplo, as primeiras mais frequentes, elucida-se, após pesquisas facilmente feitas no Google, que em todas as edições de Londres (1908, 1948 e 2012) os jogos foram tidos como de verão, assim como o que aconteceu com as edições de Atenas (1896 e 2004), além das edições únicas de Atlanta e de Beijing.\n",
        "\n",
        "Finalmente, depreendendo esse primeiro insight, a recorrência e predominância do verão como categorizador dos Jogos é tanta que até mesmo as edições do Rio de Janeiro e de Sydney - que passaram, respectivamente, no inverno e entre o fim do inverno e o início da primavera -, foram classificados como jogos de verão.\n",
        "\n",
        "Essa predominãncia de Verão, então, também me fez esboçar a relação dessa coluna com pesos e alturas, como se observa com os códigos abaixo."
      ]
    },
    {
      "cell_type": "code",
      "metadata": {
        "id": "cIlYiSC5myBt",
        "colab": {
          "base_uri": "https://localhost:8080/",
          "height": 238
        },
        "outputId": "56789c0a-2bb9-4a9d-93f2-2f53bde666cf"
      },
      "source": [
        "grid = sns.FacetGrid(df, col = \"Season\")\n",
        "grid.map(plt.scatter, \"Weight\", \"Height\")"
      ],
      "execution_count": 36,
      "outputs": [
        {
          "output_type": "execute_result",
          "data": {
            "text/plain": [
              "<seaborn.axisgrid.FacetGrid at 0x7f7805852c90>"
            ]
          },
          "metadata": {},
          "execution_count": 36
        },
        {
          "output_type": "display_data",
          "data": {
            "image/png": "[encoded data removed]",
            "text/plain": [
              "<Figure size 432x216 with 2 Axes>"
            ]
          },
          "metadata": {}
        }
      ]
    },
    {
      "cell_type": "markdown",
      "metadata": {
        "id": "IJrBsXOQ54ts"
      },
      "source": [
        "Além de mostrar mais uma vez a predominância da estação em questão, porém, a relevância desse insight indica até quanto outros lampejos e intuições podem sair de si.\n",
        "\n",
        "Observando o gráfico anterior, percebe-se que a predominância/a região central de pontos de altura se dá entre 170 a 180cm e, de peso, está entre 66,5kg e 74,5kg. \n",
        "\n",
        "Assim, faço a conta de IMC entre tais intervalos (convertendo a altura de centímetros para metros), conforme as programações abaixo."
      ]
    },
    {
      "cell_type": "code",
      "metadata": {
        "colab": {
          "base_uri": "https://localhost:8080/"
        },
        "id": "VcEFTqfZ-JtT",
        "outputId": "d800ee7d-2030-40d2-c237-fb0963210c7a"
      },
      "source": [
        "altura1 = float(1.7)\n",
        "peso1 = float(66.5)\n",
        "IMC1 = float((peso1)/(altura1 ** 2))\n",
        "altura2 = float(1.8)\n",
        "peso2 = float(74.5)\n",
        "IMC2 = float((peso2)/(altura2 ** 2))\n",
        "IMC_final = (float(IMC1 + IMC2))/2\n",
        "print(IMC_final)"
      ],
      "execution_count": 37,
      "outputs": [
        {
          "output_type": "stream",
          "name": "stdout",
          "text": [
            "23.002103891665598\n"
          ]
        }
      ]
    },
    {
      "cell_type": "markdown",
      "metadata": {
        "id": "5nIr2YRaC5rJ"
      },
      "source": [
        "Dessa maneira, sabendo que o IMC fica em torno de 23, demonstro a relevância do insight I, porque a partir de suas noções muitas outras análises surgem.\n",
        "\n",
        "Duas análises são aqui apresentadas para finalizar esta parte do insight I: \n",
        "\n",
        "A primeira é que a dificuldade de, nesse df, relacionar dados numéricos, porque a única percepção é a relação permeada pelo IMC que, com o aumento da altura, o peso tende a aumentar também. \n",
        "\n",
        "Dessa maneira, o heatmap é esboçado, apresentando verdadeiramente a não relação lógica e direta entre os dados numéricos, apenas sobre as medidas corporais comentadas."
      ]
    },
    {
      "cell_type": "code",
      "metadata": {
        "id": "ikMm_nKEsHh0",
        "colab": {
          "base_uri": "https://localhost:8080/",
          "height": 598
        },
        "outputId": "20903746-86c3-41f6-ed3f-054a60dfd2de"
      },
      "source": [
        "plt.figure(figsize=(15,10))\n",
        "sns.heatmap(df.corr(), annot=True, vmin=-1, vmax=1)\n",
        "plt.show()"
      ],
      "execution_count": 38,
      "outputs": [
        {
          "output_type": "display_data",
          "data": {
            "image/png": "[encoded data removed]",
            "text/plain": [
              "<Figure size 1080x720 with 2 Axes>"
            ]
          },
          "metadata": {}
        }
      ]
    },
    {
      "cell_type": "markdown",
      "metadata": {
        "id": "YiCC8fDhsnkB"
      },
      "source": [
        "A segunda análise originada do insight I é que, ciente de que o IMC médio entre 20 a 29 anos é de 23 (https://www.scielo.br/j/rbce/a/xdpDc8SR9GNzTs9Th5wtqmQ/?format=pdf&lang=pt), concluo que, a partir da percepção das médias de altura x peso aqui oriundas da análise da predominância do Verão, a maioria dos atletas têm tal faixa etária de idade. \n",
        "\n",
        "Assim, mais uma vez outras colunas convergem para o tratado desse simples insight, como se comprova a predominância da faixa etária citada no gráfico de Idades abaixo."
      ]
    },
    {
      "cell_type": "code",
      "metadata": {
        "id": "jxueQEkhFzMr",
        "colab": {
          "base_uri": "https://localhost:8080/",
          "height": 555
        },
        "outputId": "0f06a599-3021-42b4-c01e-75cd4ea20e7d"
      },
      "source": [
        "plt.figure(figsize=(10,8))\n",
        "sns.distplot(x=df[\"Age\"])\n",
        "plt.title(\"Número de medalhistas por idade\")\n",
        "plt.show()"
      ],
      "execution_count": 39,
      "outputs": [
        {
          "output_type": "stream",
          "name": "stderr",
          "text": [
            "/usr/local/lib/python3.7/dist-packages/seaborn/distributions.py:2619: FutureWarning: `distplot` is a deprecated function and will be removed in a future version. Please adapt your code to use either `displot` (a figure-level function with similar flexibility) or `histplot` (an axes-level function for histograms).\n",
            "  warnings.warn(msg, FutureWarning)\n"
          ]
        },
        {
          "output_type": "display_data",
          "data": {
            "image/png": "[encoded data removed]",
            "text/plain": [
              "<Figure size 720x576 with 1 Axes>"
            ]
          },
          "metadata": {}
        }
      ]
    },
    {
      "cell_type": "markdown",
      "metadata": {
        "id": "WUjZt6p-gZgZ"
      },
      "source": [
        "**Insight II**\n",
        "\n",
        "A maior parte dos atletas dos Jogos Olímpicos é do sexo masculino. \n",
        "\n",
        "Para verificar essa hipótese, por sua vez, além de só verificar apenas com o gráfico do dado categórico sobre isso (que realmente como indica abaixo aponta a incidiência de 83% dos atletas serem do sexo masculino), outros dados aparentemente não relacionados - as colunas de Sport e Event - ratificam isso."
      ]
    },
    {
      "cell_type": "code",
      "metadata": {
        "colab": {
          "base_uri": "https://localhost:8080/",
          "height": 518
        },
        "id": "jAN9ZRDogHFU",
        "outputId": "f7cb30f0-c81c-4af9-91d4-99bf9cdceb4c"
      },
      "source": [
        "plt.figure(figsize=(10,8))\n",
        "sns.set_theme(style=\"darkgrid\") \n",
        "sns.countplot(x = df[\"Sex\"])  #para contar a incidência de gênero\n",
        "plt.title(\"Número de ganhadores por sexo\")\n",
        "plt.xlabel(\"Sexo\")\n",
        "plt.ylabel(\"Incidências\")\n",
        "plt.show()"
      ],
      "execution_count": 40,
      "outputs": [
        {
          "output_type": "display_data",
          "data": {
            "image/png": "[encoded data removed]",
            "text/plain": [
              "<Figure size 720x576 with 1 Axes>"
            ]
          },
          "metadata": {}
        }
      ]
    },
    {
      "cell_type": "markdown",
      "metadata": {
        "id": "mcRj0kCp8byK"
      },
      "source": [
        "Pensando agora na categoria de Evento, a confirmação da predominância masculina se dá pela contagem dos 5 primeiros valores de tal coluna, como se verifica a seguir, porque é bem percepetível que eles remetem a modalidades masculinas. "
      ]
    },
    {
      "cell_type": "code",
      "metadata": {
        "colab": {
          "base_uri": "https://localhost:8080/"
        },
        "id": "Oj_wttB4Azkr",
        "outputId": "94fada56-3ad1-4917-d20b-4cfa13f9bcb0"
      },
      "source": [
        "df[\"Event\"].value_counts()"
      ],
      "execution_count": 41,
      "outputs": [
        {
          "output_type": "execute_result",
          "data": {
            "text/plain": [
              "Ice Hockey Men's Ice Hockey                                   999\n",
              "Football Men's Football                                       783\n",
              "Hockey Men's Hockey                                           711\n",
              "Basketball Men's Basketball                                   609\n",
              "Water Polo Men's Water Polo                                   573\n",
              "                                                             ... \n",
              "Swimming Men's 220 yard Freestyle                               1\n",
              "Wrestling Men's Unlimited Class, Greco-Roman                    1\n",
              "Swimming Men's One Mile Freestyle                               1\n",
              "Art Competitions Mixed Architecture, Architectural Designs      1\n",
              "Equestrianism Men's Dressage, Team                              1\n",
              "Name: Event, Length: 563, dtype: int64"
            ]
          },
          "metadata": {},
          "execution_count": 41
        }
      ]
    },
    {
      "cell_type": "markdown",
      "metadata": {
        "id": "_goy3nad80JR"
      },
      "source": [
        "Ainda, pensando em Evento, traça-se a relação dessa coluna com a de Esporte: movimento que indica a relevância do insight por desencadear essas inter-relações.\n",
        "\n",
        "Nessa inter-relação, então, vê-se que a maior incidência de Esporte é Atletismo e Natação, os quais, quando filtrados em Evento, explicitam a grande maioria ser de categorias masculinas, como os códigos sequenciados imprimem.\n",
        "\n",
        "Dessa maneira, reitero o insight II, englobando e relacionando dados além do previsível dado pelo gráfico de Sexo."
      ]
    },
    {
      "cell_type": "code",
      "metadata": {
        "colab": {
          "base_uri": "https://localhost:8080/"
        },
        "id": "asJNYoJuAg1i",
        "outputId": "90ad3310-5b85-421b-ca02-a57e05af4577"
      },
      "source": [
        "df[\"Sport\"].value_counts()"
      ],
      "execution_count": 42,
      "outputs": [
        {
          "output_type": "execute_result",
          "data": {
            "text/plain": [
              "Athletics                    3621\n",
              "Swimming                     2457\n",
              "Rowing                       2079\n",
              "Ice Hockey                   1298\n",
              "Hockey                       1152\n",
              "Gymnastics                   1147\n",
              "Fencing                      1108\n",
              "Football                     1081\n",
              "Canoeing                     1026\n",
              "Basketball                    991\n",
              "Wrestling                     965\n",
              "Volleyball                    950\n",
              "Handball                      927\n",
              "Cycling                       840\n",
              "Water Polo                    764\n",
              "Boxing                        705\n",
              "Sailing                       677\n",
              "Cross Country Skiing          674\n",
              "Equestrianism                 658\n",
              "Shooting                      541\n",
              "Weightlifting                 530\n",
              "Judo                          526\n",
              "Speed Skating                 467\n",
              "Biathlon                      388\n",
              "Alpine Skiing                 351\n",
              "Baseball                      332\n",
              "Diving                        318\n",
              "Bobsleigh                     282\n",
              "Short Track Speed Skating     268\n",
              "Figure Skating                247\n",
              "Synchronized Swimming         209\n",
              "Archery                       203\n",
              "Luge                          179\n",
              "Ski Jumping                   175\n",
              "Softball                      170\n",
              "Tennis                        168\n",
              "Table Tennis                  163\n",
              "Badminton                     154\n",
              "Modern Pentathlon             153\n",
              "Taekwondo                     143\n",
              "Nordic Combined               136\n",
              "Curling                       130\n",
              "Rhythmic Gymnastics           118\n",
              "Freestyle Skiing              100\n",
              "Snowboarding                   88\n",
              "Rugby Sevens                   73\n",
              "Beach Volleyball               68\n",
              "Rugby                          30\n",
              "Triathlon                      29\n",
              "Trampolining                   28\n",
              "Skeleton                       24\n",
              "Tug-Of-War                      8\n",
              "Golf                            4\n",
              "Art Competitions                2\n",
              "Lacrosse                        2\n",
              "Name: Sport, dtype: int64"
            ]
          },
          "metadata": {},
          "execution_count": 42
        }
      ]
    },
    {
      "cell_type": "code",
      "metadata": {
        "colab": {
          "base_uri": "https://localhost:8080/"
        },
        "id": "IwUJiupZkI4J",
        "outputId": "84d3f6ff-fa2a-44b3-c480-e239f10461b0"
      },
      "source": [
        "ath = df[df['Sport'] == \"Athletics\"]\n",
        "print(ath.Event.unique())\n"
      ],
      "execution_count": 43,
      "outputs": [
        {
          "output_type": "stream",
          "name": "stdout",
          "text": [
            "[\"Athletics Women's Javelin Throw\" \"Athletics Men's 1,500 metres\"\n",
            " \"Athletics Men's Hammer Throw\" \"Athletics Men's Marathon\"\n",
            " \"Athletics Men's Long Jump\" \"Athletics Men's Triple Jump\"\n",
            " \"Athletics Women's 5,000 metres\" \"Athletics Men's 4 x 400 metres Relay\"\n",
            " \"Athletics Men's 100 metres\" \"Athletics Men's 4 x 100 metres Relay\"\n",
            " \"Athletics Men's Standing High Jump\" \"Athletics Men's Standing Long Jump\"\n",
            " \"Athletics Women's Shot Put\" \"Athletics Men's 400 metres Hurdles\"\n",
            " \"Athletics Women's 4 x 400 metres Relay\" \"Athletics Women's Long Jump\"\n",
            " \"Athletics Women's 4 x 100 metres Relay\" \"Athletics Men's High Jump\"\n",
            " \"Athletics Men's Discus Throw\" \"Athletics Women's 100 metres Hurdles\"\n",
            " \"Athletics Men's Cross-Country, Team\"\n",
            " \"Athletics Men's 10 kilometres Walk\" \"Athletics Women's 400 metres\"\n",
            " \"Athletics Men's 800 metres\" \"Athletics Men's 3,000 metres Steeplechase\"\n",
            " \"Athletics Women's Marathon\" \"Athletics Men's 110 metres Hurdles\"\n",
            " \"Athletics Men's Cross-Country, Individual\" \"Athletics Men's Shot Put\"\n",
            " \"Athletics Men's 20 kilometres Walk\" \"Athletics Men's 10,000 metres\"\n",
            " \"Athletics Women's Discus Throw\" \"Athletics Women's 400 metres Hurdles\"\n",
            " \"Athletics Men's 5,000 metres\" \"Athletics Men's 200 metres\"\n",
            " \"Athletics Men's 50 kilometres Walk\" \"Athletics Men's Pole Vault\"\n",
            " \"Athletics Women's 100 metres\"\n",
            " \"Athletics Women's 3,000 metres Steeplechase\"\n",
            " \"Athletics Women's High Jump\" \"Athletics Men's Decathlon\"\n",
            " \"Athletics Women's 10,000 metres\" \"Athletics Men's 400 metres\"\n",
            " \"Athletics Men's Javelin Throw\" \"Athletics Men's 3,000 metres, Team\"\n",
            " \"Athletics Women's 1,500 metres\" \"Athletics Women's Heptathlon\"\n",
            " \"Athletics Women's 800 metres\" \"Athletics Men's Pentathlon\"\n",
            " \"Athletics Women's Pentathlon\" \"Athletics Women's 200 metres\"\n",
            " \"Athletics Women's 80 metres Hurdles\" \"Athletics Men's 1,500 metres Walk\"\n",
            " \"Athletics Men's 3 mile, Team\"\n",
            " \"Athletics Men's 1,600 metres Medley Relay\"\n",
            " \"Athletics Women's 3,000 metres\" \"Athletics Women's 10 kilometres Walk\"\n",
            " \"Athletics Women's Hammer Throw\"\n",
            " \"Athletics Men's 2,590 metres Steeplechase\"\n",
            " \"Athletics Men's 56-pound Weight Throw\" \"Athletics Women's Triple Jump\"\n",
            " \"Athletics Men's Stone Throw\" \"Athletics Men's Javelin Throw, Freestyle\"\n",
            " \"Athletics Women's Pole Vault\"\n",
            " \"Athletics Men's 3,200 metres Steeplechase\"\n",
            " \"Athletics Men's Standing Triple Jump\"\n",
            " \"Athletics Men's 3,000 metres Walk\"\n",
            " \"Athletics Men's Discus Throw, Greek Style\"\n",
            " \"Athletics Women's 20 kilometres Walk\" \"Athletics Men's 60 metres\"\n",
            " \"Athletics Men's All-Around Championship\" \"Athletics Men's 4 mile, Team\"\n",
            " \"Athletics Men's 200 metres Hurdles\" \"Athletics Men's 3,500 metres Walk\"\n",
            " \"Athletics Men's 10 mile Walk\" \"Athletics Men's Pentathlon (Ancient)\"\n",
            " \"Athletics Men's Discus Throw, Both Hands\"\n",
            " \"Athletics Men's Shot Put, Both Hands\"\n",
            " \"Athletics Men's 2,500 metres Steeplechase\" \"Athletics Men's 5 mile\"\n",
            " \"Athletics Men's Javelin Throw, Both Hands\"\n",
            " \"Athletics Men's 5,000 metres, Team\"]\n"
          ]
        }
      ]
    },
    {
      "cell_type": "code",
      "metadata": {
        "colab": {
          "base_uri": "https://localhost:8080/"
        },
        "id": "yveeUr2vD8td",
        "outputId": "2d70fcfc-ed09-4bee-9eb9-817151edcf8b"
      },
      "source": [
        "ath1 = df[df[\"Sport\"] == \"Swimming\"]\n",
        "print(ath1.Event.unique())"
      ],
      "execution_count": 44,
      "outputs": [
        {
          "output_type": "stream",
          "name": "stdout",
          "text": [
            "[\"Swimming Women's 4 x 100 metres Medley Relay\"\n",
            " \"Swimming Men's 4 x 100 metres Freestyle Relay\"\n",
            " \"Swimming Men's 4 x 200 metres Freestyle Relay\"\n",
            " \"Swimming Men's 4 x 100 metres Medley Relay\"\n",
            " \"Swimming Women's 800 metres Freestyle\"\n",
            " \"Swimming Men's 100 metres Freestyle\"\n",
            " \"Swimming Men's 50 metres Freestyle\"\n",
            " \"Swimming Men's 200 metres Freestyle\"\n",
            " \"Swimming Women's 4 x 100 metres Freestyle Relay\"\n",
            " \"Swimming Women's 100 metres Butterfly\"\n",
            " \"Swimming Women's 50 metres Freestyle\"\n",
            " \"Swimming Women's 100 metres Freestyle\"\n",
            " \"Swimming Women's 4 x 200 metres Freestyle Relay\"\n",
            " \"Swimming Women's 10 kilometres Open Water\"\n",
            " \"Swimming Women's 100 metres Backstroke\"\n",
            " \"Swimming Women's 100 metres Breaststroke\"\n",
            " \"Swimming Men's 400 metres Freestyle\"\n",
            " \"Swimming Men's 100 metres Butterfly\"\n",
            " \"Swimming Women's 200 metres Backstroke\"\n",
            " \"Swimming Women's 200 metres Breaststroke\"\n",
            " \"Swimming Women's 200 metres Freestyle\"\n",
            " \"Swimming Women's 400 metres Freestyle\"\n",
            " \"Swimming Men's 200 metres Butterfly\"\n",
            " \"Swimming Men's 200 metres Breaststroke\"\n",
            " \"Swimming Men's 200 metres Backstroke\"\n",
            " \"Swimming Women's 400 metres Individual Medley\"\n",
            " \"Swimming Men's 100 metres Backstroke\"\n",
            " \"Swimming Men's 400 metres Individual Medley\"\n",
            " \"Swimming Men's 200 metres Individual Medley\"\n",
            " \"Swimming Women's 200 metres Individual Medley\"\n",
            " \"Swimming Men's 1,500 metres Freestyle\"\n",
            " \"Swimming Women's 200 metres Butterfly\"\n",
            " \"Swimming Men's 100 metres Breaststroke\"\n",
            " \"Swimming Men's 50 yard Freestyle\" \"Swimming Men's 100 yard Freestyle\"\n",
            " \"Swimming Men's 220 yard Freestyle\" \"Swimming Men's 440 yard Freestyle\"\n",
            " \"Swimming Men's 4 x 50 Yard Freestyle Relay\"\n",
            " \"Swimming Men's 10 kilometres Open Water\"\n",
            " \"Swimming Men's One Mile Freestyle\"\n",
            " \"Swimming Men's 4 x 250 metres Freestyle Relay\"\n",
            " \"Swimming Men's 1,000 metres Freestyle\"\n",
            " \"Swimming Men's 4,000 metres Freestyle\"\n",
            " \"Swimming Women's 300 metres Freestyle\"]\n"
          ]
        }
      ]
    },
    {
      "cell_type": "markdown",
      "metadata": {
        "id": "Si_g9pbhk2kY"
      },
      "source": [
        "**Insight III**\n",
        "\n",
        "O país com a maior quantidade de medalhas é Estados Unidos.\n",
        "\n",
        "Finalizando essa última hipótese, como comentado e mostrando o aperfeiçoamento dos gráficos, um gráfico um pouco mais complexo é desenvolvido (mas limitando para os países nas 30 primeiras posições). Ressalto, porém, que aqui a coluna representada por NOC (Comitê Olímpico Nacional) não foi utilizada, pois a representação por Time (então pela coluna Team) acabou por englobar essa informação.\n",
        "\n",
        "Além disso, sobre o aperfeiçoamento do gráfico, até mesmo uma paleta específica é criada anteriormente. Vejamos, enfim, os códidgos abaixo:"
      ]
    },
    {
      "cell_type": "code",
      "metadata": {
        "id": "1ICRQ4IJo6t3"
      },
      "source": [
        "medals_colors = {\"Gold\": \"gold\", \"Silver\": \"silver\", \"Bronze\": \"orange\"}"
      ],
      "execution_count": 45,
      "outputs": []
    },
    {
      "cell_type": "code",
      "metadata": {
        "colab": {
          "base_uri": "https://localhost:8080/",
          "height": 828
        },
        "id": "tZ6r0yaSvo0f",
        "outputId": "dad47b7c-27c7-487f-e099-2cb6154aeb64"
      },
      "source": [
        "plt.figure(figsize = (10,14))\n",
        "medals_order = [\"Gold\",\"Silver\",\"Bronze\"]\n",
        "sns.countplot (y = \"Team\", hue = \"Medal\", data = df, order = df[\"Team\"].value_counts().index, hue_order = medals_order, palette = medals_colors)\n",
        "plt.ylim(30.5)\n",
        "plt.show()"
      ],
      "execution_count": 46,
      "outputs": [
        {
          "output_type": "display_data",
          "data": {
            "image/png": "[encoded data removed]",
            "text/plain": [
              "<Figure size 720x1008 with 1 Axes>"
            ]
          },
          "metadata": {}
        }
      ]
    },
    {
      "cell_type": "markdown",
      "metadata": {
        "id": "42cGLEjro-jC"
      },
      "source": [
        "No gráfico anterior, relamente confirma-se o insight de que o país com a maior quantidade de medalhas é o Estados Unidos, bem também como a moda da coluna de Nome ratifica essa informação."
      ]
    },
    {
      "cell_type": "code",
      "metadata": {
        "colab": {
          "base_uri": "https://localhost:8080/"
        },
        "id": "LoHtOtfTpGAn",
        "outputId": "c47bc933-cfa6-48d0-859a-8cc30a6950f1"
      },
      "source": [
        "df[\"Name\"].value_counts()"
      ],
      "execution_count": 47,
      "outputs": [
        {
          "output_type": "execute_result",
          "data": {
            "text/plain": [
              "Michael Fred Phelps, II               28\n",
              "Larysa Semenivna Latynina (Diriy-)    18\n",
              "Nikolay Yefimovich Andrianov          15\n",
              "Borys Anfiyanovych Shakhlin           13\n",
              "Ole Einar Bjrndalen                   13\n",
              "                                      ..\n",
              "Kaori Inoue                            1\n",
              "Vincent Joseph \"Vince\" Boryla          1\n",
              "Milutin oki                            1\n",
              "Inder \"Gogi\" Singh                     1\n",
              "Margot Elizabeth Foster                1\n",
              "Name: Name, Length: 20618, dtype: int64"
            ]
          },
          "metadata": {},
          "execution_count": 47
        }
      ]
    },
    {
      "cell_type": "markdown",
      "metadata": {
        "id": "FGLkZl63qlnS"
      },
      "source": [
        "Relevante, todavia, enfatizar que os outros 4 nomes mais frequentes não são estadounidenses. Assim, demonstra-se novamente a importância dos insights aqui tratados, porque eles acabam gerando e possibilitando diversas outras análises: as quais aqui não serão mais tão descritas - por eu não buscar temáticas específicas -, mas enaltecidas que, a depender das temáticas, elas podem ser muito reutilizadas e usadas como bases para diversas outras explicações."
      ]
    },
    {
      "cell_type": "markdown",
      "metadata": {
        "id": "DcrVPqI0_tLX"
      },
      "source": [
        "##CONCLUSÃO: \n",
        "\n",
        "Neste pequeno projeto, aprendi e desenvoli habilidades de limpeza e análise de um DataFrame.\n",
        "\n",
        "No df em questão, salientei apenas 3 insights, que, contudo, mostraram-se relevantes por servirem como guias para diversas outras análises, além de permitirem inter-relacionar todas as colunas dos dados. \n",
        "\n",
        "Ainda, proporcionalmente que os insights foram progredindo, busquei aperfeiçoar os gráficos e as análises, assim tentando explicitar desde certa simetria à variância de dados, usando boxplot, como também indicando correlações mais óbvias e impossibilitadas, pela escassez de colunas numéricas, como verificou-se com o heatmap. \n",
        "\n",
        "Em suma, busquei diversificar e explorar os gráficos, explicando o dataset e mostrando métricas interessantes, as quais, mesmo que não muito discorridas pela ausência de temas específicos, indicaram a relevância dos insights e da Limpeza e Análise de Dados."
      ]
    }
  ]
}