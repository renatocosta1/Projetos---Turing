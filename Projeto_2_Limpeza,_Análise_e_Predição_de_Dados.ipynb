{
  "nbformat": 4,
  "nbformat_minor": 0,
  "metadata": {
    "colab": {
      "name": "Projeto 2:  Limpeza, Análise e Predição de Dados",
      "provenance": [],
      "authorship_tag": "ABX9TyMgyb7ggfxzX+n1kKaflrfW",
      "include_colab_link": true
    },
    "kernelspec": {
      "name": "python3",
      "display_name": "Python 3"
    },
    "language_info": {
      "name": "python"
    }
  },
  "cells": [
    {
      "cell_type": "markdown",
      "metadata": {
        "id": "view-in-github",
        "colab_type": "text"
      },
      "source": [
        "<a href=\"https://colab.research.google.com/github/renatocosta1/Projetos---Turing/blob/main/Projeto_2_Limpeza%2C_An%C3%A1lise_e_Predi%C3%A7%C3%A3o_de_Dados.ipynb\" target=\"_parent\"><img src=\"https://colab.research.google.com/assets/colab-badge.svg\" alt=\"Open In Colab\"/></a>"
      ]
    },
    {
      "cell_type": "markdown",
      "metadata": {
        "id": "OnGxH2JRmVVh"
      },
      "source": [
        "Dividindo em três seções assim intituladas (Limpeza de Dados, Análise de Dados e Predição de Dados), este segundo projeto, além de buscar cumprir o proposto, também apresenta experimentações e testes sobre o conteúdo visto, assim apresentando aplicações e testes dos códigos conscientemente insurgindo dos objetivos estipulados. \n",
        "\n",
        "Esse comportamento é feito, pois objetiva explicitar, mais do que apenas a noção de aplicação dos códigos, o desenvolvimento da noção de explicitar o que é válido, aceitável e coerente para cada caso, consolidando assim o entendimento de cada usabilidade e planejamento.  \n",
        "\n",
        "Afinal, embora predominantemente com questões numéricas e lógicas de programação, o aprendizado não sintetiza apenas a trasnferência de conhecimentos, mas, sim, a criação de possibilidades e habilidades, assim parafraseando Paulo Freire aprendendo na medida em que ensino ao perceber o que é ou não relevante para o aqui estipulado.\n",
        "\n",
        "Enfim, dentre as palavras aqui esboçadas, apesar de superficialmente descritas, projeta-se a busca de uma limpeza, análise e predição de dados. \n",
        "\n",
        "# Limpeza de Dados\n",
        "\n",
        "## Importação das Bibliotecas e criação do DataFrame\n",
        "\n",
        "Iniciei importando as bibliotecas mais relevantes para a análise e limpeza aqui objetivadas, além de ter criado os DataFrames a partir dos arquivos oferecidos em formato .csv.\n",
        "\n",
        "Primeiramente, aponto que os dados aqui serão limpos e analisados separadamente, sendo um dataset (nomeado dftr) de treino e um de teste (intitulado dfte).\n",
        "\n",
        "Em segunda análise, cabe destacar que, sendo um modelo do Kaggle, o dfte terá apenas limpeza e análise, visto que os modelos de predição, pela já presença da coluna \"target\", serão feitos no chamado dftr.\n",
        "\n",
        "Outrosism, sobre a limpeza, sintetizo que será dada principalmente pela atenção às colunas com seus respectivos data types, além da verificação de sentido dentre elas  (por exemplo, para colunas categóricas, observando se os valores únicos fazem sentido e, para numéricas, percebendo sempre se os valores mínimos e máximos das variáveis numéricas fazem sentido para cada coluna).\n",
        "\n",
        "\n",
        "Para index, em ambos, estipulei a primeira coluna e imprimi as cinco primeiras linhas de cada dataset."
      ]
    },
    {
      "cell_type": "code",
      "metadata": {
        "id": "jyAcgYAQmq_v"
      },
      "source": [
        "import numpy as np\n",
        "import pandas as pd\n",
        "import matplotlib.pyplot as plt\n",
        "import seaborn as sns"
      ],
      "execution_count": 2,
      "outputs": []
    },
    {
      "cell_type": "code",
      "metadata": {
        "colab": {
          "base_uri": "https://localhost:8080/",
          "height": 292
        },
        "id": "MrQiUz9snU30",
        "outputId": "b5011512-0895-41ee-837a-03ec72f272b4"
      },
      "source": [
        "dftr = pd.read_csv(\"train2.csv\", index_col=0)\n",
        "dftr.head(5)"
      ],
      "execution_count": 3,
      "outputs": [
        {
          "output_type": "execute_result",
          "data": {
            "text/html": [
              "<div>\n",
              "<style scoped>\n",
              "    .dataframe tbody tr th:only-of-type {\n",
              "        vertical-align: middle;\n",
              "    }\n",
              "\n",
              "    .dataframe tbody tr th {\n",
              "        vertical-align: top;\n",
              "    }\n",
              "\n",
              "    .dataframe thead th {\n",
              "        text-align: right;\n",
              "    }\n",
              "</style>\n",
              "<table border=\"1\" class=\"dataframe\">\n",
              "  <thead>\n",
              "    <tr style=\"text-align: right;\">\n",
              "      <th></th>\n",
              "      <th>city</th>\n",
              "      <th>city_development_index</th>\n",
              "      <th>gender</th>\n",
              "      <th>relevent_experience</th>\n",
              "      <th>enrolled_university</th>\n",
              "      <th>education_level</th>\n",
              "      <th>major_discipline</th>\n",
              "      <th>experience</th>\n",
              "      <th>company_size</th>\n",
              "      <th>company_type</th>\n",
              "      <th>last_new_job</th>\n",
              "      <th>training_hours</th>\n",
              "      <th>target</th>\n",
              "    </tr>\n",
              "    <tr>\n",
              "      <th>enrollee_id</th>\n",
              "      <th></th>\n",
              "      <th></th>\n",
              "      <th></th>\n",
              "      <th></th>\n",
              "      <th></th>\n",
              "      <th></th>\n",
              "      <th></th>\n",
              "      <th></th>\n",
              "      <th></th>\n",
              "      <th></th>\n",
              "      <th></th>\n",
              "      <th></th>\n",
              "      <th></th>\n",
              "    </tr>\n",
              "  </thead>\n",
              "  <tbody>\n",
              "    <tr>\n",
              "      <th>8949</th>\n",
              "      <td>city_103</td>\n",
              "      <td>0.920</td>\n",
              "      <td>Male</td>\n",
              "      <td>Has relevent experience</td>\n",
              "      <td>no_enrollment</td>\n",
              "      <td>Graduate</td>\n",
              "      <td>STEM</td>\n",
              "      <td>&gt;20</td>\n",
              "      <td>NaN</td>\n",
              "      <td>NaN</td>\n",
              "      <td>1</td>\n",
              "      <td>36</td>\n",
              "      <td>1.0</td>\n",
              "    </tr>\n",
              "    <tr>\n",
              "      <th>29725</th>\n",
              "      <td>city_40</td>\n",
              "      <td>0.776</td>\n",
              "      <td>Male</td>\n",
              "      <td>No relevent experience</td>\n",
              "      <td>no_enrollment</td>\n",
              "      <td>Graduate</td>\n",
              "      <td>STEM</td>\n",
              "      <td>15</td>\n",
              "      <td>50-99</td>\n",
              "      <td>Pvt Ltd</td>\n",
              "      <td>&gt;4</td>\n",
              "      <td>47</td>\n",
              "      <td>0.0</td>\n",
              "    </tr>\n",
              "    <tr>\n",
              "      <th>11561</th>\n",
              "      <td>city_21</td>\n",
              "      <td>0.624</td>\n",
              "      <td>NaN</td>\n",
              "      <td>No relevent experience</td>\n",
              "      <td>Full time course</td>\n",
              "      <td>Graduate</td>\n",
              "      <td>STEM</td>\n",
              "      <td>5</td>\n",
              "      <td>NaN</td>\n",
              "      <td>NaN</td>\n",
              "      <td>never</td>\n",
              "      <td>83</td>\n",
              "      <td>0.0</td>\n",
              "    </tr>\n",
              "    <tr>\n",
              "      <th>33241</th>\n",
              "      <td>city_115</td>\n",
              "      <td>0.789</td>\n",
              "      <td>NaN</td>\n",
              "      <td>No relevent experience</td>\n",
              "      <td>NaN</td>\n",
              "      <td>Graduate</td>\n",
              "      <td>Business Degree</td>\n",
              "      <td>&lt;1</td>\n",
              "      <td>NaN</td>\n",
              "      <td>Pvt Ltd</td>\n",
              "      <td>never</td>\n",
              "      <td>52</td>\n",
              "      <td>1.0</td>\n",
              "    </tr>\n",
              "    <tr>\n",
              "      <th>666</th>\n",
              "      <td>city_162</td>\n",
              "      <td>0.767</td>\n",
              "      <td>Male</td>\n",
              "      <td>Has relevent experience</td>\n",
              "      <td>no_enrollment</td>\n",
              "      <td>Masters</td>\n",
              "      <td>STEM</td>\n",
              "      <td>&gt;20</td>\n",
              "      <td>50-99</td>\n",
              "      <td>Funded Startup</td>\n",
              "      <td>4</td>\n",
              "      <td>8</td>\n",
              "      <td>0.0</td>\n",
              "    </tr>\n",
              "  </tbody>\n",
              "</table>\n",
              "</div>"
            ],
            "text/plain": [
              "                 city  city_development_index  ... training_hours target\n",
              "enrollee_id                                    ...                      \n",
              "8949         city_103                   0.920  ...             36    1.0\n",
              "29725         city_40                   0.776  ...             47    0.0\n",
              "11561         city_21                   0.624  ...             83    0.0\n",
              "33241        city_115                   0.789  ...             52    1.0\n",
              "666          city_162                   0.767  ...              8    0.0\n",
              "\n",
              "[5 rows x 13 columns]"
            ]
          },
          "metadata": {},
          "execution_count": 3
        }
      ]
    },
    {
      "cell_type": "code",
      "metadata": {
        "colab": {
          "base_uri": "https://localhost:8080/",
          "height": 327
        },
        "id": "vEtXJyJUoM88",
        "outputId": "fa422442-8927-427a-84ef-bbf53dac4eee"
      },
      "source": [
        "dfte = pd.read_csv(\"test.csv\", index_col=0)\n",
        "dfte.head(5)"
      ],
      "execution_count": 4,
      "outputs": [
        {
          "output_type": "execute_result",
          "data": {
            "text/html": [
              "<div>\n",
              "<style scoped>\n",
              "    .dataframe tbody tr th:only-of-type {\n",
              "        vertical-align: middle;\n",
              "    }\n",
              "\n",
              "    .dataframe tbody tr th {\n",
              "        vertical-align: top;\n",
              "    }\n",
              "\n",
              "    .dataframe thead th {\n",
              "        text-align: right;\n",
              "    }\n",
              "</style>\n",
              "<table border=\"1\" class=\"dataframe\">\n",
              "  <thead>\n",
              "    <tr style=\"text-align: right;\">\n",
              "      <th></th>\n",
              "      <th>city</th>\n",
              "      <th>city_development_index</th>\n",
              "      <th>gender</th>\n",
              "      <th>relevent_experience</th>\n",
              "      <th>enrolled_university</th>\n",
              "      <th>education_level</th>\n",
              "      <th>major_discipline</th>\n",
              "      <th>experience</th>\n",
              "      <th>company_size</th>\n",
              "      <th>company_type</th>\n",
              "      <th>last_new_job</th>\n",
              "      <th>training_hours</th>\n",
              "    </tr>\n",
              "    <tr>\n",
              "      <th>enrollee_id</th>\n",
              "      <th></th>\n",
              "      <th></th>\n",
              "      <th></th>\n",
              "      <th></th>\n",
              "      <th></th>\n",
              "      <th></th>\n",
              "      <th></th>\n",
              "      <th></th>\n",
              "      <th></th>\n",
              "      <th></th>\n",
              "      <th></th>\n",
              "      <th></th>\n",
              "    </tr>\n",
              "  </thead>\n",
              "  <tbody>\n",
              "    <tr>\n",
              "      <th>32403</th>\n",
              "      <td>city_41</td>\n",
              "      <td>0.827</td>\n",
              "      <td>Male</td>\n",
              "      <td>Has relevent experience</td>\n",
              "      <td>Full time course</td>\n",
              "      <td>Graduate</td>\n",
              "      <td>STEM</td>\n",
              "      <td>9</td>\n",
              "      <td>&lt;10</td>\n",
              "      <td>NaN</td>\n",
              "      <td>1</td>\n",
              "      <td>21</td>\n",
              "    </tr>\n",
              "    <tr>\n",
              "      <th>9858</th>\n",
              "      <td>city_103</td>\n",
              "      <td>0.920</td>\n",
              "      <td>Female</td>\n",
              "      <td>Has relevent experience</td>\n",
              "      <td>no_enrollment</td>\n",
              "      <td>Graduate</td>\n",
              "      <td>STEM</td>\n",
              "      <td>5</td>\n",
              "      <td>NaN</td>\n",
              "      <td>Pvt Ltd</td>\n",
              "      <td>1</td>\n",
              "      <td>98</td>\n",
              "    </tr>\n",
              "    <tr>\n",
              "      <th>31806</th>\n",
              "      <td>city_21</td>\n",
              "      <td>0.624</td>\n",
              "      <td>Male</td>\n",
              "      <td>No relevent experience</td>\n",
              "      <td>no_enrollment</td>\n",
              "      <td>High School</td>\n",
              "      <td>NaN</td>\n",
              "      <td>&lt;1</td>\n",
              "      <td>NaN</td>\n",
              "      <td>Pvt Ltd</td>\n",
              "      <td>never</td>\n",
              "      <td>15</td>\n",
              "    </tr>\n",
              "    <tr>\n",
              "      <th>27385</th>\n",
              "      <td>city_13</td>\n",
              "      <td>0.827</td>\n",
              "      <td>Male</td>\n",
              "      <td>Has relevent experience</td>\n",
              "      <td>no_enrollment</td>\n",
              "      <td>Masters</td>\n",
              "      <td>STEM</td>\n",
              "      <td>11</td>\n",
              "      <td>10/49</td>\n",
              "      <td>Pvt Ltd</td>\n",
              "      <td>1</td>\n",
              "      <td>39</td>\n",
              "    </tr>\n",
              "    <tr>\n",
              "      <th>27724</th>\n",
              "      <td>city_103</td>\n",
              "      <td>0.920</td>\n",
              "      <td>Male</td>\n",
              "      <td>Has relevent experience</td>\n",
              "      <td>no_enrollment</td>\n",
              "      <td>Graduate</td>\n",
              "      <td>STEM</td>\n",
              "      <td>&gt;20</td>\n",
              "      <td>10000+</td>\n",
              "      <td>Pvt Ltd</td>\n",
              "      <td>&gt;4</td>\n",
              "      <td>72</td>\n",
              "    </tr>\n",
              "  </tbody>\n",
              "</table>\n",
              "</div>"
            ],
            "text/plain": [
              "                 city  city_development_index  ... last_new_job training_hours\n",
              "enrollee_id                                    ...                            \n",
              "32403         city_41                   0.827  ...            1             21\n",
              "9858         city_103                   0.920  ...            1             98\n",
              "31806         city_21                   0.624  ...        never             15\n",
              "27385         city_13                   0.827  ...            1             39\n",
              "27724        city_103                   0.920  ...           >4             72\n",
              "\n",
              "[5 rows x 12 columns]"
            ]
          },
          "metadata": {},
          "execution_count": 4
        }
      ]
    },
    {
      "cell_type": "markdown",
      "metadata": {
        "id": "_qSyUgB3os_B"
      },
      "source": [
        "## Procedimentos da Limpeza e Descrição do DataFrame\n",
        "\n",
        "Primeiramente, removi duplicatas presentes nos dfs, assim como os valores NaN."
      ]
    },
    {
      "cell_type": "code",
      "metadata": {
        "id": "akcYefSNo2WP"
      },
      "source": [
        "dftr = dftr.drop_duplicates()\n",
        "dftr = dftr.dropna()\n",
        "dfte = dfte.drop_duplicates()\n",
        "dfte = dfte.dropna()"
      ],
      "execution_count": 5,
      "outputs": []
    },
    {
      "cell_type": "markdown",
      "metadata": {
        "id": "bFaH8gbVsWCs"
      },
      "source": [
        "Depois, para começar a perceber quais colunas devo limpar, explicitei as informações de cada dataset, além de suas informações trazidas pelo *unique*."
      ]
    },
    {
      "cell_type": "code",
      "metadata": {
        "colab": {
          "base_uri": "https://localhost:8080/"
        },
        "id": "EDtwkHawsj6N",
        "outputId": "873608c6-4f1a-4221-f8cb-87081c3b47aa"
      },
      "source": [
        "dftr.info()"
      ],
      "execution_count": 6,
      "outputs": [
        {
          "output_type": "stream",
          "name": "stdout",
          "text": [
            "<class 'pandas.core.frame.DataFrame'>\n",
            "Int64Index: 8924 entries, 29725 to 24576\n",
            "Data columns (total 13 columns):\n",
            " #   Column                  Non-Null Count  Dtype  \n",
            "---  ------                  --------------  -----  \n",
            " 0   city                    8924 non-null   object \n",
            " 1   city_development_index  8924 non-null   float64\n",
            " 2   gender                  8924 non-null   object \n",
            " 3   relevent_experience     8924 non-null   object \n",
            " 4   enrolled_university     8924 non-null   object \n",
            " 5   education_level         8924 non-null   object \n",
            " 6   major_discipline        8924 non-null   object \n",
            " 7   experience              8924 non-null   object \n",
            " 8   company_size            8924 non-null   object \n",
            " 9   company_type            8924 non-null   object \n",
            " 10  last_new_job            8924 non-null   object \n",
            " 11  training_hours          8924 non-null   int64  \n",
            " 12  target                  8924 non-null   float64\n",
            "dtypes: float64(2), int64(1), object(10)\n",
            "memory usage: 976.1+ KB\n"
          ]
        }
      ]
    },
    {
      "cell_type": "code",
      "metadata": {
        "colab": {
          "base_uri": "https://localhost:8080/",
          "height": 175
        },
        "id": "KSJOvQNX4Zop",
        "outputId": "dcf9b6e6-5356-471f-a58a-1c43cf0e9f32"
      },
      "source": [
        "dftr.describe(include=[\"object\"])"
      ],
      "execution_count": 7,
      "outputs": [
        {
          "output_type": "execute_result",
          "data": {
            "text/html": [
              "<div>\n",
              "<style scoped>\n",
              "    .dataframe tbody tr th:only-of-type {\n",
              "        vertical-align: middle;\n",
              "    }\n",
              "\n",
              "    .dataframe tbody tr th {\n",
              "        vertical-align: top;\n",
              "    }\n",
              "\n",
              "    .dataframe thead th {\n",
              "        text-align: right;\n",
              "    }\n",
              "</style>\n",
              "<table border=\"1\" class=\"dataframe\">\n",
              "  <thead>\n",
              "    <tr style=\"text-align: right;\">\n",
              "      <th></th>\n",
              "      <th>city</th>\n",
              "      <th>gender</th>\n",
              "      <th>relevent_experience</th>\n",
              "      <th>enrolled_university</th>\n",
              "      <th>education_level</th>\n",
              "      <th>major_discipline</th>\n",
              "      <th>experience</th>\n",
              "      <th>company_size</th>\n",
              "      <th>company_type</th>\n",
              "      <th>last_new_job</th>\n",
              "    </tr>\n",
              "  </thead>\n",
              "  <tbody>\n",
              "    <tr>\n",
              "      <th>count</th>\n",
              "      <td>8924</td>\n",
              "      <td>8924</td>\n",
              "      <td>8924</td>\n",
              "      <td>8924</td>\n",
              "      <td>8924</td>\n",
              "      <td>8924</td>\n",
              "      <td>8924</td>\n",
              "      <td>8924</td>\n",
              "      <td>8924</td>\n",
              "      <td>8924</td>\n",
              "    </tr>\n",
              "    <tr>\n",
              "      <th>unique</th>\n",
              "      <td>116</td>\n",
              "      <td>3</td>\n",
              "      <td>2</td>\n",
              "      <td>3</td>\n",
              "      <td>3</td>\n",
              "      <td>6</td>\n",
              "      <td>22</td>\n",
              "      <td>8</td>\n",
              "      <td>6</td>\n",
              "      <td>6</td>\n",
              "    </tr>\n",
              "    <tr>\n",
              "      <th>top</th>\n",
              "      <td>city_103</td>\n",
              "      <td>Male</td>\n",
              "      <td>Has relevent experience</td>\n",
              "      <td>no_enrollment</td>\n",
              "      <td>Graduate</td>\n",
              "      <td>STEM</td>\n",
              "      <td>&gt;20</td>\n",
              "      <td>50-99</td>\n",
              "      <td>Pvt Ltd</td>\n",
              "      <td>1</td>\n",
              "    </tr>\n",
              "    <tr>\n",
              "      <th>freq</th>\n",
              "      <td>2399</td>\n",
              "      <td>8043</td>\n",
              "      <td>7820</td>\n",
              "      <td>7564</td>\n",
              "      <td>6224</td>\n",
              "      <td>7958</td>\n",
              "      <td>1859</td>\n",
              "      <td>1983</td>\n",
              "      <td>6765</td>\n",
              "      <td>3830</td>\n",
              "    </tr>\n",
              "  </tbody>\n",
              "</table>\n",
              "</div>"
            ],
            "text/plain": [
              "            city gender  ... company_type last_new_job\n",
              "count       8924   8924  ...         8924         8924\n",
              "unique       116      3  ...            6            6\n",
              "top     city_103   Male  ...      Pvt Ltd            1\n",
              "freq        2399   8043  ...         6765         3830\n",
              "\n",
              "[4 rows x 10 columns]"
            ]
          },
          "metadata": {},
          "execution_count": 7
        }
      ]
    },
    {
      "cell_type": "code",
      "metadata": {
        "colab": {
          "base_uri": "https://localhost:8080/"
        },
        "id": "8HxIto2wsl6Y",
        "outputId": "00b1d255-00da-4707-9141-217c35659f29"
      },
      "source": [
        "dfte.info()"
      ],
      "execution_count": 8,
      "outputs": [
        {
          "output_type": "stream",
          "name": "stdout",
          "text": [
            "<class 'pandas.core.frame.DataFrame'>\n",
            "Int64Index: 1018 entries, 27385 to 12215\n",
            "Data columns (total 12 columns):\n",
            " #   Column                  Non-Null Count  Dtype  \n",
            "---  ------                  --------------  -----  \n",
            " 0   city                    1018 non-null   object \n",
            " 1   city_development_index  1018 non-null   float64\n",
            " 2   gender                  1018 non-null   object \n",
            " 3   relevent_experience     1018 non-null   object \n",
            " 4   enrolled_university     1018 non-null   object \n",
            " 5   education_level         1018 non-null   object \n",
            " 6   major_discipline        1018 non-null   object \n",
            " 7   experience              1018 non-null   object \n",
            " 8   company_size            1018 non-null   object \n",
            " 9   company_type            1018 non-null   object \n",
            " 10  last_new_job            1018 non-null   object \n",
            " 11  training_hours          1018 non-null   int64  \n",
            "dtypes: float64(1), int64(1), object(10)\n",
            "memory usage: 103.4+ KB\n"
          ]
        }
      ]
    },
    {
      "cell_type": "code",
      "metadata": {
        "colab": {
          "base_uri": "https://localhost:8080/",
          "height": 175
        },
        "id": "mlp3S1Qn4jIB",
        "outputId": "5429482b-a092-41a7-c296-86c8bc582530"
      },
      "source": [
        "dfte.describe(include=[\"object\"])"
      ],
      "execution_count": 9,
      "outputs": [
        {
          "output_type": "execute_result",
          "data": {
            "text/html": [
              "<div>\n",
              "<style scoped>\n",
              "    .dataframe tbody tr th:only-of-type {\n",
              "        vertical-align: middle;\n",
              "    }\n",
              "\n",
              "    .dataframe tbody tr th {\n",
              "        vertical-align: top;\n",
              "    }\n",
              "\n",
              "    .dataframe thead th {\n",
              "        text-align: right;\n",
              "    }\n",
              "</style>\n",
              "<table border=\"1\" class=\"dataframe\">\n",
              "  <thead>\n",
              "    <tr style=\"text-align: right;\">\n",
              "      <th></th>\n",
              "      <th>city</th>\n",
              "      <th>gender</th>\n",
              "      <th>relevent_experience</th>\n",
              "      <th>enrolled_university</th>\n",
              "      <th>education_level</th>\n",
              "      <th>major_discipline</th>\n",
              "      <th>experience</th>\n",
              "      <th>company_size</th>\n",
              "      <th>company_type</th>\n",
              "      <th>last_new_job</th>\n",
              "    </tr>\n",
              "  </thead>\n",
              "  <tbody>\n",
              "    <tr>\n",
              "      <th>count</th>\n",
              "      <td>1018</td>\n",
              "      <td>1018</td>\n",
              "      <td>1018</td>\n",
              "      <td>1018</td>\n",
              "      <td>1018</td>\n",
              "      <td>1018</td>\n",
              "      <td>1018</td>\n",
              "      <td>1018</td>\n",
              "      <td>1018</td>\n",
              "      <td>1018</td>\n",
              "    </tr>\n",
              "    <tr>\n",
              "      <th>unique</th>\n",
              "      <td>88</td>\n",
              "      <td>3</td>\n",
              "      <td>2</td>\n",
              "      <td>3</td>\n",
              "      <td>3</td>\n",
              "      <td>6</td>\n",
              "      <td>22</td>\n",
              "      <td>8</td>\n",
              "      <td>6</td>\n",
              "      <td>6</td>\n",
              "    </tr>\n",
              "    <tr>\n",
              "      <th>top</th>\n",
              "      <td>city_103</td>\n",
              "      <td>Male</td>\n",
              "      <td>Has relevent experience</td>\n",
              "      <td>no_enrollment</td>\n",
              "      <td>Graduate</td>\n",
              "      <td>STEM</td>\n",
              "      <td>&gt;20</td>\n",
              "      <td>50-99</td>\n",
              "      <td>Pvt Ltd</td>\n",
              "      <td>1</td>\n",
              "    </tr>\n",
              "    <tr>\n",
              "      <th>freq</th>\n",
              "      <td>264</td>\n",
              "      <td>923</td>\n",
              "      <td>874</td>\n",
              "      <td>845</td>\n",
              "      <td>696</td>\n",
              "      <td>896</td>\n",
              "      <td>233</td>\n",
              "      <td>235</td>\n",
              "      <td>775</td>\n",
              "      <td>431</td>\n",
              "    </tr>\n",
              "  </tbody>\n",
              "</table>\n",
              "</div>"
            ],
            "text/plain": [
              "            city gender  ... company_type last_new_job\n",
              "count       1018   1018  ...         1018         1018\n",
              "unique        88      3  ...            6            6\n",
              "top     city_103   Male  ...      Pvt Ltd            1\n",
              "freq         264    923  ...          775          431\n",
              "\n",
              "[4 rows x 10 columns]"
            ]
          },
          "metadata": {},
          "execution_count": 9
        }
      ]
    },
    {
      "cell_type": "markdown",
      "metadata": {
        "id": "vonR6XhbxYFw"
      },
      "source": [
        "### Dados Categóricos\n",
        "\n",
        "Assim, percebo a existência de colunas com dados categóricos (0, 2, 3, 4, 5,  e 9) que, como a seguir será elucidado, não serão limpas.\n",
        "\n",
        "Em ambos  dfs, primeiramente, aponto a não necessidade de limpar as colunas de \"cidade\" e \"experiência relevante\" , porque elas são categorizadas como string, além de que, a grosso modo, não é possível perceber irregularidade ou dado que possa prejuidicar aqui o desejado."
      ]
    },
    {
      "cell_type": "markdown",
      "metadata": {
        "id": "0sAceMDtHz44"
      },
      "source": [
        "Ainda, percebendo que em ambos os *unique* de gênero são valores compatíveis com a categoria - como os códigos a seguir demonstram - essas colunas também não serão limpas. "
      ]
    },
    {
      "cell_type": "code",
      "metadata": {
        "colab": {
          "base_uri": "https://localhost:8080/"
        },
        "id": "02m9EdchMwSw",
        "outputId": "d4395f99-39af-437e-d608-a19ceb6ed630"
      },
      "source": [
        "dftr[\"city_development_index\"].unique()"
      ],
      "execution_count": 10,
      "outputs": [
        {
          "output_type": "execute_result",
          "data": {
            "text/plain": [
              "array([0.776, 0.767, 0.762, 0.92 , 0.913, 0.926, 0.843, 0.624, 0.91 ,\n",
              "       0.923, 0.666, 0.794, 0.924, 0.754, 0.939, 0.887, 0.865, 0.855,\n",
              "       0.827, 0.893, 0.884, 0.866, 0.802, 0.55 , 0.897, 0.925, 0.896,\n",
              "       0.878, 0.693, 0.698, 0.949, 0.789, 0.903, 0.727, 0.64 , 0.516,\n",
              "       0.579, 0.804, 0.743, 0.915, 0.899, 0.836, 0.89 , 0.795, 0.682,\n",
              "       0.558, 0.796, 0.895, 0.769, 0.84 , 0.691, 0.742, 0.555, 0.738,\n",
              "       0.527, 0.921, 0.856, 0.479, 0.73 , 0.764, 0.68 , 0.689, 0.848,\n",
              "       0.722, 0.763, 0.74 , 0.766, 0.788, 0.83 , 0.78 , 0.898, 0.847,\n",
              "       0.556, 0.512, 0.725, 0.739, 0.563, 0.775, 0.647, 0.701, 0.645,\n",
              "       0.824, 0.745, 0.448, 0.735, 0.518, 0.649, 0.781, 0.625, 0.493,\n",
              "       0.487])"
            ]
          },
          "metadata": {},
          "execution_count": 10
        }
      ]
    },
    {
      "cell_type": "code",
      "metadata": {
        "colab": {
          "base_uri": "https://localhost:8080/"
        },
        "id": "0ggqc3D9RaSL",
        "outputId": "3da52e2b-ca0d-4d7c-d070-821cfea203f4"
      },
      "source": [
        "dftr[\"city_development_index\"].describe()"
      ],
      "execution_count": 11,
      "outputs": [
        {
          "output_type": "execute_result",
          "data": {
            "text/plain": [
              "count    8924.000000\n",
              "mean        0.844407\n",
              "std         0.116232\n",
              "min         0.448000\n",
              "25%         0.794000\n",
              "50%         0.910000\n",
              "75%         0.920000\n",
              "max         0.949000\n",
              "Name: city_development_index, dtype: float64"
            ]
          },
          "metadata": {},
          "execution_count": 11
        }
      ]
    },
    {
      "cell_type": "code",
      "metadata": {
        "colab": {
          "base_uri": "https://localhost:8080/"
        },
        "id": "pVLD1rHF5Wx_",
        "outputId": "e20b1481-0570-4f9d-c125-ffa56b6990fa"
      },
      "source": [
        "pd.Series(dftr.gender.unique())"
      ],
      "execution_count": 12,
      "outputs": [
        {
          "output_type": "execute_result",
          "data": {
            "text/plain": [
              "0      Male\n",
              "1    Female\n",
              "2     Other\n",
              "dtype: object"
            ]
          },
          "metadata": {},
          "execution_count": 12
        }
      ]
    },
    {
      "cell_type": "code",
      "metadata": {
        "colab": {
          "base_uri": "https://localhost:8080/"
        },
        "id": "dBCp_O32IIX5",
        "outputId": "0c055352-e982-4c4a-9942-68d339d2dd90"
      },
      "source": [
        "pd.Series(dfte.gender.unique())"
      ],
      "execution_count": 13,
      "outputs": [
        {
          "output_type": "execute_result",
          "data": {
            "text/plain": [
              "0      Male\n",
              "1    Female\n",
              "2     Other\n",
              "dtype: object"
            ]
          },
          "metadata": {},
          "execution_count": 13
        }
      ]
    },
    {
      "cell_type": "markdown",
      "metadata": {
        "id": "MbNwrHNbJB8B"
      },
      "source": [
        "Explicitando os *unique* de \"Tipo de curso universitário matriculado\", de \"Nível de educação do candidato\", de \"Tipo de empregador\" e de \"Major principal de educação\", percebo também valores condizentes às categorias e assim justifico suas não limpezas.  "
      ]
    },
    {
      "cell_type": "code",
      "metadata": {
        "colab": {
          "base_uri": "https://localhost:8080/"
        },
        "id": "3YG0cEk5Jta0",
        "outputId": "5319d660-b06a-4d3c-9d14-f8e28b39d42c"
      },
      "source": [
        "pd.Series(dftr.enrolled_university.unique())"
      ],
      "execution_count": 14,
      "outputs": [
        {
          "output_type": "execute_result",
          "data": {
            "text/plain": [
              "0       no_enrollment\n",
              "1    Part time course\n",
              "2    Full time course\n",
              "dtype: object"
            ]
          },
          "metadata": {},
          "execution_count": 14
        }
      ]
    },
    {
      "cell_type": "code",
      "metadata": {
        "colab": {
          "base_uri": "https://localhost:8080/"
        },
        "id": "tHnBxu1DsLFL",
        "outputId": "5f41c30a-6983-404f-8344-86ad1803b504"
      },
      "source": [
        "pd.Series(dfte.enrolled_university.unique())"
      ],
      "execution_count": 15,
      "outputs": [
        {
          "output_type": "execute_result",
          "data": {
            "text/plain": [
              "0       no_enrollment\n",
              "1    Part time course\n",
              "2    Full time course\n",
              "dtype: object"
            ]
          },
          "metadata": {},
          "execution_count": 15
        }
      ]
    },
    {
      "cell_type": "code",
      "metadata": {
        "colab": {
          "base_uri": "https://localhost:8080/"
        },
        "id": "l2b9ngS5sOCv",
        "outputId": "170b0f55-b880-4e53-a91a-bffbd1815eae"
      },
      "source": [
        "pd.Series(dftr.education_level.unique())"
      ],
      "execution_count": 16,
      "outputs": [
        {
          "output_type": "execute_result",
          "data": {
            "text/plain": [
              "0    Graduate\n",
              "1     Masters\n",
              "2         Phd\n",
              "dtype: object"
            ]
          },
          "metadata": {},
          "execution_count": 16
        }
      ]
    },
    {
      "cell_type": "code",
      "metadata": {
        "colab": {
          "base_uri": "https://localhost:8080/"
        },
        "id": "rGeDIZu1sXTB",
        "outputId": "75be1b27-9c5b-4673-87f1-e0dd8cd950ce"
      },
      "source": [
        "pd.Series(dfte.education_level.unique())"
      ],
      "execution_count": 17,
      "outputs": [
        {
          "output_type": "execute_result",
          "data": {
            "text/plain": [
              "0     Masters\n",
              "1    Graduate\n",
              "2         Phd\n",
              "dtype: object"
            ]
          },
          "metadata": {},
          "execution_count": 17
        }
      ]
    },
    {
      "cell_type": "code",
      "metadata": {
        "colab": {
          "base_uri": "https://localhost:8080/"
        },
        "id": "-Iaw-fdIsfMV",
        "outputId": "cdc31ff3-d778-4812-cb06-ab4b4d57cb3f"
      },
      "source": [
        "pd.Series(dftr.major_discipline.unique())"
      ],
      "execution_count": 18,
      "outputs": [
        {
          "output_type": "execute_result",
          "data": {
            "text/plain": [
              "0               STEM\n",
              "1         Humanities\n",
              "2    Business Degree\n",
              "3              Other\n",
              "4           No Major\n",
              "5               Arts\n",
              "dtype: object"
            ]
          },
          "metadata": {},
          "execution_count": 18
        }
      ]
    },
    {
      "cell_type": "code",
      "metadata": {
        "colab": {
          "base_uri": "https://localhost:8080/"
        },
        "id": "DU1BmbZ3sllT",
        "outputId": "a4fb4e5f-778b-41b9-f163-9a1328a677a8"
      },
      "source": [
        "pd.Series(dfte.major_discipline.unique())"
      ],
      "execution_count": 19,
      "outputs": [
        {
          "output_type": "execute_result",
          "data": {
            "text/plain": [
              "0               STEM\n",
              "1    Business Degree\n",
              "2               Arts\n",
              "3           No Major\n",
              "4         Humanities\n",
              "5              Other\n",
              "dtype: object"
            ]
          },
          "metadata": {},
          "execution_count": 19
        }
      ]
    },
    {
      "cell_type": "code",
      "metadata": {
        "colab": {
          "base_uri": "https://localhost:8080/"
        },
        "id": "h8RVQK_pvR4n",
        "outputId": "b6828352-5328-48ca-a6c0-e47685083f7e"
      },
      "source": [
        "pd.Series(dftr.company_type.unique())"
      ],
      "execution_count": 20,
      "outputs": [
        {
          "output_type": "execute_result",
          "data": {
            "text/plain": [
              "0                Pvt Ltd\n",
              "1         Funded Startup\n",
              "2    Early Stage Startup\n",
              "3          Public Sector\n",
              "4                    NGO\n",
              "5                  Other\n",
              "dtype: object"
            ]
          },
          "metadata": {},
          "execution_count": 20
        }
      ]
    },
    {
      "cell_type": "code",
      "metadata": {
        "colab": {
          "base_uri": "https://localhost:8080/"
        },
        "id": "OVWLPRe0vauJ",
        "outputId": "48cfd276-e206-4b12-a794-0351bdf64f43"
      },
      "source": [
        "pd.Series(dfte.company_type.unique())"
      ],
      "execution_count": 21,
      "outputs": [
        {
          "output_type": "execute_result",
          "data": {
            "text/plain": [
              "0                Pvt Ltd\n",
              "1                  Other\n",
              "2    Early Stage Startup\n",
              "3                    NGO\n",
              "4         Funded Startup\n",
              "5          Public Sector\n",
              "dtype: object"
            ]
          },
          "metadata": {},
          "execution_count": 21
        }
      ]
    },
    {
      "cell_type": "markdown",
      "metadata": {
        "id": "ZUGBs_M0yF4l"
      },
      "source": [
        "### Dados Numéricos\n",
        "\n",
        "Sobre os Dados Numéricos, comento, na realidade, que alguns deles são categóricos, mas apenas aqui serão substituídos - ou terão certos valores retirados - para possibilitar a inserção nas análises e nas plotagens de gráficos. \n",
        "\n",
        "Por exemplo, os valores \"<1\" e \">20\" de \"Experiência\" serão substituídos conforme os códigos a seguir, visto que tal mudança apenas ajudará na predição de dados e não prejudicará a leitura destes, porque já apenas apontar como experiência \"<1\" não distingue a exatidão de quanto tempo, nem diferencia um candidato do outro perante tal categoria. Assim, bem como ocorre em \">20\", eles parecem estar nivelados sobre tal coluna e a substituição nada disso alterará. \n",
        "\n",
        "Ainda, como será explicado adiante, essas alterações só ocorrerão no dftr e, ratifico, que essa alteração é puramente adaptativa para os gráficos e os resultados serão verificados se a substituição tem lógica para a *feature* ou não."
      ]
    },
    {
      "cell_type": "code",
      "metadata": {
        "id": "Xu0hlUNP1iKf"
      },
      "source": [
        "\n",
        "dftr[\"experience\"].replace(\">20\", \"20\", inplace=True) #elucidando que tal inplace serve para ele alterar já no df, não criando outro para isso\n",
        "dftr[\"experience\"].replace(\"<1\", \"1\", inplace=True) \n"
      ],
      "execution_count": 22,
      "outputs": []
    },
    {
      "cell_type": "markdown",
      "metadata": {
        "id": "E5uGKD4O4pvN"
      },
      "source": [
        "O mesmo será feito com *last_new_job*, com os valores de \">4\" e \"never\" assim substituídos. "
      ]
    },
    {
      "cell_type": "code",
      "metadata": {
        "id": "KQ3mIk9n49O7"
      },
      "source": [
        "dftr[\"last_new_job\"].replace(\">4\", \"4\", inplace=True) \n",
        "dftr[\"last_new_job\"].replace(\"never\", \"0\", inplace=True) "
      ],
      "execution_count": 23,
      "outputs": []
    },
    {
      "cell_type": "markdown",
      "metadata": {
        "id": "kBE5eTIpxDli"
      },
      "source": [
        "Assim como farei com a coluna de *company_size*, também a seguir tendo os valores substituídos e seguindo a mesma lógica, apesar de que depois ela será verificada se coerente, como já comentado.\n"
      ]
    },
    {
      "cell_type": "code",
      "metadata": {
        "id": "Qn2N7VifI4Vg"
      },
      "source": [
        "dftr[\"company_size\"].replace(\"50-99\", \"99\", inplace=True) \n",
        "dftr[\"company_size\"].replace(\"<10\", \"10\", inplace=True)\n",
        "dftr[\"company_size\"].replace(\"5000-9999\", \"5000\", inplace=True) \n",
        "dftr[\"company_size\"].replace(\"1000-4999\", \"1000\", inplace=True)  \n",
        "dftr[\"company_size\"].replace(\"10/49\", \"49\", inplace=True) \n",
        "dftr[\"company_size\"].replace(\"100-500\", \"250\", inplace=True) \n",
        "dftr[\"company_size\"].replace(\"10000+\", \"10001\", inplace=True) \n",
        "dftr[\"company_size\"].replace(\"500-999\", \"999\", inplace=True) "
      ],
      "execution_count": 24,
      "outputs": []
    },
    {
      "cell_type": "markdown",
      "metadata": {
        "id": "lQuiuPc0xYsF"
      },
      "source": [
        "Dessa forma, como explicitado e exclusivamente com a intenção de aplicar análises, será possível categorizar essas colunas como dados numéricos e, para corroborar essa categorização, os seguintes códigos são executados com tais colunas. "
      ]
    },
    {
      "cell_type": "code",
      "metadata": {
        "id": "1Ma2C7HWpr0F"
      },
      "source": [
        "dftr['experience'] = dftr[\"experience\"].astype('int')"
      ],
      "execution_count": 25,
      "outputs": []
    },
    {
      "cell_type": "code",
      "metadata": {
        "id": "Nq0QzLIaCUcZ"
      },
      "source": [
        "dftr['last_new_job'] = dftr[\"last_new_job\"].astype('int')"
      ],
      "execution_count": 26,
      "outputs": []
    },
    {
      "cell_type": "code",
      "metadata": {
        "id": "1VGNoo-5yn9r"
      },
      "source": [
        "dftr['company_size'] = dftr[\"company_size\"].astype('int')"
      ],
      "execution_count": 27,
      "outputs": []
    },
    {
      "cell_type": "markdown",
      "metadata": {
        "id": "jM-il2Zn5_w3"
      },
      "source": [
        "Por fim, sobre os valores de Horas de treinamento concluídas, percebo, a partir da descrição, valores de máximo e mínimo aceitáveis, então aponto que não limparei nem alterarei essa coluna, apenas a categorizarei como *int* para encaixar em alguns modelos de predição: comportamento realizado também para *target*. "
      ]
    },
    {
      "cell_type": "code",
      "metadata": {
        "colab": {
          "base_uri": "https://localhost:8080/"
        },
        "id": "Zw3e2Owu5sGr",
        "outputId": "8d5a1221-4d69-438f-9c54-2b3fb18313a8"
      },
      "source": [
        "dftr[\"training_hours\"].describe()"
      ],
      "execution_count": 28,
      "outputs": [
        {
          "output_type": "execute_result",
          "data": {
            "text/plain": [
              "count    8924.000000\n",
              "mean       65.185567\n",
              "std        60.289173\n",
              "min         1.000000\n",
              "25%        23.000000\n",
              "50%        47.000000\n",
              "75%        88.000000\n",
              "max       336.000000\n",
              "Name: training_hours, dtype: float64"
            ]
          },
          "metadata": {},
          "execution_count": 28
        }
      ]
    },
    {
      "cell_type": "code",
      "metadata": {
        "id": "1McVJKpX24Qz"
      },
      "source": [
        "dftr['training_hours'] = dftr[\"training_hours\"].astype('int')"
      ],
      "execution_count": 29,
      "outputs": []
    },
    {
      "cell_type": "code",
      "metadata": {
        "id": "OZyjt7AX3rNs"
      },
      "source": [
        "dftr['target'] = dftr[\"target\"].astype('int')"
      ],
      "execution_count": 30,
      "outputs": []
    },
    {
      "cell_type": "markdown",
      "metadata": {
        "id": "nl2MxZCqC7O3"
      },
      "source": [
        "Reitero, entretanto, que as substituições aqui foram realizadas apenas no dftr, porque na realidade já se tem ciência que essas substituições muitas vezes não se mostram válidas ou embasadas para certos dados. Por isso, repito que aqui as mudanças foram feitas para os valores de um dataframe, que depois, mais coerentemente para os modelos de predição, terá seus valores naturalmente categóricos assim mantidos e codificados para aplicação nos modelos de predição."
      ]
    },
    {
      "cell_type": "markdown",
      "metadata": {
        "id": "qphV6sCny-Mb"
      },
      "source": [
        "# Análise de Dados\n",
        "\n",
        "A análise aqui não será tão detalhada quanto outrora, visto que, objetivando realizar uma análise rápida, tem-se como finalidade a obtenção de insights interessantes, como por exemplo quais as relações e correlações entre as colunas, e quais categorias mais se relacionam com a target (já antecedida que será se a pessoa está buscando ou não mudar de emprego). "
      ]
    },
    {
      "cell_type": "markdown",
      "metadata": {
        "id": "xFKbKbMKFQ1y"
      },
      "source": [
        "Para isso, todas as colunas, por também apresentarem pouca diversidade de valores como o *dftr.describe(include=[\"object\"])* já apresentou, terão seus valores categóricos substituídos por valores numéricos, concomitantemente que serão padronizadas como do tipo *int*: atitude já feita em algumas *features*, como a seção anteriora mostrou, e ressaltando esse remodelamento apenas por questões de análise. "
      ]
    },
    {
      "cell_type": "markdown",
      "metadata": {
        "id": "rVDhviDGG1OY"
      },
      "source": [
        "Afinal, esse comportamento é aqui adotado pela existência de dois datasets. Por isso, todas as colunas serão transformadas em numéricas apenas no dataset de treino (dftr), porque facilita-se a organização dos gráficos, e é esse df que será encaixado nos modelos de predição: os quais, por exigirem em sua maioria dados numéricos, justificam também a padronização das colunas como numéricas. \n",
        "\n",
        "Enfim, seguem os códigos realizando tais noções com as colunas ainda não alteradas. "
      ]
    },
    {
      "cell_type": "code",
      "metadata": {
        "id": "SczjGN-BGkYA"
      },
      "source": [
        "#relembrando que o inplace utilizado em tais códigos é não apenas para verificar, mas já realizar as substituições"
      ],
      "execution_count": 31,
      "outputs": []
    },
    {
      "cell_type": "code",
      "metadata": {
        "id": "v013XKbGT_zv"
      },
      "source": [
        "dftr[\"enrolled_university\"].replace(\"no_enrollment\", \"0\", inplace=True) \n",
        "dftr[\"enrolled_university\"].replace(\"Part time course\", \"1\", inplace=True)\n",
        "dftr[\"enrolled_university\"].replace(\"Full time course\", \"2\", inplace=True)"
      ],
      "execution_count": 32,
      "outputs": []
    },
    {
      "cell_type": "code",
      "metadata": {
        "id": "5VdTeACPUoey"
      },
      "source": [
        "dftr['enrolled_university'] = dftr[\"enrolled_university\"].astype('int')"
      ],
      "execution_count": 33,
      "outputs": []
    },
    {
      "cell_type": "code",
      "metadata": {
        "id": "tPBY9OkdCth-"
      },
      "source": [
        "dftr[\"gender\"].replace(\"Male\", \"0\", inplace=True) \n",
        "dftr[\"gender\"].replace(\"Female\", \"1\", inplace=True)\n",
        "dftr[\"gender\"].replace(\"Other\", \"2\", inplace=True)"
      ],
      "execution_count": 34,
      "outputs": []
    },
    {
      "cell_type": "code",
      "metadata": {
        "id": "kK2Qo541DkAE"
      },
      "source": [
        "dftr['gender'] = dftr[\"gender\"].astype('int')"
      ],
      "execution_count": 35,
      "outputs": []
    },
    {
      "cell_type": "code",
      "metadata": {
        "id": "9kdzXHRqEDBY"
      },
      "source": [
        "dftr[\"relevent_experience\"].replace(\"Has relevent experience\", \"0\", inplace=True) \n",
        "dftr[\"relevent_experience\"].replace(\"No relevent experience\", \"1\", inplace=True)"
      ],
      "execution_count": 36,
      "outputs": []
    },
    {
      "cell_type": "code",
      "metadata": {
        "id": "s46HksUtEX9u"
      },
      "source": [
        "dftr['relevent_experience'] = dftr[\"relevent_experience\"].astype('int')"
      ],
      "execution_count": 37,
      "outputs": []
    },
    {
      "cell_type": "code",
      "metadata": {
        "id": "eAhYQfeHjZdH"
      },
      "source": [
        "dftr[\"education_level\"].replace(\"Graduate\", \"0\", inplace=True) \n",
        "dftr[\"education_level\"].replace(\"Masters\", \"1\", inplace=True)\n",
        "dftr[\"education_level\"].replace(\"Phd\", \"2\", inplace=True)"
      ],
      "execution_count": 38,
      "outputs": []
    },
    {
      "cell_type": "code",
      "metadata": {
        "id": "seZhnAiUjdWK"
      },
      "source": [
        "dftr[\"education_level\"] = dftr[\"education_level\"].astype(\"int\")"
      ],
      "execution_count": 39,
      "outputs": []
    },
    {
      "cell_type": "code",
      "metadata": {
        "id": "u4bBoKmWj6Ep"
      },
      "source": [
        "dftr[\"major_discipline\"].replace(\"STEM\", \"0\", inplace=True)\n",
        "dftr[\"major_discipline\"].replace(\"No Major\", \"1\", inplace=True)\n",
        "dftr[\"major_discipline\"].replace(\"Humanities\", \"2\", inplace=True)\n",
        "dftr[\"major_discipline\"].replace(\"Business Degree\", \"3\", inplace=True)\n",
        "dftr[\"major_discipline\"].replace(\"Other\", \"4\", inplace=True)\n",
        "dftr[\"major_discipline\"].replace(\"Arts\", \"5\", inplace=True)"
      ],
      "execution_count": 40,
      "outputs": []
    },
    {
      "cell_type": "code",
      "metadata": {
        "id": "cl4Acr7rkKzJ"
      },
      "source": [
        "dftr[\"major_discipline\"] = dftr[\"major_discipline\"].astype(\"int\")"
      ],
      "execution_count": 41,
      "outputs": []
    },
    {
      "cell_type": "code",
      "metadata": {
        "id": "zIGaDZW_lFCt"
      },
      "source": [
        "dftr[\"company_type\"].replace(\"Pvt Ltd\", \"0\", inplace=True)\n",
        "dftr[\"company_type\"].replace(\"Funded Startup\", \"1\", inplace=True)\n",
        "dftr[\"company_type\"].replace(\"Early Stage Startup\", \"2\", inplace=True)\n",
        "dftr[\"company_type\"].replace(\"Public Sector\", \"3\", inplace=True)\n",
        "dftr[\"company_type\"].replace(\"NGO\", \"4\", inplace=True)\n",
        "dftr[\"company_type\"].replace(\"Other\", \"5\", inplace=True)\n"
      ],
      "execution_count": 42,
      "outputs": []
    },
    {
      "cell_type": "code",
      "metadata": {
        "id": "2T_0zQgWlLcC"
      },
      "source": [
        "dftr[\"company_type\"] = dftr[\"company_type\"].astype(\"int\")"
      ],
      "execution_count": 43,
      "outputs": []
    },
    {
      "cell_type": "markdown",
      "metadata": {
        "id": "yRRH-OVjH3HT"
      },
      "source": [
        "Depois dessas transformações, adiciono outra vantagem de fazer tais substituições apenas no dftr, porque apenas o *heatmap* deste estará um pouco mais poluído, como é possível ver a seguir. "
      ]
    },
    {
      "cell_type": "code",
      "metadata": {
        "colab": {
          "base_uri": "https://localhost:8080/",
          "height": 435
        },
        "id": "Rjk9Bs5SKADA",
        "outputId": "bed0bb25-30ca-4cd3-f5d4-dd2b12b766cb"
      },
      "source": [
        "plt.figure(figsize=(10,5))\n",
        "sns.heatmap(dftr.corr(), annot=True, vmin=-1, vmax=1)\n",
        "plt.show()"
      ],
      "execution_count": 44,
      "outputs": [
        {
          "output_type": "display_data",
          "data": {
            "image/png": "[encoded data removed]",
            "text/plain": [
              "<Figure size 720x360 with 2 Axes>"
            ]
          },
          "metadata": {
            "needs_background": "light"
          }
        }
      ]
    },
    {
      "cell_type": "markdown",
      "metadata": {
        "id": "zu5Y9xi5ml3M"
      },
      "source": [
        "Assim, percebendo que, como o dataset possui diversas *features* (colunas), algumas não foram bem pensadas de serem transformadas em numéricas (informação da qual já se possuía ciência) por exemplo por sua falta de correlação como visto no *heatmap* anterior.\n",
        "\n",
        "Dessa forma, destaco que tal *heatmap* será comentado e refletido a seguir, cogitando sobre a relevância de este ter sido feito e seus valores apresentados. \n",
        "\n",
        "Outrossim,  para trazer insights interessantes, ele será analisando conforme as correlações oferecidas e com novos gráficos e visualizações para as features. Por conseguinte, apontarei e justificarei o uso de somente algumas *features* para a predição, ainda apresentando, na seção para tal, a diferença que a seletividade de algumas colunas, quando comparadas com todas, traz em relação à acurácia.\n",
        "\n",
        "Para mais, daí reconhece-se a relevância de possuir dois datasets diferentes, porque alguns gráficos, para melhor visualização, serão plotados com base no dfte, visto que são valores semelhantes ao dftr, mas apresentam nominalmente as classes.\n",
        "\n",
        "Por exemplo, a coluna do gênero no dftr agora está caracterizada com os gêneros numerizados como 0, 1 e 2, porém, observemos então a mesma feature para o outro df."
      ]
    },
    {
      "cell_type": "code",
      "metadata": {
        "colab": {
          "base_uri": "https://localhost:8080/",
          "height": 518
        },
        "id": "N_3vdWF1o75b",
        "outputId": "64d08c99-1beb-4d47-ee36-009120c84161"
      },
      "source": [
        "plt.figure(figsize=(10,8))\n",
        "sns.set_theme(style=\"darkgrid\") \n",
        "sns.countplot(x=dfte[\"gender\"])\n",
        "plt.title(\"Discernimento pelo gênero\")\n",
        "plt.xlabel(\"Gênero\")\n",
        "plt.ylabel(\"Incidências\")\n",
        "plt.show()"
      ],
      "execution_count": 45,
      "outputs": [
        {
          "output_type": "display_data",
          "data": {
            "image/png": "[encoded data removed]",
            "text/plain": [
              "<Figure size 720x576 with 1 Axes>"
            ]
          },
          "metadata": {
            "needs_background": "light"
          }
        }
      ]
    },
    {
      "cell_type": "markdown",
      "metadata": {
        "id": "mx8fUmao2xQC"
      },
      "source": [
        "Percebo que, além de estar mais fácil de visualizar pela diferenciação de Male, Female e Other, essa coluna não se faz tão pertinente de ser aplicada ao modelo de previsão não só pela correlação baixa com outras colunas, mas também pela distribuição irregular do gênero. A irregularidade também aqui é apontada para a feature *city*, assim indicando sua não usabilidade para uma das predições finais. "
      ]
    },
    {
      "cell_type": "markdown",
      "metadata": {
        "id": "nGL0rESmbvoK"
      },
      "source": [
        "Assim, abordando outras colunas que não serão utilizadas pelo menos nos meus modelos de predição, comento sobre as features de *relevent_experience*, *enrolled_university*, *company_size* *education_level*, a seguir plotadas em gráficos e, para diversificação, em um histograma com a linha KDE e em um boxplot."
      ]
    },
    {
      "cell_type": "code",
      "metadata": {
        "colab": {
          "base_uri": "https://localhost:8080/",
          "height": 518
        },
        "id": "dUUbOE9pcXGN",
        "outputId": "ad0acacd-fdde-4c6a-9d0f-b27accf46157"
      },
      "source": [
        "plt.figure(figsize=(10,8))\n",
        "sns.set_theme(style=\"darkgrid\") \n",
        "sns.countplot(x=dfte[\"relevent_experience\"])\n",
        "plt.title(\"Experiência relevante\")\n",
        "plt.xlabel(\"Grau de experiência\")\n",
        "plt.ylabel(\"Incidências\")\n",
        "plt.show()"
      ],
      "execution_count": 46,
      "outputs": [
        {
          "output_type": "display_data",
          "data": {
            "image/png": "[encoded data removed]",
            "text/plain": [
              "<Figure size 720x576 with 1 Axes>"
            ]
          },
          "metadata": {}
        }
      ]
    },
    {
      "cell_type": "code",
      "metadata": {
        "colab": {
          "base_uri": "https://localhost:8080/",
          "height": 518
        },
        "id": "DOym8oLgck_Q",
        "outputId": "88f0f575-df62-4df6-9db3-c549d9209ffa"
      },
      "source": [
        "plt.figure(figsize=(10,8))\n",
        "sns.set_theme(style=\"darkgrid\") \n",
        "sns.countplot(y=dfte[\"enrolled_university\"])\n",
        "plt.title(\"Tipo de curso matriculado (se houver)\")\n",
        "plt.xlabel(\"Tipo de curso\")\n",
        "plt.ylabel(\"Incidências\")\n",
        "plt.show()"
      ],
      "execution_count": 47,
      "outputs": [
        {
          "output_type": "display_data",
          "data": {
            "image/png": "[encoded data removed]",
            "text/plain": [
              "<Figure size 720x576 with 1 Axes>"
            ]
          },
          "metadata": {}
        }
      ]
    },
    {
      "cell_type": "code",
      "metadata": {
        "colab": {
          "base_uri": "https://localhost:8080/",
          "height": 682
        },
        "id": "6VmWdqUa2wmo",
        "outputId": "4b071303-a08f-4287-d2d6-7b5a8a0d70f6"
      },
      "source": [
        "plt.figure(figsize=(15, 10))\n",
        "sns.set_theme(style=\"darkgrid\") \n",
        "sns.distplot(x=dftr[\"company_size\"])\n",
        "plt.title(\"Tamanho das empresas\")\n",
        "plt.xlabel(\"Tamanho da empresa\")\n",
        "plt.ylabel(\"Incidências\")\n",
        "plt.show()"
      ],
      "execution_count": 48,
      "outputs": [
        {
          "output_type": "stream",
          "name": "stderr",
          "text": [
            "/usr/local/lib/python3.7/dist-packages/seaborn/distributions.py:2619: FutureWarning: `distplot` is a deprecated function and will be removed in a future version. Please adapt your code to use either `displot` (a figure-level function with similar flexibility) or `histplot` (an axes-level function for histograms).\n",
            "  warnings.warn(msg, FutureWarning)\n"
          ]
        },
        {
          "output_type": "display_data",
          "data": {
            "image/png": "[encoded data removed]",
            "text/plain": [
              "<Figure size 1080x720 with 1 Axes>"
            ]
          },
          "metadata": {}
        }
      ]
    },
    {
      "cell_type": "code",
      "metadata": {
        "colab": {
          "base_uri": "https://localhost:8080/",
          "height": 482
        },
        "id": "C57MqvX9dS_h",
        "outputId": "0f5aab50-828b-4064-f806-c362770c3d9b"
      },
      "source": [
        "plt.figure(figsize=(10,8))\n",
        "sns.boxplot(y=dftr[\"education_level\"])\n",
        "plt.title(\"Boxplot de Nível de Educação\")\n",
        "plt.show()"
      ],
      "execution_count": 49,
      "outputs": [
        {
          "output_type": "display_data",
          "data": {
            "image/png": "[encoded data removed]",
            "text/plain": [
              "<Figure size 720x576 with 1 Axes>"
            ]
          },
          "metadata": {}
        }
      ]
    },
    {
      "cell_type": "markdown",
      "metadata": {
        "id": "Zwl3hsANdd7T"
      },
      "source": [
        "Após tais visualizações, percebe-se que as quatro categorias não serão aqui utilizadas para predição, porque, além de não bem adaptadas como modelos numéricos, depreende-se que, como bem visível no gráfico de barras, há uma categoria que se destaca das demais, logo não há como preponderância de relação com a target, ainda corroborado pelos valores vagos e baixos dado pelo *heatmap*.\n",
        "\n",
        "O mesmo passa com *education_level*, percebendo que, como o segundo quartil (mediana) não está posicionado no centro do retângulo, a distribuição dos níveis de educação é tida como asssimétrica, ressaltando-se níveis de educação do tipo 1 (contabilizada como graduação) como mais da metade da amostra, por isso concluindo a não relevância de tal categoria para a target, porque esta, verificando a grosso modo, não ocorre apenas com estudantes de graduação, não se relacionando com outras colunas: informação também reiterado pelo *heatmap*. "
      ]
    },
    {
      "cell_type": "markdown",
      "metadata": {
        "id": "pZYat0w9k0fJ"
      },
      "source": [
        "Abstraindo mais informações relevantes sobre o *heatmap*, comento sobre os altos valores que *city_development_index* possui, por isso já o selecionando para um modelo de predição. \n",
        "\n",
        "Especificament, ainda, essa feature correlaciona-se com um valor alto com a coluna *experience* que, por sua vez, mostra-se bem correlacionada também com *last_new_job*: insight interessante e explicável, porque, como será visto no modelo de predição usado para essas colunas, a quantidade de tempo entre um trabalho e outro, adicionada à experiência total em anos do candidato, mostram-se passíveis da tendência de mudança de trabalho ou não aqui determinada como target.  "
      ]
    },
    {
      "cell_type": "markdown",
      "metadata": {
        "id": "_As0rCuypWBb"
      },
      "source": [
        "Para ilustrar e comprovar essa relação, o seguinte gráfico é plotado. "
      ]
    },
    {
      "cell_type": "code",
      "metadata": {
        "colab": {
          "base_uri": "https://localhost:8080/",
          "height": 502
        },
        "id": "mSHN1WWiqeNd",
        "outputId": "92cfed66-a2a2-41e4-c816-4b7438fc3f83"
      },
      "source": [
        "plt.figure(figsize = (10,8))\n",
        "sns.countplot (y = \"experience\", hue = \"last_new_job\", data = dftr, order = dftr[\"experience\"].value_counts().index)\n",
        "plt.ylim(30.5)\n",
        "plt.show()"
      ],
      "execution_count": 50,
      "outputs": [
        {
          "output_type": "display_data",
          "data": {
            "image/png": "[encoded data removed]",
            "text/plain": [
              "<Figure size 720x576 with 1 Axes>"
            ]
          },
          "metadata": {}
        }
      ]
    },
    {
      "cell_type": "markdown",
      "metadata": {
        "id": "7b_OPNvOsGbM"
      },
      "source": [
        "Nele, verifica-se a correlação entre as categorias, porque é possível perceber que valores próximos de experiência total do candidato, como 17, 18 e 19, pairam distribuições semelhantes da categoria expressa por *last_new_job*.\n",
        "\n",
        "Por exemplo, nesses mesmos números, há predominância de candidatos que não trocaram de trabalho: informação oriunda da maior barra ser do 0, que representa *never* nessa feature. \n",
        "\n",
        "Outrossim, o próximo gráfico de dispersão ratifica a correlação, trazendo até similaridade com a target."
      ]
    },
    {
      "cell_type": "code",
      "metadata": {
        "colab": {
          "base_uri": "https://localhost:8080/",
          "height": 502
        },
        "id": "EyX07A9G4jvT",
        "outputId": "bf0af283-5b65-4aaf-ed51-c01acf4b854f"
      },
      "source": [
        "plt.figure(figsize = (10, 8))\n",
        "\n",
        "sns.scatterplot(x = dftr[\"last_new_job\"], \n",
        "                y = dftr[\"experience\"],\n",
        "                hue = dftr[\"target\"])\n",
        "plt.show()"
      ],
      "execution_count": 51,
      "outputs": [
        {
          "output_type": "display_data",
          "data": {
            "image/png": "[encoded data removed]",
            "text/plain": [
              "<Figure size 720x576 with 1 Axes>"
            ]
          },
          "metadata": {}
        }
      ]
    },
    {
      "cell_type": "markdown",
      "metadata": {
        "id": "CYYn_TH03W1x"
      },
      "source": [
        "Vejamos que, à medida que o valor de *last_new_job* aumenta, embora não exista muita alteração em *experience*, percebe-se a dimininuição de ocorrências de target 1, apontando para a correlação entre as features. "
      ]
    },
    {
      "cell_type": "markdown",
      "metadata": {
        "id": "dIQt28fE31zR"
      },
      "source": [
        "Por fim, abordando outras colunas relacionadas com a target, comento, além da *company_type* pelo aumento de acurácia obtido, o uso das colunas *major_discipline* e *training_hours* para outro modelo de predição, pois o gráfico abaixo demonstra a equiparação entre essas features, percebendo que majores principais de Artes e Outros (expressos pelos números 4 e 5) tendem a mudar menos de emprego, por isso representando as menores incidências como se vê a seguir. Nesta coluna, portanto, a substituição numérica fez-se relevante, apenas, porém, para questões de análises e geração de conclusões. "
      ]
    },
    {
      "cell_type": "code",
      "metadata": {
        "colab": {
          "base_uri": "https://localhost:8080/",
          "height": 238
        },
        "id": "qtR9b96rprRW",
        "outputId": "178bc841-2b65-4dc3-bd33-8c060b7f9229"
      },
      "source": [
        "grid = sns.FacetGrid(dftr, col = \"target\")\n",
        "grid.map(plt.scatter, \"major_discipline\", \"training_hours\")"
      ],
      "execution_count": 52,
      "outputs": [
        {
          "output_type": "execute_result",
          "data": {
            "text/plain": [
              "<seaborn.axisgrid.FacetGrid at 0x7f69347b5a90>"
            ]
          },
          "metadata": {},
          "execution_count": 52
        },
        {
          "output_type": "display_data",
          "data": {
            "image/png": "[encoded data removed]",
            "text/plain": [
              "<Figure size 432x216 with 2 Axes>"
            ]
          },
          "metadata": {}
        }
      ]
    },
    {
      "cell_type": "markdown",
      "metadata": {
        "id": "5xT5U23eAbTK"
      },
      "source": [
        "Desse modo, trazendo mais algumas plotagens fora do que aqui discorrido apenas para ajudar a observar os aspectos gerais do DataFrame, finalizo esta parte de análise, depreendendo alguns insights interessantes de relação entre target e colunas."
      ]
    },
    {
      "cell_type": "code",
      "metadata": {
        "colab": {
          "base_uri": "https://localhost:8080/",
          "height": 518
        },
        "id": "I0Hn0jXUBjQF",
        "outputId": "42c93188-65b8-4ea0-b833-082d5039b5d4"
      },
      "source": [
        "plt.figure(figsize=(10,8))\n",
        "sns.set_theme(style=\"darkgrid\") \n",
        "sns.countplot(x=dftr[\"company_size\"])\n",
        "plt.title(\"Tamanho das empresas\")\n",
        "plt.xlabel(\"Quantidade média de funcionário\")\n",
        "plt.ylabel(\"Incidências\")\n",
        "plt.show()"
      ],
      "execution_count": 53,
      "outputs": [
        {
          "output_type": "display_data",
          "data": {
            "image/png": "[encoded data removed]",
            "text/plain": [
              "<Figure size 720x576 with 1 Axes>"
            ]
          },
          "metadata": {}
        }
      ]
    },
    {
      "cell_type": "code",
      "metadata": {
        "colab": {
          "base_uri": "https://localhost:8080/",
          "height": 301
        },
        "id": "wEYY1aZSCQKA",
        "outputId": "f7fde741-848b-407d-ca4d-ffb26f6d757e"
      },
      "source": [
        "sns.countplot(x=dfte[\"education_level\"])\n",
        "plt.title(\"Gráfico do nível educacional do candidato\")\n",
        "plt.xlabel(\"Nível de educação do funcionário\")\n",
        "plt.ylabel(\"Incidências\")\n",
        "plt.show()"
      ],
      "execution_count": 54,
      "outputs": [
        {
          "output_type": "display_data",
          "data": {
            "image/png": "[encoded data removed]",
            "text/plain": [
              "<Figure size 432x288 with 1 Axes>"
            ]
          },
          "metadata": {}
        }
      ]
    },
    {
      "cell_type": "markdown",
      "metadata": {
        "id": "DOk6_FZIEoQY"
      },
      "source": [
        "Agora, com certas colunas já selecionadas e determinadas, vamos construir um modelo que busca predizer se um determinado cientista de dados deseja mudar de emprego ou não, para chegar ao objetivo da predição exigida.\n",
        "\n",
        "Novamente, contudo, enalteço que a mudança para valores numéricos fica aqui restrita para a análise, já que todas as colunas serão a seguir adaptadas para os modelos de predição, mantendo suas variáveis como categóricas ou numéricas."
      ]
    },
    {
      "cell_type": "markdown",
      "metadata": {
        "id": "C7l9mmHSuIKC"
      },
      "source": [
        "# Predição de Dados\n",
        "\n",
        "Permeando a noção de Machine Learning agora, após limpar os dados e perceber os insights apresentados anteriormente, começarei a usar modelos para predizer se uma determinada pessoa está ou não procurando mudar de emprego, usando assim de aprendizado supervisionado. Além de avaliar se as substituições e seleções de colunas que fiz realmente terão bons êxitos. \n",
        "\n",
        "Sobre os dados, usualmente, selecionando um dataset, tem-se 70% dele usado para treino, deixando o 30% para teste, por isso tais valores estão assim contabilizados. \n",
        "\n",
        "Finalmente, antes de iniciar realmente a predição, aponto a busca de um modelo \"just right\", dessa maneira insurgindo de Overfitting ou Underfitting."
      ]
    },
    {
      "cell_type": "markdown",
      "metadata": {
        "id": "7cflWKIvy9MA"
      },
      "source": [
        "Objetivando esse modelo \"just right\", então, discorre-se sobre o modelo de Regressão Linear, selecionado primeiramente e apontando o quanto tal projeto teve cuidado com métricas e acurácias, pois é justamente pelo baixo valor desta para a Regressão a seguir, que enfatizo a busca sempre de melhores acurácias e precisões, treinando um modelo que obtenha bons resultados para realizar a predição necessária.\n"
      ]
    },
    {
      "cell_type": "markdown",
      "metadata": {
        "id": "DadY8npByWS4"
      },
      "source": [
        "Primeiramente, além do *numpy* e do *pandas* já importados, resgato a biblioteca sklearn, por apresentar modelos de predição já prontos, assim como especificados a seguir."
      ]
    },
    {
      "cell_type": "code",
      "metadata": {
        "id": "DcEVfnHM4OPD"
      },
      "source": [
        "from sklearn.model_selection import train_test_split  # separando o dataset como treino do teste\n",
        "from sklearn.linear_model import LinearRegression  # modelo que tentarei usar primeiramente"
      ],
      "execution_count": 55,
      "outputs": []
    },
    {
      "cell_type": "markdown",
      "metadata": {
        "id": "J0MCrditR9-F"
      },
      "source": [
        "Adapto todas as colunas para que se encaixem nos modelos de predição, usando os seguintes códigos."
      ]
    },
    {
      "cell_type": "code",
      "metadata": {
        "colab": {
          "base_uri": "https://localhost:8080/",
          "height": 475
        },
        "id": "nmPW0tcCDg_3",
        "outputId": "f47220b7-a2cd-4bc0-bce5-084430b9ed89"
      },
      "source": [
        "pd.get_dummies(dftr, columns=[\"city_development_index\", \"city\", \"experience\", \"company_size\", \"last_new_job\", \"training_hours\", \"target\", \"company_type\", \"major_discipline\", 'gender', \"relevent_experience\", \"enrolled_university\", \"education_level\"])\n"
      ],
      "execution_count": 120,
      "outputs": [
        {
          "output_type": "execute_result",
          "data": {
            "text/html": [
              "<div>\n",
              "<style scoped>\n",
              "    .dataframe tbody tr th:only-of-type {\n",
              "        vertical-align: middle;\n",
              "    }\n",
              "\n",
              "    .dataframe tbody tr th {\n",
              "        vertical-align: top;\n",
              "    }\n",
              "\n",
              "    .dataframe thead th {\n",
              "        text-align: right;\n",
              "    }\n",
              "</style>\n",
              "<table border=\"1\" class=\"dataframe\">\n",
              "  <thead>\n",
              "    <tr style=\"text-align: right;\">\n",
              "      <th></th>\n",
              "      <th>city_development_index_0.448</th>\n",
              "      <th>city_development_index_0.479</th>\n",
              "      <th>city_development_index_0.487</th>\n",
              "      <th>city_development_index_0.493</th>\n",
              "      <th>city_development_index_0.512</th>\n",
              "      <th>city_development_index_0.516</th>\n",
              "      <th>city_development_index_0.518</th>\n",
              "      <th>city_development_index_0.527</th>\n",
              "      <th>city_development_index_0.55</th>\n",
              "      <th>city_development_index_0.555</th>\n",
              "      <th>city_development_index_0.556</th>\n",
              "      <th>city_development_index_0.5579999999999999</th>\n",
              "      <th>city_development_index_0.563</th>\n",
              "      <th>city_development_index_0.579</th>\n",
              "      <th>city_development_index_0.624</th>\n",
              "      <th>city_development_index_0.625</th>\n",
              "      <th>city_development_index_0.64</th>\n",
              "      <th>city_development_index_0.645</th>\n",
              "      <th>city_development_index_0.647</th>\n",
              "      <th>city_development_index_0.649</th>\n",
              "      <th>city_development_index_0.6659999999999999</th>\n",
              "      <th>city_development_index_0.68</th>\n",
              "      <th>city_development_index_0.682</th>\n",
              "      <th>city_development_index_0.6890000000000001</th>\n",
              "      <th>city_development_index_0.691</th>\n",
              "      <th>city_development_index_0.693</th>\n",
              "      <th>city_development_index_0.698</th>\n",
              "      <th>city_development_index_0.701</th>\n",
              "      <th>city_development_index_0.722</th>\n",
              "      <th>city_development_index_0.725</th>\n",
              "      <th>city_development_index_0.727</th>\n",
              "      <th>city_development_index_0.73</th>\n",
              "      <th>city_development_index_0.735</th>\n",
              "      <th>city_development_index_0.738</th>\n",
              "      <th>city_development_index_0.7390000000000001</th>\n",
              "      <th>city_development_index_0.74</th>\n",
              "      <th>city_development_index_0.742</th>\n",
              "      <th>city_development_index_0.743</th>\n",
              "      <th>city_development_index_0.745</th>\n",
              "      <th>city_development_index_0.754</th>\n",
              "      <th>...</th>\n",
              "      <th>training_hours_306</th>\n",
              "      <th>training_hours_308</th>\n",
              "      <th>training_hours_310</th>\n",
              "      <th>training_hours_312</th>\n",
              "      <th>training_hours_314</th>\n",
              "      <th>training_hours_316</th>\n",
              "      <th>training_hours_320</th>\n",
              "      <th>training_hours_322</th>\n",
              "      <th>training_hours_324</th>\n",
              "      <th>training_hours_326</th>\n",
              "      <th>training_hours_328</th>\n",
              "      <th>training_hours_330</th>\n",
              "      <th>training_hours_332</th>\n",
              "      <th>training_hours_334</th>\n",
              "      <th>training_hours_336</th>\n",
              "      <th>target_0</th>\n",
              "      <th>target_1</th>\n",
              "      <th>company_type_0</th>\n",
              "      <th>company_type_1</th>\n",
              "      <th>company_type_2</th>\n",
              "      <th>company_type_3</th>\n",
              "      <th>company_type_4</th>\n",
              "      <th>company_type_5</th>\n",
              "      <th>major_discipline_0</th>\n",
              "      <th>major_discipline_1</th>\n",
              "      <th>major_discipline_2</th>\n",
              "      <th>major_discipline_3</th>\n",
              "      <th>major_discipline_4</th>\n",
              "      <th>major_discipline_5</th>\n",
              "      <th>gender_0</th>\n",
              "      <th>gender_1</th>\n",
              "      <th>gender_2</th>\n",
              "      <th>relevent_experience_0</th>\n",
              "      <th>relevent_experience_1</th>\n",
              "      <th>enrolled_university_0</th>\n",
              "      <th>enrolled_university_1</th>\n",
              "      <th>enrolled_university_2</th>\n",
              "      <th>education_level_0</th>\n",
              "      <th>education_level_1</th>\n",
              "      <th>education_level_2</th>\n",
              "    </tr>\n",
              "    <tr>\n",
              "      <th>enrollee_id</th>\n",
              "      <th></th>\n",
              "      <th></th>\n",
              "      <th></th>\n",
              "      <th></th>\n",
              "      <th></th>\n",
              "      <th></th>\n",
              "      <th></th>\n",
              "      <th></th>\n",
              "      <th></th>\n",
              "      <th></th>\n",
              "      <th></th>\n",
              "      <th></th>\n",
              "      <th></th>\n",
              "      <th></th>\n",
              "      <th></th>\n",
              "      <th></th>\n",
              "      <th></th>\n",
              "      <th></th>\n",
              "      <th></th>\n",
              "      <th></th>\n",
              "      <th></th>\n",
              "      <th></th>\n",
              "      <th></th>\n",
              "      <th></th>\n",
              "      <th></th>\n",
              "      <th></th>\n",
              "      <th></th>\n",
              "      <th></th>\n",
              "      <th></th>\n",
              "      <th></th>\n",
              "      <th></th>\n",
              "      <th></th>\n",
              "      <th></th>\n",
              "      <th></th>\n",
              "      <th></th>\n",
              "      <th></th>\n",
              "      <th></th>\n",
              "      <th></th>\n",
              "      <th></th>\n",
              "      <th></th>\n",
              "      <th></th>\n",
              "      <th></th>\n",
              "      <th></th>\n",
              "      <th></th>\n",
              "      <th></th>\n",
              "      <th></th>\n",
              "      <th></th>\n",
              "      <th></th>\n",
              "      <th></th>\n",
              "      <th></th>\n",
              "      <th></th>\n",
              "      <th></th>\n",
              "      <th></th>\n",
              "      <th></th>\n",
              "      <th></th>\n",
              "      <th></th>\n",
              "      <th></th>\n",
              "      <th></th>\n",
              "      <th></th>\n",
              "      <th></th>\n",
              "      <th></th>\n",
              "      <th></th>\n",
              "      <th></th>\n",
              "      <th></th>\n",
              "      <th></th>\n",
              "      <th></th>\n",
              "      <th></th>\n",
              "      <th></th>\n",
              "      <th></th>\n",
              "      <th></th>\n",
              "      <th></th>\n",
              "      <th></th>\n",
              "      <th></th>\n",
              "      <th></th>\n",
              "      <th></th>\n",
              "      <th></th>\n",
              "      <th></th>\n",
              "      <th></th>\n",
              "      <th></th>\n",
              "      <th></th>\n",
              "      <th></th>\n",
              "    </tr>\n",
              "  </thead>\n",
              "  <tbody>\n",
              "    <tr>\n",
              "      <th>29725</th>\n",
              "      <td>0</td>\n",
              "      <td>0</td>\n",
              "      <td>0</td>\n",
              "      <td>0</td>\n",
              "      <td>0</td>\n",
              "      <td>0</td>\n",
              "      <td>0</td>\n",
              "      <td>0</td>\n",
              "      <td>0</td>\n",
              "      <td>0</td>\n",
              "      <td>0</td>\n",
              "      <td>0</td>\n",
              "      <td>0</td>\n",
              "      <td>0</td>\n",
              "      <td>0</td>\n",
              "      <td>0</td>\n",
              "      <td>0</td>\n",
              "      <td>0</td>\n",
              "      <td>0</td>\n",
              "      <td>0</td>\n",
              "      <td>0</td>\n",
              "      <td>0</td>\n",
              "      <td>0</td>\n",
              "      <td>0</td>\n",
              "      <td>0</td>\n",
              "      <td>0</td>\n",
              "      <td>0</td>\n",
              "      <td>0</td>\n",
              "      <td>0</td>\n",
              "      <td>0</td>\n",
              "      <td>0</td>\n",
              "      <td>0</td>\n",
              "      <td>0</td>\n",
              "      <td>0</td>\n",
              "      <td>0</td>\n",
              "      <td>0</td>\n",
              "      <td>0</td>\n",
              "      <td>0</td>\n",
              "      <td>0</td>\n",
              "      <td>0</td>\n",
              "      <td>...</td>\n",
              "      <td>0</td>\n",
              "      <td>0</td>\n",
              "      <td>0</td>\n",
              "      <td>0</td>\n",
              "      <td>0</td>\n",
              "      <td>0</td>\n",
              "      <td>0</td>\n",
              "      <td>0</td>\n",
              "      <td>0</td>\n",
              "      <td>0</td>\n",
              "      <td>0</td>\n",
              "      <td>0</td>\n",
              "      <td>0</td>\n",
              "      <td>0</td>\n",
              "      <td>0</td>\n",
              "      <td>1</td>\n",
              "      <td>0</td>\n",
              "      <td>1</td>\n",
              "      <td>0</td>\n",
              "      <td>0</td>\n",
              "      <td>0</td>\n",
              "      <td>0</td>\n",
              "      <td>0</td>\n",
              "      <td>1</td>\n",
              "      <td>0</td>\n",
              "      <td>0</td>\n",
              "      <td>0</td>\n",
              "      <td>0</td>\n",
              "      <td>0</td>\n",
              "      <td>1</td>\n",
              "      <td>0</td>\n",
              "      <td>0</td>\n",
              "      <td>0</td>\n",
              "      <td>1</td>\n",
              "      <td>1</td>\n",
              "      <td>0</td>\n",
              "      <td>0</td>\n",
              "      <td>1</td>\n",
              "      <td>0</td>\n",
              "      <td>0</td>\n",
              "    </tr>\n",
              "    <tr>\n",
              "      <th>666</th>\n",
              "      <td>0</td>\n",
              "      <td>0</td>\n",
              "      <td>0</td>\n",
              "      <td>0</td>\n",
              "      <td>0</td>\n",
              "      <td>0</td>\n",
              "      <td>0</td>\n",
              "      <td>0</td>\n",
              "      <td>0</td>\n",
              "      <td>0</td>\n",
              "      <td>0</td>\n",
              "      <td>0</td>\n",
              "      <td>0</td>\n",
              "      <td>0</td>\n",
              "      <td>0</td>\n",
              "      <td>0</td>\n",
              "      <td>0</td>\n",
              "      <td>0</td>\n",
              "      <td>0</td>\n",
              "      <td>0</td>\n",
              "      <td>0</td>\n",
              "      <td>0</td>\n",
              "      <td>0</td>\n",
              "      <td>0</td>\n",
              "      <td>0</td>\n",
              "      <td>0</td>\n",
              "      <td>0</td>\n",
              "      <td>0</td>\n",
              "      <td>0</td>\n",
              "      <td>0</td>\n",
              "      <td>0</td>\n",
              "      <td>0</td>\n",
              "      <td>0</td>\n",
              "      <td>0</td>\n",
              "      <td>0</td>\n",
              "      <td>0</td>\n",
              "      <td>0</td>\n",
              "      <td>0</td>\n",
              "      <td>0</td>\n",
              "      <td>0</td>\n",
              "      <td>...</td>\n",
              "      <td>0</td>\n",
              "      <td>0</td>\n",
              "      <td>0</td>\n",
              "      <td>0</td>\n",
              "      <td>0</td>\n",
              "      <td>0</td>\n",
              "      <td>0</td>\n",
              "      <td>0</td>\n",
              "      <td>0</td>\n",
              "      <td>0</td>\n",
              "      <td>0</td>\n",
              "      <td>0</td>\n",
              "      <td>0</td>\n",
              "      <td>0</td>\n",
              "      <td>0</td>\n",
              "      <td>1</td>\n",
              "      <td>0</td>\n",
              "      <td>0</td>\n",
              "      <td>1</td>\n",
              "      <td>0</td>\n",
              "      <td>0</td>\n",
              "      <td>0</td>\n",
              "      <td>0</td>\n",
              "      <td>1</td>\n",
              "      <td>0</td>\n",
              "      <td>0</td>\n",
              "      <td>0</td>\n",
              "      <td>0</td>\n",
              "      <td>0</td>\n",
              "      <td>1</td>\n",
              "      <td>0</td>\n",
              "      <td>0</td>\n",
              "      <td>1</td>\n",
              "      <td>0</td>\n",
              "      <td>1</td>\n",
              "      <td>0</td>\n",
              "      <td>0</td>\n",
              "      <td>0</td>\n",
              "      <td>1</td>\n",
              "      <td>0</td>\n",
              "    </tr>\n",
              "    <tr>\n",
              "      <th>402</th>\n",
              "      <td>0</td>\n",
              "      <td>0</td>\n",
              "      <td>0</td>\n",
              "      <td>0</td>\n",
              "      <td>0</td>\n",
              "      <td>0</td>\n",
              "      <td>0</td>\n",
              "      <td>0</td>\n",
              "      <td>0</td>\n",
              "      <td>0</td>\n",
              "      <td>0</td>\n",
              "      <td>0</td>\n",
              "      <td>0</td>\n",
              "      <td>0</td>\n",
              "      <td>0</td>\n",
              "      <td>0</td>\n",
              "      <td>0</td>\n",
              "      <td>0</td>\n",
              "      <td>0</td>\n",
              "      <td>0</td>\n",
              "      <td>0</td>\n",
              "      <td>0</td>\n",
              "      <td>0</td>\n",
              "      <td>0</td>\n",
              "      <td>0</td>\n",
              "      <td>0</td>\n",
              "      <td>0</td>\n",
              "      <td>0</td>\n",
              "      <td>0</td>\n",
              "      <td>0</td>\n",
              "      <td>0</td>\n",
              "      <td>0</td>\n",
              "      <td>0</td>\n",
              "      <td>0</td>\n",
              "      <td>0</td>\n",
              "      <td>0</td>\n",
              "      <td>0</td>\n",
              "      <td>0</td>\n",
              "      <td>0</td>\n",
              "      <td>0</td>\n",
              "      <td>...</td>\n",
              "      <td>0</td>\n",
              "      <td>0</td>\n",
              "      <td>0</td>\n",
              "      <td>0</td>\n",
              "      <td>0</td>\n",
              "      <td>0</td>\n",
              "      <td>0</td>\n",
              "      <td>0</td>\n",
              "      <td>0</td>\n",
              "      <td>0</td>\n",
              "      <td>0</td>\n",
              "      <td>0</td>\n",
              "      <td>0</td>\n",
              "      <td>0</td>\n",
              "      <td>0</td>\n",
              "      <td>0</td>\n",
              "      <td>1</td>\n",
              "      <td>1</td>\n",
              "      <td>0</td>\n",
              "      <td>0</td>\n",
              "      <td>0</td>\n",
              "      <td>0</td>\n",
              "      <td>0</td>\n",
              "      <td>1</td>\n",
              "      <td>0</td>\n",
              "      <td>0</td>\n",
              "      <td>0</td>\n",
              "      <td>0</td>\n",
              "      <td>0</td>\n",
              "      <td>1</td>\n",
              "      <td>0</td>\n",
              "      <td>0</td>\n",
              "      <td>1</td>\n",
              "      <td>0</td>\n",
              "      <td>1</td>\n",
              "      <td>0</td>\n",
              "      <td>0</td>\n",
              "      <td>1</td>\n",
              "      <td>0</td>\n",
              "      <td>0</td>\n",
              "    </tr>\n",
              "    <tr>\n",
              "      <th>27107</th>\n",
              "      <td>0</td>\n",
              "      <td>0</td>\n",
              "      <td>0</td>\n",
              "      <td>0</td>\n",
              "      <td>0</td>\n",
              "      <td>0</td>\n",
              "      <td>0</td>\n",
              "      <td>0</td>\n",
              "      <td>0</td>\n",
              "      <td>0</td>\n",
              "      <td>0</td>\n",
              "      <td>0</td>\n",
              "      <td>0</td>\n",
              "      <td>0</td>\n",
              "      <td>0</td>\n",
              "      <td>0</td>\n",
              "      <td>0</td>\n",
              "      <td>0</td>\n",
              "      <td>0</td>\n",
              "      <td>0</td>\n",
              "      <td>0</td>\n",
              "      <td>0</td>\n",
              "      <td>0</td>\n",
              "      <td>0</td>\n",
              "      <td>0</td>\n",
              "      <td>0</td>\n",
              "      <td>0</td>\n",
              "      <td>0</td>\n",
              "      <td>0</td>\n",
              "      <td>0</td>\n",
              "      <td>0</td>\n",
              "      <td>0</td>\n",
              "      <td>0</td>\n",
              "      <td>0</td>\n",
              "      <td>0</td>\n",
              "      <td>0</td>\n",
              "      <td>0</td>\n",
              "      <td>0</td>\n",
              "      <td>0</td>\n",
              "      <td>0</td>\n",
              "      <td>...</td>\n",
              "      <td>0</td>\n",
              "      <td>0</td>\n",
              "      <td>0</td>\n",
              "      <td>0</td>\n",
              "      <td>0</td>\n",
              "      <td>0</td>\n",
              "      <td>0</td>\n",
              "      <td>0</td>\n",
              "      <td>0</td>\n",
              "      <td>0</td>\n",
              "      <td>0</td>\n",
              "      <td>0</td>\n",
              "      <td>0</td>\n",
              "      <td>0</td>\n",
              "      <td>0</td>\n",
              "      <td>0</td>\n",
              "      <td>1</td>\n",
              "      <td>1</td>\n",
              "      <td>0</td>\n",
              "      <td>0</td>\n",
              "      <td>0</td>\n",
              "      <td>0</td>\n",
              "      <td>0</td>\n",
              "      <td>1</td>\n",
              "      <td>0</td>\n",
              "      <td>0</td>\n",
              "      <td>0</td>\n",
              "      <td>0</td>\n",
              "      <td>0</td>\n",
              "      <td>1</td>\n",
              "      <td>0</td>\n",
              "      <td>0</td>\n",
              "      <td>1</td>\n",
              "      <td>0</td>\n",
              "      <td>1</td>\n",
              "      <td>0</td>\n",
              "      <td>0</td>\n",
              "      <td>1</td>\n",
              "      <td>0</td>\n",
              "      <td>0</td>\n",
              "    </tr>\n",
              "    <tr>\n",
              "      <th>23853</th>\n",
              "      <td>0</td>\n",
              "      <td>0</td>\n",
              "      <td>0</td>\n",
              "      <td>0</td>\n",
              "      <td>0</td>\n",
              "      <td>0</td>\n",
              "      <td>0</td>\n",
              "      <td>0</td>\n",
              "      <td>0</td>\n",
              "      <td>0</td>\n",
              "      <td>0</td>\n",
              "      <td>0</td>\n",
              "      <td>0</td>\n",
              "      <td>0</td>\n",
              "      <td>0</td>\n",
              "      <td>0</td>\n",
              "      <td>0</td>\n",
              "      <td>0</td>\n",
              "      <td>0</td>\n",
              "      <td>0</td>\n",
              "      <td>0</td>\n",
              "      <td>0</td>\n",
              "      <td>0</td>\n",
              "      <td>0</td>\n",
              "      <td>0</td>\n",
              "      <td>0</td>\n",
              "      <td>0</td>\n",
              "      <td>0</td>\n",
              "      <td>0</td>\n",
              "      <td>0</td>\n",
              "      <td>0</td>\n",
              "      <td>0</td>\n",
              "      <td>0</td>\n",
              "      <td>0</td>\n",
              "      <td>0</td>\n",
              "      <td>0</td>\n",
              "      <td>0</td>\n",
              "      <td>0</td>\n",
              "      <td>0</td>\n",
              "      <td>0</td>\n",
              "      <td>...</td>\n",
              "      <td>0</td>\n",
              "      <td>0</td>\n",
              "      <td>0</td>\n",
              "      <td>0</td>\n",
              "      <td>0</td>\n",
              "      <td>0</td>\n",
              "      <td>0</td>\n",
              "      <td>0</td>\n",
              "      <td>0</td>\n",
              "      <td>0</td>\n",
              "      <td>0</td>\n",
              "      <td>0</td>\n",
              "      <td>0</td>\n",
              "      <td>0</td>\n",
              "      <td>0</td>\n",
              "      <td>1</td>\n",
              "      <td>0</td>\n",
              "      <td>1</td>\n",
              "      <td>0</td>\n",
              "      <td>0</td>\n",
              "      <td>0</td>\n",
              "      <td>0</td>\n",
              "      <td>0</td>\n",
              "      <td>1</td>\n",
              "      <td>0</td>\n",
              "      <td>0</td>\n",
              "      <td>0</td>\n",
              "      <td>0</td>\n",
              "      <td>0</td>\n",
              "      <td>1</td>\n",
              "      <td>0</td>\n",
              "      <td>0</td>\n",
              "      <td>1</td>\n",
              "      <td>0</td>\n",
              "      <td>1</td>\n",
              "      <td>0</td>\n",
              "      <td>0</td>\n",
              "      <td>1</td>\n",
              "      <td>0</td>\n",
              "      <td>0</td>\n",
              "    </tr>\n",
              "    <tr>\n",
              "      <th>...</th>\n",
              "      <td>...</td>\n",
              "      <td>...</td>\n",
              "      <td>...</td>\n",
              "      <td>...</td>\n",
              "      <td>...</td>\n",
              "      <td>...</td>\n",
              "      <td>...</td>\n",
              "      <td>...</td>\n",
              "      <td>...</td>\n",
              "      <td>...</td>\n",
              "      <td>...</td>\n",
              "      <td>...</td>\n",
              "      <td>...</td>\n",
              "      <td>...</td>\n",
              "      <td>...</td>\n",
              "      <td>...</td>\n",
              "      <td>...</td>\n",
              "      <td>...</td>\n",
              "      <td>...</td>\n",
              "      <td>...</td>\n",
              "      <td>...</td>\n",
              "      <td>...</td>\n",
              "      <td>...</td>\n",
              "      <td>...</td>\n",
              "      <td>...</td>\n",
              "      <td>...</td>\n",
              "      <td>...</td>\n",
              "      <td>...</td>\n",
              "      <td>...</td>\n",
              "      <td>...</td>\n",
              "      <td>...</td>\n",
              "      <td>...</td>\n",
              "      <td>...</td>\n",
              "      <td>...</td>\n",
              "      <td>...</td>\n",
              "      <td>...</td>\n",
              "      <td>...</td>\n",
              "      <td>...</td>\n",
              "      <td>...</td>\n",
              "      <td>...</td>\n",
              "      <td>...</td>\n",
              "      <td>...</td>\n",
              "      <td>...</td>\n",
              "      <td>...</td>\n",
              "      <td>...</td>\n",
              "      <td>...</td>\n",
              "      <td>...</td>\n",
              "      <td>...</td>\n",
              "      <td>...</td>\n",
              "      <td>...</td>\n",
              "      <td>...</td>\n",
              "      <td>...</td>\n",
              "      <td>...</td>\n",
              "      <td>...</td>\n",
              "      <td>...</td>\n",
              "      <td>...</td>\n",
              "      <td>...</td>\n",
              "      <td>...</td>\n",
              "      <td>...</td>\n",
              "      <td>...</td>\n",
              "      <td>...</td>\n",
              "      <td>...</td>\n",
              "      <td>...</td>\n",
              "      <td>...</td>\n",
              "      <td>...</td>\n",
              "      <td>...</td>\n",
              "      <td>...</td>\n",
              "      <td>...</td>\n",
              "      <td>...</td>\n",
              "      <td>...</td>\n",
              "      <td>...</td>\n",
              "      <td>...</td>\n",
              "      <td>...</td>\n",
              "      <td>...</td>\n",
              "      <td>...</td>\n",
              "      <td>...</td>\n",
              "      <td>...</td>\n",
              "      <td>...</td>\n",
              "      <td>...</td>\n",
              "      <td>...</td>\n",
              "      <td>...</td>\n",
              "    </tr>\n",
              "    <tr>\n",
              "      <th>21319</th>\n",
              "      <td>0</td>\n",
              "      <td>0</td>\n",
              "      <td>0</td>\n",
              "      <td>0</td>\n",
              "      <td>0</td>\n",
              "      <td>0</td>\n",
              "      <td>0</td>\n",
              "      <td>0</td>\n",
              "      <td>0</td>\n",
              "      <td>0</td>\n",
              "      <td>0</td>\n",
              "      <td>0</td>\n",
              "      <td>0</td>\n",
              "      <td>0</td>\n",
              "      <td>1</td>\n",
              "      <td>0</td>\n",
              "      <td>0</td>\n",
              "      <td>0</td>\n",
              "      <td>0</td>\n",
              "      <td>0</td>\n",
              "      <td>0</td>\n",
              "      <td>0</td>\n",
              "      <td>0</td>\n",
              "      <td>0</td>\n",
              "      <td>0</td>\n",
              "      <td>0</td>\n",
              "      <td>0</td>\n",
              "      <td>0</td>\n",
              "      <td>0</td>\n",
              "      <td>0</td>\n",
              "      <td>0</td>\n",
              "      <td>0</td>\n",
              "      <td>0</td>\n",
              "      <td>0</td>\n",
              "      <td>0</td>\n",
              "      <td>0</td>\n",
              "      <td>0</td>\n",
              "      <td>0</td>\n",
              "      <td>0</td>\n",
              "      <td>0</td>\n",
              "      <td>...</td>\n",
              "      <td>0</td>\n",
              "      <td>0</td>\n",
              "      <td>0</td>\n",
              "      <td>0</td>\n",
              "      <td>0</td>\n",
              "      <td>0</td>\n",
              "      <td>0</td>\n",
              "      <td>0</td>\n",
              "      <td>0</td>\n",
              "      <td>0</td>\n",
              "      <td>0</td>\n",
              "      <td>0</td>\n",
              "      <td>0</td>\n",
              "      <td>0</td>\n",
              "      <td>0</td>\n",
              "      <td>0</td>\n",
              "      <td>1</td>\n",
              "      <td>1</td>\n",
              "      <td>0</td>\n",
              "      <td>0</td>\n",
              "      <td>0</td>\n",
              "      <td>0</td>\n",
              "      <td>0</td>\n",
              "      <td>1</td>\n",
              "      <td>0</td>\n",
              "      <td>0</td>\n",
              "      <td>0</td>\n",
              "      <td>0</td>\n",
              "      <td>0</td>\n",
              "      <td>1</td>\n",
              "      <td>0</td>\n",
              "      <td>0</td>\n",
              "      <td>0</td>\n",
              "      <td>1</td>\n",
              "      <td>0</td>\n",
              "      <td>0</td>\n",
              "      <td>1</td>\n",
              "      <td>1</td>\n",
              "      <td>0</td>\n",
              "      <td>0</td>\n",
              "    </tr>\n",
              "    <tr>\n",
              "      <th>251</th>\n",
              "      <td>0</td>\n",
              "      <td>0</td>\n",
              "      <td>0</td>\n",
              "      <td>0</td>\n",
              "      <td>0</td>\n",
              "      <td>0</td>\n",
              "      <td>0</td>\n",
              "      <td>0</td>\n",
              "      <td>0</td>\n",
              "      <td>0</td>\n",
              "      <td>0</td>\n",
              "      <td>0</td>\n",
              "      <td>0</td>\n",
              "      <td>0</td>\n",
              "      <td>0</td>\n",
              "      <td>0</td>\n",
              "      <td>0</td>\n",
              "      <td>0</td>\n",
              "      <td>0</td>\n",
              "      <td>0</td>\n",
              "      <td>0</td>\n",
              "      <td>0</td>\n",
              "      <td>0</td>\n",
              "      <td>0</td>\n",
              "      <td>0</td>\n",
              "      <td>0</td>\n",
              "      <td>0</td>\n",
              "      <td>0</td>\n",
              "      <td>0</td>\n",
              "      <td>0</td>\n",
              "      <td>0</td>\n",
              "      <td>0</td>\n",
              "      <td>0</td>\n",
              "      <td>0</td>\n",
              "      <td>0</td>\n",
              "      <td>0</td>\n",
              "      <td>0</td>\n",
              "      <td>0</td>\n",
              "      <td>0</td>\n",
              "      <td>0</td>\n",
              "      <td>...</td>\n",
              "      <td>0</td>\n",
              "      <td>0</td>\n",
              "      <td>0</td>\n",
              "      <td>0</td>\n",
              "      <td>0</td>\n",
              "      <td>0</td>\n",
              "      <td>0</td>\n",
              "      <td>0</td>\n",
              "      <td>0</td>\n",
              "      <td>0</td>\n",
              "      <td>0</td>\n",
              "      <td>0</td>\n",
              "      <td>0</td>\n",
              "      <td>0</td>\n",
              "      <td>0</td>\n",
              "      <td>0</td>\n",
              "      <td>1</td>\n",
              "      <td>1</td>\n",
              "      <td>0</td>\n",
              "      <td>0</td>\n",
              "      <td>0</td>\n",
              "      <td>0</td>\n",
              "      <td>0</td>\n",
              "      <td>1</td>\n",
              "      <td>0</td>\n",
              "      <td>0</td>\n",
              "      <td>0</td>\n",
              "      <td>0</td>\n",
              "      <td>0</td>\n",
              "      <td>1</td>\n",
              "      <td>0</td>\n",
              "      <td>0</td>\n",
              "      <td>1</td>\n",
              "      <td>0</td>\n",
              "      <td>1</td>\n",
              "      <td>0</td>\n",
              "      <td>0</td>\n",
              "      <td>0</td>\n",
              "      <td>1</td>\n",
              "      <td>0</td>\n",
              "    </tr>\n",
              "    <tr>\n",
              "      <th>32313</th>\n",
              "      <td>0</td>\n",
              "      <td>0</td>\n",
              "      <td>0</td>\n",
              "      <td>0</td>\n",
              "      <td>0</td>\n",
              "      <td>0</td>\n",
              "      <td>0</td>\n",
              "      <td>0</td>\n",
              "      <td>0</td>\n",
              "      <td>0</td>\n",
              "      <td>0</td>\n",
              "      <td>0</td>\n",
              "      <td>0</td>\n",
              "      <td>0</td>\n",
              "      <td>0</td>\n",
              "      <td>0</td>\n",
              "      <td>0</td>\n",
              "      <td>0</td>\n",
              "      <td>0</td>\n",
              "      <td>0</td>\n",
              "      <td>0</td>\n",
              "      <td>0</td>\n",
              "      <td>0</td>\n",
              "      <td>0</td>\n",
              "      <td>0</td>\n",
              "      <td>0</td>\n",
              "      <td>0</td>\n",
              "      <td>0</td>\n",
              "      <td>0</td>\n",
              "      <td>0</td>\n",
              "      <td>0</td>\n",
              "      <td>0</td>\n",
              "      <td>0</td>\n",
              "      <td>0</td>\n",
              "      <td>0</td>\n",
              "      <td>0</td>\n",
              "      <td>0</td>\n",
              "      <td>0</td>\n",
              "      <td>0</td>\n",
              "      <td>0</td>\n",
              "      <td>...</td>\n",
              "      <td>0</td>\n",
              "      <td>0</td>\n",
              "      <td>0</td>\n",
              "      <td>0</td>\n",
              "      <td>0</td>\n",
              "      <td>0</td>\n",
              "      <td>0</td>\n",
              "      <td>0</td>\n",
              "      <td>0</td>\n",
              "      <td>0</td>\n",
              "      <td>0</td>\n",
              "      <td>0</td>\n",
              "      <td>0</td>\n",
              "      <td>0</td>\n",
              "      <td>0</td>\n",
              "      <td>1</td>\n",
              "      <td>0</td>\n",
              "      <td>0</td>\n",
              "      <td>0</td>\n",
              "      <td>0</td>\n",
              "      <td>1</td>\n",
              "      <td>0</td>\n",
              "      <td>0</td>\n",
              "      <td>1</td>\n",
              "      <td>0</td>\n",
              "      <td>0</td>\n",
              "      <td>0</td>\n",
              "      <td>0</td>\n",
              "      <td>0</td>\n",
              "      <td>0</td>\n",
              "      <td>1</td>\n",
              "      <td>0</td>\n",
              "      <td>1</td>\n",
              "      <td>0</td>\n",
              "      <td>1</td>\n",
              "      <td>0</td>\n",
              "      <td>0</td>\n",
              "      <td>1</td>\n",
              "      <td>0</td>\n",
              "      <td>0</td>\n",
              "    </tr>\n",
              "    <tr>\n",
              "      <th>29754</th>\n",
              "      <td>0</td>\n",
              "      <td>0</td>\n",
              "      <td>0</td>\n",
              "      <td>0</td>\n",
              "      <td>0</td>\n",
              "      <td>0</td>\n",
              "      <td>0</td>\n",
              "      <td>0</td>\n",
              "      <td>0</td>\n",
              "      <td>0</td>\n",
              "      <td>0</td>\n",
              "      <td>0</td>\n",
              "      <td>0</td>\n",
              "      <td>0</td>\n",
              "      <td>0</td>\n",
              "      <td>0</td>\n",
              "      <td>0</td>\n",
              "      <td>0</td>\n",
              "      <td>0</td>\n",
              "      <td>0</td>\n",
              "      <td>0</td>\n",
              "      <td>0</td>\n",
              "      <td>0</td>\n",
              "      <td>0</td>\n",
              "      <td>0</td>\n",
              "      <td>0</td>\n",
              "      <td>0</td>\n",
              "      <td>0</td>\n",
              "      <td>0</td>\n",
              "      <td>0</td>\n",
              "      <td>0</td>\n",
              "      <td>0</td>\n",
              "      <td>0</td>\n",
              "      <td>0</td>\n",
              "      <td>0</td>\n",
              "      <td>0</td>\n",
              "      <td>0</td>\n",
              "      <td>0</td>\n",
              "      <td>0</td>\n",
              "      <td>0</td>\n",
              "      <td>...</td>\n",
              "      <td>0</td>\n",
              "      <td>0</td>\n",
              "      <td>0</td>\n",
              "      <td>0</td>\n",
              "      <td>0</td>\n",
              "      <td>0</td>\n",
              "      <td>0</td>\n",
              "      <td>0</td>\n",
              "      <td>0</td>\n",
              "      <td>0</td>\n",
              "      <td>0</td>\n",
              "      <td>0</td>\n",
              "      <td>0</td>\n",
              "      <td>0</td>\n",
              "      <td>0</td>\n",
              "      <td>1</td>\n",
              "      <td>0</td>\n",
              "      <td>0</td>\n",
              "      <td>1</td>\n",
              "      <td>0</td>\n",
              "      <td>0</td>\n",
              "      <td>0</td>\n",
              "      <td>0</td>\n",
              "      <td>0</td>\n",
              "      <td>0</td>\n",
              "      <td>1</td>\n",
              "      <td>0</td>\n",
              "      <td>0</td>\n",
              "      <td>0</td>\n",
              "      <td>0</td>\n",
              "      <td>1</td>\n",
              "      <td>0</td>\n",
              "      <td>1</td>\n",
              "      <td>0</td>\n",
              "      <td>1</td>\n",
              "      <td>0</td>\n",
              "      <td>0</td>\n",
              "      <td>1</td>\n",
              "      <td>0</td>\n",
              "      <td>0</td>\n",
              "    </tr>\n",
              "    <tr>\n",
              "      <th>24576</th>\n",
              "      <td>0</td>\n",
              "      <td>0</td>\n",
              "      <td>0</td>\n",
              "      <td>0</td>\n",
              "      <td>0</td>\n",
              "      <td>0</td>\n",
              "      <td>0</td>\n",
              "      <td>0</td>\n",
              "      <td>0</td>\n",
              "      <td>0</td>\n",
              "      <td>0</td>\n",
              "      <td>0</td>\n",
              "      <td>0</td>\n",
              "      <td>0</td>\n",
              "      <td>0</td>\n",
              "      <td>0</td>\n",
              "      <td>0</td>\n",
              "      <td>0</td>\n",
              "      <td>0</td>\n",
              "      <td>0</td>\n",
              "      <td>0</td>\n",
              "      <td>0</td>\n",
              "      <td>0</td>\n",
              "      <td>0</td>\n",
              "      <td>0</td>\n",
              "      <td>0</td>\n",
              "      <td>0</td>\n",
              "      <td>0</td>\n",
              "      <td>0</td>\n",
              "      <td>0</td>\n",
              "      <td>0</td>\n",
              "      <td>0</td>\n",
              "      <td>0</td>\n",
              "      <td>0</td>\n",
              "      <td>0</td>\n",
              "      <td>0</td>\n",
              "      <td>0</td>\n",
              "      <td>0</td>\n",
              "      <td>0</td>\n",
              "      <td>0</td>\n",
              "      <td>...</td>\n",
              "      <td>0</td>\n",
              "      <td>0</td>\n",
              "      <td>0</td>\n",
              "      <td>0</td>\n",
              "      <td>0</td>\n",
              "      <td>0</td>\n",
              "      <td>0</td>\n",
              "      <td>0</td>\n",
              "      <td>0</td>\n",
              "      <td>0</td>\n",
              "      <td>0</td>\n",
              "      <td>0</td>\n",
              "      <td>0</td>\n",
              "      <td>0</td>\n",
              "      <td>0</td>\n",
              "      <td>1</td>\n",
              "      <td>0</td>\n",
              "      <td>1</td>\n",
              "      <td>0</td>\n",
              "      <td>0</td>\n",
              "      <td>0</td>\n",
              "      <td>0</td>\n",
              "      <td>0</td>\n",
              "      <td>1</td>\n",
              "      <td>0</td>\n",
              "      <td>0</td>\n",
              "      <td>0</td>\n",
              "      <td>0</td>\n",
              "      <td>0</td>\n",
              "      <td>1</td>\n",
              "      <td>0</td>\n",
              "      <td>0</td>\n",
              "      <td>1</td>\n",
              "      <td>0</td>\n",
              "      <td>1</td>\n",
              "      <td>0</td>\n",
              "      <td>0</td>\n",
              "      <td>1</td>\n",
              "      <td>0</td>\n",
              "      <td>0</td>\n",
              "    </tr>\n",
              "  </tbody>\n",
              "</table>\n",
              "<p>8924 rows × 506 columns</p>\n",
              "</div>"
            ],
            "text/plain": [
              "             city_development_index_0.448  ...  education_level_2\n",
              "enrollee_id                                ...                   \n",
              "29725                                   0  ...                  0\n",
              "666                                     0  ...                  0\n",
              "402                                     0  ...                  0\n",
              "27107                                   0  ...                  0\n",
              "23853                                   0  ...                  0\n",
              "...                                   ...  ...                ...\n",
              "21319                                   0  ...                  0\n",
              "251                                     0  ...                  0\n",
              "32313                                   0  ...                  0\n",
              "29754                                   0  ...                  0\n",
              "24576                                   0  ...                  0\n",
              "\n",
              "[8924 rows x 506 columns]"
            ]
          },
          "metadata": {},
          "execution_count": 120
        }
      ]
    },
    {
      "cell_type": "markdown",
      "metadata": {
        "id": "NJAFgD2ngKjB"
      },
      "source": [
        "Separo os dados de treino e teste, primeiramente criando variáveis com certas colunas - inferidas pelas análises já feitas - e também originando variáveis de predição com todas as outras colunas. \n",
        "\n",
        "As variáveis são assim distinguidas para indicar a relação de algumas colunas com acurácia.\n",
        "\n"
      ]
    },
    {
      "cell_type": "code",
      "metadata": {
        "id": "I-w8Ebqn0Dxx"
      },
      "source": [
        "X = dftr[[\"last_new_job\", \"experience\", \"city_development_index\"]] \n",
        "\n",
        "y = dftr['target']\n",
        "\n",
        "X_train, X_test, y_train, y_test = train_test_split(X, y, test_size = 0.3,random_state=42)"
      ],
      "execution_count": 57,
      "outputs": []
    },
    {
      "cell_type": "code",
      "metadata": {
        "id": "6skt4trnIW27"
      },
      "source": [
        "X2 = dftr.drop([\"target\", \"city\"], axis=1)\n",
        "\n",
        "y2 = dftr['target']\n",
        "\n",
        "X2_train, X2_test, y2_train, y2_test = train_test_split(X2, y2, test_size = 0.3,random_state=42)"
      ],
      "execution_count": 121,
      "outputs": []
    },
    {
      "cell_type": "code",
      "metadata": {
        "id": "q_hlLDgNahkQ",
        "colab": {
          "base_uri": "https://localhost:8080/"
        },
        "outputId": "eb86ffa3-c2de-4139-b5e7-9b78751bb1dc"
      },
      "source": [
        "lr = LinearRegression() # Crio um modelo de regressão linear\n",
        "\n",
        "lr.fit(X_train, y_train)"
      ],
      "execution_count": 59,
      "outputs": [
        {
          "output_type": "execute_result",
          "data": {
            "text/plain": [
              "LinearRegression()"
            ]
          },
          "metadata": {},
          "execution_count": 59
        }
      ]
    },
    {
      "cell_type": "markdown",
      "metadata": {
        "id": "LB89-MEHgm02"
      },
      "source": [
        "Aparentemente o modelo já foi treinado e executado, agora, então, começarei a verificar sua predição e metrificar seus resultados, por conseguinte importando *mean_squared_error* e *r2_score*, em primeiro plano. "
      ]
    },
    {
      "cell_type": "code",
      "metadata": {
        "id": "C_WJyh8ECWIj"
      },
      "source": [
        "y_test_predict = lr.predict(X_test)"
      ],
      "execution_count": 60,
      "outputs": []
    },
    {
      "cell_type": "code",
      "metadata": {
        "id": "An2o4w4rQt8m",
        "colab": {
          "base_uri": "https://localhost:8080/"
        },
        "outputId": "24d94adf-d60b-4562-a47e-a76823af3066"
      },
      "source": [
        "y_test_predict"
      ],
      "execution_count": 61,
      "outputs": [
        {
          "output_type": "execute_result",
          "data": {
            "text/plain": [
              "array([0.17339921, 0.05359152, 0.24272457, ..., 0.19734795, 0.10388724,\n",
              "       0.07229729])"
            ]
          },
          "metadata": {},
          "execution_count": 61
        }
      ]
    },
    {
      "cell_type": "code",
      "metadata": {
        "id": "u_PbG0QiD-Md"
      },
      "source": [
        "from sklearn.metrics import mean_squared_error\n",
        "from sklearn.metrics import r2_score"
      ],
      "execution_count": 62,
      "outputs": []
    },
    {
      "cell_type": "code",
      "metadata": {
        "id": "Tt77A2dVD-xm",
        "colab": {
          "base_uri": "https://localhost:8080/"
        },
        "outputId": "c80cce68-249a-4702-937f-6e45c984a434"
      },
      "source": [
        "# avaliando, agora, o modelo de Regressão nos dados de treino\n",
        "y_train_predict = lr.predict(X_train)\n",
        "rmse = (np.sqrt(mean_squared_error(y_train, y_train_predict)))\n",
        "r2 = r2_score(y_train, y_train_predict)\n",
        "\n",
        "\n",
        "print(\"Perfomance do modelo para os dados de treino\")\n",
        "print(\"--------------------------------------\")\n",
        "print(f'RMSE: {rmse}')\n",
        "print(f'R2 score: {r2}')\n",
        "print(\"\\n\")\n",
        "\n",
        "# avaliando o modelo nos dados de teste\n",
        "rmse = (np.sqrt(mean_squared_error(y_test, y_test_predict)))\n",
        "r2 = r2_score(y_test, y_test_predict)\n",
        "\n",
        "print(\"Perfomance do modelo para os dados de teste\")\n",
        "print(\"--------------------------------------\")\n",
        "print(f'RMSE: {rmse}')\n",
        "print(f'R2 score: {r2}')\n",
        "print(\"\\n\")"
      ],
      "execution_count": 63,
      "outputs": [
        {
          "output_type": "stream",
          "name": "stdout",
          "text": [
            "Perfomance do modelo para os dados de treino\n",
            "--------------------------------------\n",
            "RMSE: 0.33468648021139663\n",
            "R2 score: 0.1827715558767773\n",
            "\n",
            "\n",
            "Perfomance do modelo para os dados de teste\n",
            "--------------------------------------\n",
            "RMSE: 0.34076418455244495\n",
            "R2 score: 0.178097817880988\n",
            "\n",
            "\n"
          ]
        }
      ]
    },
    {
      "cell_type": "markdown",
      "metadata": {
        "id": "PKWyWygxcSk8"
      },
      "source": [
        "Percebo que, sabendo da necessidade de possuir o R2 perto de 1, esse modelo não foi aqui bem aplicado nem é tão aceitável, porque, embora possua um RMSE baixo, o valor do R2 não está no esperado."
      ]
    },
    {
      "cell_type": "markdown",
      "metadata": {
        "id": "IQDGZDOVWk17"
      },
      "source": [
        "Assim, retomando este projeto também como treino e aprendizagem de seleção de modelos ou não, seguirei agora tentando utilizar o KNN - algoritmo de aprendizado supervisionado embasado \n",
        "na similaridade entre novos dados e os dados de treinamento, a qual é dada pela distância dos elementos.\n",
        "\n",
        "Por isso, os seguintes códigos são executados."
      ]
    },
    {
      "cell_type": "code",
      "metadata": {
        "id": "lUH1-cX7Ht5v"
      },
      "source": [
        "from sklearn.ensemble import BaggingClassifier\n",
        "from sklearn.neighbors import KNeighborsClassifier\n",
        "bagging = BaggingClassifier(KNeighborsClassifier(), max_samples=0.4, max_features=0.5)"
      ],
      "execution_count": 64,
      "outputs": []
    },
    {
      "cell_type": "code",
      "metadata": {
        "id": "Xb32asFIhh_o"
      },
      "source": [
        "from sklearn.neighbors import KNeighborsClassifier\n",
        "from sklearn.metrics import accuracy_score"
      ],
      "execution_count": 65,
      "outputs": []
    },
    {
      "cell_type": "code",
      "metadata": {
        "id": "gD52oPzAh6TF"
      },
      "source": [
        "k_range = range(1, 14)\n",
        "scores = {}\n",
        "scores_list = []\n",
        "for k in k_range:\n",
        "  KNN_colunas_selecionadas = KNeighborsClassifier(n_neighbors = k)\n",
        "  KNN_colunas_selecionadas.fit(X_train, y_train)\n",
        "  y_predict = KNN_colunas_selecionadas.predict(X_test)\n",
        "  scores[k] = accuracy_score(y_test, y_predict)\n",
        "  scores_list.append(accuracy_score(y_test, y_predict))"
      ],
      "execution_count": 158,
      "outputs": []
    },
    {
      "cell_type": "code",
      "metadata": {
        "colab": {
          "base_uri": "https://localhost:8080/",
          "height": 285
        },
        "id": "jLYjAW-Xmez3",
        "outputId": "65e214ab-08c0-4ad7-b7d4-0abf3a7c500d"
      },
      "source": [
        "plt.figure #gráfico feito para identificar o melhor valor de K (único hiperparâmetro, que sempre precisa ser um número inteiro, de tal modelo)\n",
        "plt.plot(k_range, scores_list)"
      ],
      "execution_count": 67,
      "outputs": [
        {
          "output_type": "execute_result",
          "data": {
            "text/plain": [
              "[<matplotlib.lines.Line2D at 0x7f69389fc6d0>]"
            ]
          },
          "metadata": {},
          "execution_count": 67
        },
        {
          "output_type": "display_data",
          "data": {
            "image/png": "[encoded data removed]",
            "text/plain": [
              "<Figure size 432x288 with 1 Axes>"
            ]
          },
          "metadata": {}
        }
      ]
    },
    {
      "cell_type": "markdown",
      "metadata": {
        "id": "xIXRY2CjiTvY"
      },
      "source": [
        "Percebo, assim, que o melhor valor de K seria 8: assim o insiro e já apresento as acurácias dos dois modelos."
      ]
    },
    {
      "cell_type": "code",
      "metadata": {
        "colab": {
          "base_uri": "https://localhost:8080/"
        },
        "id": "zRmo6dJ4hYRF",
        "outputId": "9e3f41bb-9666-4f2f-d889-9d740d8bb0d2"
      },
      "source": [
        "your_K = (7)\n",
        "KNN_colunas_selecionadas = KNeighborsClassifier(n_neighbors = your_K)\n",
        "KNN_colunas_selecionadas.fit(X_train, y_train)\n",
        "y_predict = KNN_colunas_selecionadas.predict(X_test)\n",
        "print(y_predict)"
      ],
      "execution_count": 159,
      "outputs": [
        {
          "output_type": "stream",
          "name": "stdout",
          "text": [
            "[0 0 0 ... 0 0 0]\n"
          ]
        }
      ]
    },
    {
      "cell_type": "code",
      "metadata": {
        "colab": {
          "base_uri": "https://localhost:8080/"
        },
        "id": "58C5eCJUGA_L",
        "outputId": "f7bd8ea9-d5f5-4a69-a4c5-f8f80ab1f701"
      },
      "source": [
        "your_K = (7)\n",
        "KNN_df_completo = KNeighborsClassifier(n_neighbors = your_K)\n",
        "KNN_df_completo.fit(X2_train, y2_train)\n",
        "y2_predict = KNN_df_completo.predict(X2_test)\n",
        "print(y2_predict)"
      ],
      "execution_count": 154,
      "outputs": [
        {
          "output_type": "stream",
          "name": "stdout",
          "text": [
            "[0 0 0 ... 0 0 0]\n"
          ]
        }
      ]
    },
    {
      "cell_type": "code",
      "metadata": {
        "colab": {
          "base_uri": "https://localhost:8080/"
        },
        "id": "GvJZCbG_jydV",
        "outputId": "e4a3f76b-cb18-47ca-90ae-d9706f2e5b5b"
      },
      "source": [
        "print(accuracy_score(y_test, y_predict))"
      ],
      "execution_count": 157,
      "outputs": [
        {
          "output_type": "stream",
          "name": "stdout",
          "text": [
            "0.8491411501120238\n"
          ]
        }
      ]
    },
    {
      "cell_type": "code",
      "metadata": {
        "colab": {
          "base_uri": "https://localhost:8080/"
        },
        "id": "bsaRLRbwGgIN",
        "outputId": "381476b5-13b3-4bb1-b404-31d6b7cc8aaf"
      },
      "source": [
        "print(accuracy_score(y2_test, y2_predict))"
      ],
      "execution_count": 156,
      "outputs": [
        {
          "output_type": "stream",
          "name": "stdout",
          "text": [
            "0.8174010455563854\n"
          ]
        }
      ]
    },
    {
      "cell_type": "markdown",
      "metadata": {
        "id": "-pKcX48_gEL3"
      },
      "source": [
        "Assim, comparando as acurácias, é possível perceber que realmente o modelo com apenas as colunas selecionadas (representado pelas variáveis y_test, y_predict - fitadas em KNN_colunas_selecionadas) apresentou maior eficiência para o desejado, se comparado com as acurácias oriundas do modelo KKN_df_completo."
      ]
    },
    {
      "cell_type": "markdown",
      "metadata": {
        "id": "p8Y6orPCiEiR"
      },
      "source": [
        "Falando de colunas selecionadas, a seguir experimento outro modelo, mais uma vez separando os dados - nas variáveis x3 e y3 - nas colunas selecionadas pela análise já feita (\"company_type\", \"major_discipline\", \"training_hours\"), e, nas variáveis x4 e y4, deixando praticamente todo o df. \n",
        "\n",
        "Usando agora o modelo de Naive Bayes, define-se que este é embasado no Teorema de Bayes, muito calcado em probabilidade (\"Esse teorema nos fornece uma relação entre as probabilidades condicionais.\" (FERNANDES, MATSUMOTO, LOBIANCO, 2019, https://medium.com/turing-talks/turing-talks-15-fundamentos-de-probabilidade-para-machine-learning-73dd3202e4c5). \n",
        "\n",
        "Vamos a tais separações."
      ]
    },
    {
      "cell_type": "code",
      "metadata": {
        "id": "pRjG-Yk6H-Ms"
      },
      "source": [
        "X3 = dftr[[\"company_type\", \"major_discipline\", \"training_hours\"]]\n",
        "\n",
        "y3 = dftr['target']\n",
        "\n",
        "X3_train, X3_test, y3_train, y3_test = train_test_split(X3, y3, test_size = 0.3,random_state=42)"
      ],
      "execution_count": 173,
      "outputs": []
    },
    {
      "cell_type": "code",
      "metadata": {
        "id": "PNTuIKejK-V4"
      },
      "source": [
        "X4 =  dftr.drop([\"target\", \"city\"], axis=1)\n",
        "\n",
        "y4 = dftr['target']\n",
        "\n",
        "X4_train, X4_test, y4_train, y4_test = train_test_split(X4, y4, test_size = 0.3,random_state=42)"
      ],
      "execution_count": 174,
      "outputs": []
    },
    {
      "cell_type": "markdown",
      "metadata": {
        "id": "BLNU8EV2PbN6"
      },
      "source": [
        "Em seguida, após importar o necessário, começo a fazer os dois modelos (chamados de NB_colunas_selecionadas e NB_df_completo), com suas respectivas acurácias."
      ]
    },
    {
      "cell_type": "code",
      "metadata": {
        "id": "G92NziizGVRl"
      },
      "source": [
        "from sklearn.naive_bayes import GaussianNB"
      ],
      "execution_count": 127,
      "outputs": []
    },
    {
      "cell_type": "code",
      "metadata": {
        "colab": {
          "base_uri": "https://localhost:8080/"
        },
        "id": "Ln_a-w1JLFTn",
        "outputId": "c7d5ceef-fce4-4bae-c4e0-68e613179b4a"
      },
      "source": [
        "NB_colunas_selecionadas = GaussianNB()\n",
        "NB_colunas_selecionadas.fit(X3_train, y3_train)\n",
        "y3_predict = NB_colunas_selecionadas.predict(X3_test)\n",
        "print(y3_predict)"
      ],
      "execution_count": 181,
      "outputs": [
        {
          "output_type": "stream",
          "name": "stdout",
          "text": [
            "[0 0 0 ... 0 0 0]\n"
          ]
        }
      ]
    },
    {
      "cell_type": "code",
      "metadata": {
        "colab": {
          "base_uri": "https://localhost:8080/"
        },
        "id": "MRNdqr-KLRNz",
        "outputId": "790cc630-e1d4-4681-e317-bb9e9f012038"
      },
      "source": [
        "print(accuracy_score(y3_test, y3_predict))"
      ],
      "execution_count": 177,
      "outputs": [
        {
          "output_type": "stream",
          "name": "stdout",
          "text": [
            "0.8297236743838685\n"
          ]
        }
      ]
    },
    {
      "cell_type": "code",
      "metadata": {
        "colab": {
          "base_uri": "https://localhost:8080/"
        },
        "id": "TYKBujLAJrI7",
        "outputId": "70bb5ce3-ad2b-487e-a08d-f8d69614c4ac"
      },
      "source": [
        "NB_df_completo = GaussianNB()\n",
        "NB_df_completo.fit(X4_train, y4_train)\n",
        "y4_predict = df_completo.predict(X4_test)\n",
        "print(y4_predict)"
      ],
      "execution_count": 178,
      "outputs": [
        {
          "output_type": "stream",
          "name": "stdout",
          "text": [
            "[0 0 0 ... 0 0 0]\n"
          ]
        }
      ]
    },
    {
      "cell_type": "code",
      "metadata": {
        "colab": {
          "base_uri": "https://localhost:8080/"
        },
        "id": "KM70FnGeJu5J",
        "outputId": "5b8feabf-fc79-4045-d603-678e126d425a"
      },
      "source": [
        "print(accuracy_score(y4_test, y4_predict))"
      ],
      "execution_count": 180,
      "outputs": [
        {
          "output_type": "stream",
          "name": "stdout",
          "text": [
            "0.8095593726661687\n"
          ]
        }
      ]
    },
    {
      "cell_type": "markdown",
      "metadata": {
        "id": "F-RxxRe3QepP"
      },
      "source": [
        "E, mais uma vez, verifico que a seleção das colunas mais uma vez foi mais eficaz para a predição, visto que a acurácia do modelo com algumas colunas (NB_colunas_selecionadas, com as variáveis x3 e y3) foi maior do que o NB_df_completo, com as variáveis x4 e y4."
      ]
    },
    {
      "cell_type": "markdown",
      "metadata": {
        "id": "PIHXt-CERNcj"
      },
      "source": [
        "Por fim, finalizando o projetinho, mais algumas métricas, além da acurácia, são testadas e importadas, como a matriz de confusão a seguir indica."
      ]
    },
    {
      "cell_type": "code",
      "metadata": {
        "colab": {
          "base_uri": "https://localhost:8080/"
        },
        "id": "GqYkjDa2E2uE",
        "outputId": "da1f6703-feb4-4cc2-e3dc-5d6df0c68c94"
      },
      "source": [
        "from sklearn.metrics import confusion_matrix\n",
        "print(confusion_matrix(y_test, y_predict))"
      ],
      "execution_count": 107,
      "outputs": [
        {
          "output_type": "stream",
          "name": "stdout",
          "text": [
            "[[2101  121]\n",
            " [ 283  173]]\n"
          ]
        }
      ]
    },
    {
      "cell_type": "code",
      "metadata": {
        "colab": {
          "base_uri": "https://localhost:8080/"
        },
        "id": "e3GH6WVLYUms",
        "outputId": "ee227df3-9cce-49e4-ba76-6c534fd6612b"
      },
      "source": [
        "from sklearn.metrics import confusion_matrix\n",
        "print(confusion_matrix(y2_test, y2_predict))"
      ],
      "execution_count": 191,
      "outputs": [
        {
          "output_type": "stream",
          "name": "stdout",
          "text": [
            "[[2158   64]\n",
            " [ 425   31]]\n"
          ]
        }
      ]
    },
    {
      "cell_type": "markdown",
      "metadata": {
        "id": "Vahl6IKqYica"
      },
      "source": [
        "Printando as métricas dos modelos usados sobre o KNN, ratifica-se que o modelo com as colunas selecionadas apresentou menores erros, tanto do tipo 1 quanto do tipo 2, e, para melhor ilustrar isso, os gráficos a seguir são plotados, depois dos fit necessários. "
      ]
    },
    {
      "cell_type": "code",
      "metadata": {
        "colab": {
          "base_uri": "https://localhost:8080/"
        },
        "id": "_dJ9hgr8ZIu1",
        "outputId": "e5334bab-3d50-4d83-a552-81e2006765b4"
      },
      "source": [
        "KNN_colunas_selecionadas.fit(X_train, y_train)"
      ],
      "execution_count": 194,
      "outputs": [
        {
          "output_type": "execute_result",
          "data": {
            "text/plain": [
              "KNeighborsClassifier(n_neighbors=7)"
            ]
          },
          "metadata": {},
          "execution_count": 194
        }
      ]
    },
    {
      "cell_type": "code",
      "metadata": {
        "colab": {
          "base_uri": "https://localhost:8080/",
          "height": 356
        },
        "id": "ZmmlTvUPZIGC",
        "outputId": "c44ac43b-0b7f-4bb0-da0f-2d17e6315fa7"
      },
      "source": [
        "plot_confusion_matrix(KNN_colunas_selecionadas, X_test, y_test, values_format='d')\n",
        "plt.title('Matriz do KNN com colunas selecionadas')\n",
        "\n",
        "plt.show()"
      ],
      "execution_count": 196,
      "outputs": [
        {
          "output_type": "stream",
          "name": "stderr",
          "text": [
            "/usr/local/lib/python3.7/dist-packages/sklearn/utils/deprecation.py:87: FutureWarning: Function plot_confusion_matrix is deprecated; Function `plot_confusion_matrix` is deprecated in 1.0 and will be removed in 1.2. Use one of the class methods: ConfusionMatrixDisplay.from_predictions or ConfusionMatrixDisplay.from_estimator.\n",
            "  warnings.warn(msg, category=FutureWarning)\n"
          ]
        },
        {
          "output_type": "display_data",
          "data": {
            "image/png": "[encoded data removed]",
            "text/plain": [
              "<Figure size 432x288 with 2 Axes>"
            ]
          },
          "metadata": {}
        }
      ]
    },
    {
      "cell_type": "code",
      "metadata": {
        "colab": {
          "base_uri": "https://localhost:8080/"
        },
        "id": "SGZAg0a3W5mi",
        "outputId": "d99690aa-96e1-4ae4-ea91-d5adbff997a0"
      },
      "source": [
        "KNN_df_completo.fit(X2_train, y2_train)"
      ],
      "execution_count": 198,
      "outputs": [
        {
          "output_type": "execute_result",
          "data": {
            "text/plain": [
              "KNeighborsClassifier(n_neighbors=7)"
            ]
          },
          "metadata": {},
          "execution_count": 198
        }
      ]
    },
    {
      "cell_type": "code",
      "metadata": {
        "colab": {
          "base_uri": "https://localhost:8080/",
          "height": 356
        },
        "id": "ARGlJELoXJrV",
        "outputId": "aa73d548-9358-4a92-9e1e-3869313e226f"
      },
      "source": [
        "plot_confusion_matrix(KNN_df_completo, X2_test, y2_test, values_format='d')\n",
        "plt.title('Matriz do KNN com o df todo')\n",
        "\n",
        "plt.show()"
      ],
      "execution_count": 199,
      "outputs": [
        {
          "output_type": "stream",
          "name": "stderr",
          "text": [
            "/usr/local/lib/python3.7/dist-packages/sklearn/utils/deprecation.py:87: FutureWarning: Function plot_confusion_matrix is deprecated; Function `plot_confusion_matrix` is deprecated in 1.0 and will be removed in 1.2. Use one of the class methods: ConfusionMatrixDisplay.from_predictions or ConfusionMatrixDisplay.from_estimator.\n",
            "  warnings.warn(msg, category=FutureWarning)\n"
          ]
        },
        {
          "output_type": "display_data",
          "data": {
            "image/png": "[encoded data removed]",
            "text/plain": [
              "<Figure size 432x288 with 2 Axes>"
            ]
          },
          "metadata": {}
        }
      ]
    },
    {
      "cell_type": "markdown",
      "metadata": {
        "id": "_CkJNJiuaazm"
      },
      "source": [
        "Por fim, utilizo mais uma métrica para comparar agora os modelos oriundos do NB. Como é possível perceber, após fitar o necessário também, são expressos os scores de cada acurácia.  "
      ]
    },
    {
      "cell_type": "code",
      "metadata": {
        "colab": {
          "base_uri": "https://localhost:8080/"
        },
        "id": "eaWFGgbdZ5oO",
        "outputId": "308225c1-f400-4673-a1bc-67da9e6aae3d"
      },
      "source": [
        "NB_colunas_selecionadas.fit(X3_train, y3_train)"
      ],
      "execution_count": 200,
      "outputs": [
        {
          "output_type": "execute_result",
          "data": {
            "text/plain": [
              "GaussianNB()"
            ]
          },
          "metadata": {},
          "execution_count": 200
        }
      ]
    },
    {
      "cell_type": "code",
      "metadata": {
        "colab": {
          "base_uri": "https://localhost:8080/"
        },
        "id": "anUNLIYmnjPs",
        "outputId": "e3447787-b8ce-475b-9a53-7b9d7332440a"
      },
      "source": [
        "score1 = NB_colunas_selecionadas.score(X3_test, y3_test)\n",
        "print(f'Acurácia NB_colunas_selecionadas: {score1*100:.2f}%')"
      ],
      "execution_count": 208,
      "outputs": [
        {
          "output_type": "stream",
          "name": "stdout",
          "text": [
            "Acurácia NB_colunas_selecionadas: 82.97%\n"
          ]
        }
      ]
    },
    {
      "cell_type": "code",
      "metadata": {
        "colab": {
          "base_uri": "https://localhost:8080/"
        },
        "id": "vy5o-viNaFjJ",
        "outputId": "cf0663cc-4c17-4dfa-9f98-012838aed1f4"
      },
      "source": [
        "NB_df_completo.fit(X4_train, y4_train)"
      ],
      "execution_count": 203,
      "outputs": [
        {
          "output_type": "execute_result",
          "data": {
            "text/plain": [
              "GaussianNB()"
            ]
          },
          "metadata": {},
          "execution_count": 203
        }
      ]
    },
    {
      "cell_type": "code",
      "metadata": {
        "colab": {
          "base_uri": "https://localhost:8080/"
        },
        "id": "aOgP-7cPaJMq",
        "outputId": "6ec42cb8-2bfd-4623-d31b-b1b42fbac9c6"
      },
      "source": [
        "score2 = NB_df_completo.score(X4_test, y4_test)\n",
        "print(f'Acurácia NB_df_completo: {score2*100:.2f}%')"
      ],
      "execution_count": 209,
      "outputs": [
        {
          "output_type": "stream",
          "name": "stdout",
          "text": [
            "Acurácia NB_df_completo: 80.96%\n"
          ]
        }
      ]
    },
    {
      "cell_type": "markdown",
      "metadata": {
        "id": "yZPzoEzVa0Q_"
      },
      "source": [
        "E, mais uma vez, o modelo com as colunas selecionadas apresenta melhor métrica e acurácia, assim encerrando este projetinho. "
      ]
    },
    {
      "cell_type": "markdown",
      "metadata": {
        "id": "0jvwAGx_6iOR"
      },
      "source": [
        "# Conclusão\n",
        "\n",
        "Neste segundo pequeno projeto, busquei demonstrar o aprendido sobre limpeza e análise de um DataFrame.\n",
        "\n",
        "Utilizei, também, os conhecimentos adquiridos nas aulas a respeito das bibliotecas de manipulação e análise de dados, além de noções sobre aprendizado supervisionado e métricas.\n",
        "\n",
        "Após fazer a limpeza e análise dos dados, também buscando expressar mais dados de aspecto geral do df (concordando com o feedback do último projetinho),  percebi quais colunas seriam interessantes e as apliquei nos modelos de predição, simultaneamente comparando com os modelos preditórios com a maioria das colunas.\n",
        "\n",
        "Como apresentado, além de buscar cumprir o exigido, esbocei também alguns testes e busquei demonstrar a habilidade de filtrar o que é aceitável ou não, como a percepção e ciência de que a substituição de todas as colunas categóricas para numéricas não obteve total êxito e lógica, ou a ineficiência do modelo de regressão linear por sua baixa acurácia neste caso.\n",
        "\n",
        "Em suma, busquei limpar os dfs, diversificar e analisar os gráficos, explorando os Datasets e consolidando modelos de predição relevantes e ratificados por diferentes métricas além da acurácia. Fortalecendo, assim, a noção de Limpeza, Análise e Predição de Dados."
      ]
    }
  ]
}